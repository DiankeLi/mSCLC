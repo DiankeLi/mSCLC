{
 "cells": [
  {
   "cell_type": "code",
   "execution_count": 1,
   "id": "50320ddb-0b3f-4f24-8d59-c02f9b35437b",
   "metadata": {
    "scrolled": true,
    "tags": []
   },
   "outputs": [
    {
     "name": "stderr",
     "output_type": "stream",
     "text": [
      "── \u001b[1mAttaching packages\u001b[22m ─────────────────────────────────────────────────────────────────────────────────────── tidyverse 1.3.1 ──\n",
      "\n",
      "\u001b[32m✔\u001b[39m \u001b[34mggplot2\u001b[39m 3.3.5     \u001b[32m✔\u001b[39m \u001b[34mpurrr  \u001b[39m 0.3.4\n",
      "\u001b[32m✔\u001b[39m \u001b[34mtibble \u001b[39m 3.1.6     \u001b[32m✔\u001b[39m \u001b[34mdplyr  \u001b[39m 1.0.7\n",
      "\u001b[32m✔\u001b[39m \u001b[34mtidyr  \u001b[39m 1.1.4     \u001b[32m✔\u001b[39m \u001b[34mstringr\u001b[39m 1.4.0\n",
      "\u001b[32m✔\u001b[39m \u001b[34mreadr  \u001b[39m 2.1.1     \u001b[32m✔\u001b[39m \u001b[34mforcats\u001b[39m 0.5.1\n",
      "\n",
      "── \u001b[1mConflicts\u001b[22m ────────────────────────────────────────────────────────────────────────────────────────── tidyverse_conflicts() ──\n",
      "\u001b[31m✖\u001b[39m \u001b[34mdplyr\u001b[39m::\u001b[32mfilter()\u001b[39m masks \u001b[34mstats\u001b[39m::filter()\n",
      "\u001b[31m✖\u001b[39m \u001b[34mdplyr\u001b[39m::\u001b[32mlag()\u001b[39m    masks \u001b[34mstats\u001b[39m::lag()\n",
      "\n",
      "Loading required package: pkgmaker\n",
      "\n",
      "Loading required package: registry\n",
      "\n",
      "Loading required package: rngtools\n",
      "\n",
      "Loading required package: cluster\n",
      "\n",
      "NMF - BioConductor layer [OK] | Shared memory capabilities [NO: bigmemory] | Cores 63/64\n",
      "\n",
      "  To enable shared memory capabilities, try: install.extras('\n",
      "NMF\n",
      "')\n",
      "\n",
      "Registered S3 method overwritten by 'spatstat.geom':\n",
      "  method     from\n",
      "  print.boxx cli \n",
      "\n",
      "Attaching SeuratObject\n",
      "\n",
      "corrplot 0.92 loaded\n",
      "\n",
      "Loading required package: AnnotationDbi\n",
      "\n",
      "Loading required package: stats4\n",
      "\n",
      "Loading required package: IRanges\n",
      "\n",
      "Loading required package: S4Vectors\n",
      "\n",
      "\n",
      "Attaching package: ‘S4Vectors’\n",
      "\n",
      "\n",
      "The following object is masked from ‘package:NMF’:\n",
      "\n",
      "    nrun\n",
      "\n",
      "\n",
      "The following object is masked from ‘package:pkgmaker’:\n",
      "\n",
      "    new2\n",
      "\n",
      "\n",
      "The following objects are masked from ‘package:dplyr’:\n",
      "\n",
      "    first, rename\n",
      "\n",
      "\n",
      "The following object is masked from ‘package:tidyr’:\n",
      "\n",
      "    expand\n",
      "\n",
      "\n",
      "The following objects are masked from ‘package:base’:\n",
      "\n",
      "    expand.grid, I, unname\n",
      "\n",
      "\n",
      "\n",
      "Attaching package: ‘IRanges’\n",
      "\n",
      "\n",
      "The following objects are masked from ‘package:dplyr’:\n",
      "\n",
      "    collapse, desc, slice\n",
      "\n",
      "\n",
      "The following object is masked from ‘package:purrr’:\n",
      "\n",
      "    reduce\n",
      "\n",
      "\n",
      "\n",
      "Attaching package: ‘AnnotationDbi’\n",
      "\n",
      "\n",
      "The following object is masked from ‘package:dplyr’:\n",
      "\n",
      "    select\n",
      "\n",
      "\n",
      "\n",
      "\n",
      "\n",
      "\n",
      "clusterProfiler v4.2.1  For help: https://yulab-smu.top/biomedical-knowledge-mining-book/\n",
      "\n",
      "If you use clusterProfiler in published research, please cite:\n",
      "T Wu, E Hu, S Xu, M Chen, P Guo, Z Dai, T Feng, L Zhou, W Tang, L Zhan, X Fu, S Liu, X Bo, and G Yu. clusterProfiler 4.0: A universal enrichment tool for interpreting omics data. The Innovation. 2021, 2(3):100141\n",
      "\n",
      "\n",
      "Attaching package: ‘clusterProfiler’\n",
      "\n",
      "\n",
      "The following object is masked from ‘package:AnnotationDbi’:\n",
      "\n",
      "    select\n",
      "\n",
      "\n",
      "The following object is masked from ‘package:IRanges’:\n",
      "\n",
      "    slice\n",
      "\n",
      "\n",
      "The following object is masked from ‘package:S4Vectors’:\n",
      "\n",
      "    rename\n",
      "\n",
      "\n",
      "The following object is masked from ‘package:purrr’:\n",
      "\n",
      "    simplify\n",
      "\n",
      "\n",
      "The following object is masked from ‘package:stats’:\n",
      "\n",
      "    filter\n",
      "\n",
      "\n"
     ]
    },
    {
     "data": {
      "text/html": [
       "'/media/inspur/AS2150G2/LDK/sclc_metastasis'"
      ],
      "text/latex": [
       "'/media/inspur/AS2150G2/LDK/sclc\\_metastasis'"
      ],
      "text/markdown": [
       "'/media/inspur/AS2150G2/LDK/sclc_metastasis'"
      ],
      "text/plain": [
       "[1] \"/media/inspur/AS2150G2/LDK/sclc_metastasis\""
      ]
     },
     "metadata": {},
     "output_type": "display_data"
    }
   ],
   "source": [
    "library(tidyverse)\n",
    "library(NMF)\n",
    "library(Seurat)\n",
    "library(RColorBrewer)\n",
    "library(corrplot)\n",
    "library(org.Hs.eg.db)\n",
    "library(clusterProfiler)\n",
    "library(AUCell)\n",
    "\n",
    "setwd(\"/media/inspur/AS2150G2/LDK/sclc_metastasis/\")\n",
    "getwd()"
   ]
  },
  {
   "cell_type": "code",
   "execution_count": 2,
   "id": "50a6ebe3-3b93-4174-8a65-4285be2fc2f8",
   "metadata": {},
   "outputs": [
    {
     "data": {
      "text/html": [
       "<style>\n",
       ".list-inline {list-style: none; margin:0; padding: 0}\n",
       ".list-inline>li {display: inline-block}\n",
       ".list-inline>li:not(:last-child)::after {content: \"\\00b7\"; padding: 0 .5ex}\n",
       "</style>\n",
       "<ol class=list-inline><li>'subset_NSCLC'</li><li>'subset_SCLC'</li></ol>\n"
      ],
      "text/latex": [
       "\\begin{enumerate*}\n",
       "\\item 'subset\\_NSCLC'\n",
       "\\item 'subset\\_SCLC'\n",
       "\\end{enumerate*}\n"
      ],
      "text/markdown": [
       "1. 'subset_NSCLC'\n",
       "2. 'subset_SCLC'\n",
       "\n",
       "\n"
      ],
      "text/plain": [
       "[1] \"subset_NSCLC\" \"subset_SCLC\" "
      ]
     },
     "metadata": {},
     "output_type": "display_data"
    }
   ],
   "source": [
    "readRDS(\"/media/inspur/AS2150G2/LDK/sclc_metastasis/rds_from_Mr.wang/NSCLC_celltype.rds\")-> subset_NSCLC\n",
    "load(\"/media/inspur/AS2150G2/LDK/sclc_metastasis/data_out/2.SCLC.filter.rdata\")\n",
    "subset_SCLC <- SCLC.filter; rm(SCLC.filter);ls()"
   ]
  },
  {
   "cell_type": "code",
   "execution_count": 3,
   "id": "7408644c-9bf4-4784-9d55-d427af00c41b",
   "metadata": {},
   "outputs": [],
   "source": [
    "subset(subset_NSCLC, new_celltype ==\"Epithelial\")->NSCLC_tumor\n",
    "subset(subset_SCLC, celltype ==\"tumor\")->SCLC_tumor"
   ]
  },
  {
   "cell_type": "code",
   "execution_count": 4,
   "id": "0278e3f9-af1a-4809-9a1b-3fa88d4b1cb8",
   "metadata": {},
   "outputs": [],
   "source": [
    "tumorcell <- merge(NSCLC_tumor, y = SCLC_tumor, project = \"tumor\")"
   ]
  },
  {
   "cell_type": "code",
   "execution_count": 5,
   "id": "d92ede8b-7fbf-4890-9b4c-9b990cc7201a",
   "metadata": {},
   "outputs": [],
   "source": [
    "# saveRDS(tumorcell, file = \"data_out/3.2.tumorcell.rds\")\n",
    "# readRDS(\"data_out/3.2.tumorcell.rds\")->tumorcell"
   ]
  },
  {
   "cell_type": "code",
   "execution_count": 6,
   "id": "218c43be-e252-4abf-abbe-9e25a120c0b1",
   "metadata": {},
   "outputs": [
    {
     "data": {
      "text/plain": [
       "An object of class Seurat \n",
       "39839 features across 15024 samples within 1 assay \n",
       "Active assay: RNA (39839 features, 0 variable features)"
      ]
     },
     "metadata": {},
     "output_type": "display_data"
    },
    {
     "data": {
      "text/html": [
       "<table class=\"dataframe\">\n",
       "<caption>A data.frame: 6 × 22</caption>\n",
       "<thead>\n",
       "\t<tr><th></th><th scope=col>orig.ident</th><th scope=col>nCount_RNA</th><th scope=col>nFeature_RNA</th><th scope=col>UMAP_1</th><th scope=col>UMAP_2</th><th scope=col>Celltype..malignancy.</th><th scope=col>Celltype..major.lineage.</th><th scope=col>Celltype..minor.lineage.</th><th scope=col>seurat_clusters</th><th scope=col>Sample</th><th scope=col>⋯</th><th scope=col>Source</th><th scope=col>Stage</th><th scope=col>celltype</th><th scope=col>percent.mt</th><th scope=col>RNA_snn_res.0.5</th><th scope=col>RNA_snn_res.2</th><th scope=col>new_celltype</th><th scope=col>sample</th><th scope=col>percent.HB</th><th scope=col>RNA_snn_res.0.8</th></tr>\n",
       "\t<tr><th></th><th scope=col>&lt;chr&gt;</th><th scope=col>&lt;dbl&gt;</th><th scope=col>&lt;int&gt;</th><th scope=col>&lt;dbl&gt;</th><th scope=col>&lt;dbl&gt;</th><th scope=col>&lt;chr&gt;</th><th scope=col>&lt;chr&gt;</th><th scope=col>&lt;chr&gt;</th><th scope=col>&lt;chr&gt;</th><th scope=col>&lt;chr&gt;</th><th scope=col>⋯</th><th scope=col>&lt;chr&gt;</th><th scope=col>&lt;chr&gt;</th><th scope=col>&lt;chr&gt;</th><th scope=col>&lt;dbl&gt;</th><th scope=col>&lt;chr&gt;</th><th scope=col>&lt;chr&gt;</th><th scope=col>&lt;chr&gt;</th><th scope=col>&lt;chr&gt;</th><th scope=col>&lt;dbl&gt;</th><th scope=col>&lt;chr&gt;</th></tr>\n",
       "</thead>\n",
       "<tbody>\n",
       "\t<tr><th scope=row>ACTTACTAGAACAACT_LN_11</th><td>LN_11  </td><td>8660</td><td>1808</td><td>-5.955090</td><td>4.8156635</td><td>Immune cells</td><td>B       </td><td>B    </td><td>29</td><td>LN_11  </td><td>⋯</td><td>Pleural effusion</td><td>Primary   </td><td>B       </td><td>0.5773672</td><td>16</td><td>29</td><td>Epithelial</td><td>NA</td><td>NA</td><td>NA</td></tr>\n",
       "\t<tr><th scope=row>AAGGTTCAGCGAGAAA_LN_11</th><td>LN_11  </td><td>3544</td><td>1036</td><td>-6.195390</td><td>5.1381489</td><td>Immune cells</td><td>CD4Tconv</td><td>CD4Tn</td><td>18</td><td>LN_11  </td><td>⋯</td><td>Pleural effusion</td><td>Primary   </td><td>CD4Tconv</td><td>0.3103837</td><td>6 </td><td>18</td><td>Epithelial</td><td>NA</td><td>NA</td><td>NA</td></tr>\n",
       "\t<tr><th scope=row>ATCATGGTCTAACGGT_EBUS_19</th><td>EBUS_19</td><td>6750</td><td>2185</td><td>-4.173180</td><td>0.9200947</td><td>Immune cells</td><td>CD4Tconv</td><td>CD4Tn</td><td>31</td><td>EBUS_19</td><td>⋯</td><td>mLN             </td><td>Metastatic</td><td>CD4Tconv</td><td>2.6370370</td><td>17</td><td>31</td><td>Epithelial</td><td>NA</td><td>NA</td><td>NA</td></tr>\n",
       "\t<tr><th scope=row>CAGCCGAGTCATCGGC_LN_11</th><td>LN_11  </td><td>3935</td><td>1566</td><td>-5.665856</td><td>4.9351789</td><td>Immune cells</td><td>CD4Tconv</td><td>CD4Tn</td><td>18</td><td>LN_11  </td><td>⋯</td><td>Pleural effusion</td><td>Primary   </td><td>CD4Tconv</td><td>0.2795426</td><td>6 </td><td>18</td><td>Epithelial</td><td>NA</td><td>NA</td><td>NA</td></tr>\n",
       "\t<tr><th scope=row>CCACGGAAGTTATCGC_LN_07</th><td>LN_07  </td><td>5258</td><td>1821</td><td>-5.763158</td><td>3.1899425</td><td>Immune cells</td><td>CD4Tconv</td><td>CD4Tn</td><td>18</td><td>LN_07  </td><td>⋯</td><td>Pleural effusion</td><td>Primary   </td><td>CD4Tconv</td><td>5.8577406</td><td>6 </td><td>18</td><td>Epithelial</td><td>NA</td><td>NA</td><td>NA</td></tr>\n",
       "\t<tr><th scope=row>CTGAAACTCTCAAGTG_LN_04</th><td>LN_04  </td><td>3439</td><td>1248</td><td>-5.697272</td><td>3.6802415</td><td>Immune cells</td><td>CD4Tconv</td><td>CD4Tn</td><td>18</td><td>LN_04  </td><td>⋯</td><td>nLN             </td><td>Primary   </td><td>CD4Tconv</td><td>2.5588834</td><td>6 </td><td>18</td><td>Epithelial</td><td>NA</td><td>NA</td><td>NA</td></tr>\n",
       "</tbody>\n",
       "</table>\n"
      ],
      "text/latex": [
       "A data.frame: 6 × 22\n",
       "\\begin{tabular}{r|lllllllllllllllllllll}\n",
       "  & orig.ident & nCount\\_RNA & nFeature\\_RNA & UMAP\\_1 & UMAP\\_2 & Celltype..malignancy. & Celltype..major.lineage. & Celltype..minor.lineage. & seurat\\_clusters & Sample & ⋯ & Source & Stage & celltype & percent.mt & RNA\\_snn\\_res.0.5 & RNA\\_snn\\_res.2 & new\\_celltype & sample & percent.HB & RNA\\_snn\\_res.0.8\\\\\n",
       "  & <chr> & <dbl> & <int> & <dbl> & <dbl> & <chr> & <chr> & <chr> & <chr> & <chr> & ⋯ & <chr> & <chr> & <chr> & <dbl> & <chr> & <chr> & <chr> & <chr> & <dbl> & <chr>\\\\\n",
       "\\hline\n",
       "\tACTTACTAGAACAACT\\_LN\\_11 & LN\\_11   & 8660 & 1808 & -5.955090 & 4.8156635 & Immune cells & B        & B     & 29 & LN\\_11   & ⋯ & Pleural effusion & Primary    & B        & 0.5773672 & 16 & 29 & Epithelial & NA & NA & NA\\\\\n",
       "\tAAGGTTCAGCGAGAAA\\_LN\\_11 & LN\\_11   & 3544 & 1036 & -6.195390 & 5.1381489 & Immune cells & CD4Tconv & CD4Tn & 18 & LN\\_11   & ⋯ & Pleural effusion & Primary    & CD4Tconv & 0.3103837 & 6  & 18 & Epithelial & NA & NA & NA\\\\\n",
       "\tATCATGGTCTAACGGT\\_EBUS\\_19 & EBUS\\_19 & 6750 & 2185 & -4.173180 & 0.9200947 & Immune cells & CD4Tconv & CD4Tn & 31 & EBUS\\_19 & ⋯ & mLN              & Metastatic & CD4Tconv & 2.6370370 & 17 & 31 & Epithelial & NA & NA & NA\\\\\n",
       "\tCAGCCGAGTCATCGGC\\_LN\\_11 & LN\\_11   & 3935 & 1566 & -5.665856 & 4.9351789 & Immune cells & CD4Tconv & CD4Tn & 18 & LN\\_11   & ⋯ & Pleural effusion & Primary    & CD4Tconv & 0.2795426 & 6  & 18 & Epithelial & NA & NA & NA\\\\\n",
       "\tCCACGGAAGTTATCGC\\_LN\\_07 & LN\\_07   & 5258 & 1821 & -5.763158 & 3.1899425 & Immune cells & CD4Tconv & CD4Tn & 18 & LN\\_07   & ⋯ & Pleural effusion & Primary    & CD4Tconv & 5.8577406 & 6  & 18 & Epithelial & NA & NA & NA\\\\\n",
       "\tCTGAAACTCTCAAGTG\\_LN\\_04 & LN\\_04   & 3439 & 1248 & -5.697272 & 3.6802415 & Immune cells & CD4Tconv & CD4Tn & 18 & LN\\_04   & ⋯ & nLN              & Primary    & CD4Tconv & 2.5588834 & 6  & 18 & Epithelial & NA & NA & NA\\\\\n",
       "\\end{tabular}\n"
      ],
      "text/markdown": [
       "\n",
       "A data.frame: 6 × 22\n",
       "\n",
       "| <!--/--> | orig.ident &lt;chr&gt; | nCount_RNA &lt;dbl&gt; | nFeature_RNA &lt;int&gt; | UMAP_1 &lt;dbl&gt; | UMAP_2 &lt;dbl&gt; | Celltype..malignancy. &lt;chr&gt; | Celltype..major.lineage. &lt;chr&gt; | Celltype..minor.lineage. &lt;chr&gt; | seurat_clusters &lt;chr&gt; | Sample &lt;chr&gt; | ⋯ ⋯ | Source &lt;chr&gt; | Stage &lt;chr&gt; | celltype &lt;chr&gt; | percent.mt &lt;dbl&gt; | RNA_snn_res.0.5 &lt;chr&gt; | RNA_snn_res.2 &lt;chr&gt; | new_celltype &lt;chr&gt; | sample &lt;chr&gt; | percent.HB &lt;dbl&gt; | RNA_snn_res.0.8 &lt;chr&gt; |\n",
       "|---|---|---|---|---|---|---|---|---|---|---|---|---|---|---|---|---|---|---|---|---|---|\n",
       "| ACTTACTAGAACAACT_LN_11 | LN_11   | 8660 | 1808 | -5.955090 | 4.8156635 | Immune cells | B        | B     | 29 | LN_11   | ⋯ | Pleural effusion | Primary    | B        | 0.5773672 | 16 | 29 | Epithelial | NA | NA | NA |\n",
       "| AAGGTTCAGCGAGAAA_LN_11 | LN_11   | 3544 | 1036 | -6.195390 | 5.1381489 | Immune cells | CD4Tconv | CD4Tn | 18 | LN_11   | ⋯ | Pleural effusion | Primary    | CD4Tconv | 0.3103837 | 6  | 18 | Epithelial | NA | NA | NA |\n",
       "| ATCATGGTCTAACGGT_EBUS_19 | EBUS_19 | 6750 | 2185 | -4.173180 | 0.9200947 | Immune cells | CD4Tconv | CD4Tn | 31 | EBUS_19 | ⋯ | mLN              | Metastatic | CD4Tconv | 2.6370370 | 17 | 31 | Epithelial | NA | NA | NA |\n",
       "| CAGCCGAGTCATCGGC_LN_11 | LN_11   | 3935 | 1566 | -5.665856 | 4.9351789 | Immune cells | CD4Tconv | CD4Tn | 18 | LN_11   | ⋯ | Pleural effusion | Primary    | CD4Tconv | 0.2795426 | 6  | 18 | Epithelial | NA | NA | NA |\n",
       "| CCACGGAAGTTATCGC_LN_07 | LN_07   | 5258 | 1821 | -5.763158 | 3.1899425 | Immune cells | CD4Tconv | CD4Tn | 18 | LN_07   | ⋯ | Pleural effusion | Primary    | CD4Tconv | 5.8577406 | 6  | 18 | Epithelial | NA | NA | NA |\n",
       "| CTGAAACTCTCAAGTG_LN_04 | LN_04   | 3439 | 1248 | -5.697272 | 3.6802415 | Immune cells | CD4Tconv | CD4Tn | 18 | LN_04   | ⋯ | nLN              | Primary    | CD4Tconv | 2.5588834 | 6  | 18 | Epithelial | NA | NA | NA |\n",
       "\n"
      ],
      "text/plain": [
       "                         orig.ident nCount_RNA nFeature_RNA UMAP_1    UMAP_2   \n",
       "ACTTACTAGAACAACT_LN_11   LN_11      8660       1808         -5.955090 4.8156635\n",
       "AAGGTTCAGCGAGAAA_LN_11   LN_11      3544       1036         -6.195390 5.1381489\n",
       "ATCATGGTCTAACGGT_EBUS_19 EBUS_19    6750       2185         -4.173180 0.9200947\n",
       "CAGCCGAGTCATCGGC_LN_11   LN_11      3935       1566         -5.665856 4.9351789\n",
       "CCACGGAAGTTATCGC_LN_07   LN_07      5258       1821         -5.763158 3.1899425\n",
       "CTGAAACTCTCAAGTG_LN_04   LN_04      3439       1248         -5.697272 3.6802415\n",
       "                         Celltype..malignancy. Celltype..major.lineage.\n",
       "ACTTACTAGAACAACT_LN_11   Immune cells          B                       \n",
       "AAGGTTCAGCGAGAAA_LN_11   Immune cells          CD4Tconv                \n",
       "ATCATGGTCTAACGGT_EBUS_19 Immune cells          CD4Tconv                \n",
       "CAGCCGAGTCATCGGC_LN_11   Immune cells          CD4Tconv                \n",
       "CCACGGAAGTTATCGC_LN_07   Immune cells          CD4Tconv                \n",
       "CTGAAACTCTCAAGTG_LN_04   Immune cells          CD4Tconv                \n",
       "                         Celltype..minor.lineage. seurat_clusters Sample  ⋯\n",
       "ACTTACTAGAACAACT_LN_11   B                        29              LN_11   ⋯\n",
       "AAGGTTCAGCGAGAAA_LN_11   CD4Tn                    18              LN_11   ⋯\n",
       "ATCATGGTCTAACGGT_EBUS_19 CD4Tn                    31              EBUS_19 ⋯\n",
       "CAGCCGAGTCATCGGC_LN_11   CD4Tn                    18              LN_11   ⋯\n",
       "CCACGGAAGTTATCGC_LN_07   CD4Tn                    18              LN_07   ⋯\n",
       "CTGAAACTCTCAAGTG_LN_04   CD4Tn                    18              LN_04   ⋯\n",
       "                         Source           Stage      celltype percent.mt\n",
       "ACTTACTAGAACAACT_LN_11   Pleural effusion Primary    B        0.5773672 \n",
       "AAGGTTCAGCGAGAAA_LN_11   Pleural effusion Primary    CD4Tconv 0.3103837 \n",
       "ATCATGGTCTAACGGT_EBUS_19 mLN              Metastatic CD4Tconv 2.6370370 \n",
       "CAGCCGAGTCATCGGC_LN_11   Pleural effusion Primary    CD4Tconv 0.2795426 \n",
       "CCACGGAAGTTATCGC_LN_07   Pleural effusion Primary    CD4Tconv 5.8577406 \n",
       "CTGAAACTCTCAAGTG_LN_04   nLN              Primary    CD4Tconv 2.5588834 \n",
       "                         RNA_snn_res.0.5 RNA_snn_res.2 new_celltype sample\n",
       "ACTTACTAGAACAACT_LN_11   16              29            Epithelial   NA    \n",
       "AAGGTTCAGCGAGAAA_LN_11   6               18            Epithelial   NA    \n",
       "ATCATGGTCTAACGGT_EBUS_19 17              31            Epithelial   NA    \n",
       "CAGCCGAGTCATCGGC_LN_11   6               18            Epithelial   NA    \n",
       "CCACGGAAGTTATCGC_LN_07   6               18            Epithelial   NA    \n",
       "CTGAAACTCTCAAGTG_LN_04   6               18            Epithelial   NA    \n",
       "                         percent.HB RNA_snn_res.0.8\n",
       "ACTTACTAGAACAACT_LN_11   NA         NA             \n",
       "AAGGTTCAGCGAGAAA_LN_11   NA         NA             \n",
       "ATCATGGTCTAACGGT_EBUS_19 NA         NA             \n",
       "CAGCCGAGTCATCGGC_LN_11   NA         NA             \n",
       "CCACGGAAGTTATCGC_LN_07   NA         NA             \n",
       "CTGAAACTCTCAAGTG_LN_04   NA         NA             "
      ]
     },
     "metadata": {},
     "output_type": "display_data"
    }
   ],
   "source": [
    "# check\n",
    "tumorcell\n",
    "head(tumorcell@meta.data)"
   ]
  },
  {
   "cell_type": "code",
   "execution_count": 7,
   "id": "e642d1fd-d35b-4f76-9394-d2e3cb7939c8",
   "metadata": {},
   "outputs": [],
   "source": [
    "topn <- 3000\n",
    "ranks <- 4\n",
    "library(NMF)"
   ]
  },
  {
   "cell_type": "code",
   "execution_count": 8,
   "id": "97b22a0e-6e19-4a76-9702-c0c1ba6b6a14",
   "metadata": {},
   "outputs": [],
   "source": [
    "patients=c(\"EBUS_10\",\"BRONCHO_11\",\"EBUS_12\",\"EBUS_13\",\"EBUS_15\",\"EBUS_19\",\"EBUS_51\",\"S1\",\"S2\",\"S3\",\"S4\",\"S5\",\"S6\",\"S7\")"
   ]
  },
  {
   "cell_type": "code",
   "execution_count": null,
   "id": "39de86df-6166-4b60-89b9-f1ea981156a2",
   "metadata": {},
   "outputs": [],
   "source": [
    "for (i in patients){\n",
    "  if (!dir.exists(\"nmfSingle\")){\n",
    "    dir.create(\"./nmfSingle\")\n",
    "  }\n",
    "   if (!dir.exists(paste0(\"nmfSingle/\", i))){\n",
    "    dir.create(paste0(\"nmfSingle/\", i))\n",
    "  }\n",
    "  #nmfdat <- epidat[, str_detect(colnames(epidat), i)]\n",
    "   nmfdat<-as.matrix(subset(tumorcell,orig.ident== i)$RNA@data)\n",
    "  ## Step 02: chose top 6000 genes with highest sds\n",
    "  nmfdat[nmfdat < 0] <- 0 # Gene expression values less than zero are replaced by 0\n",
    "  genesd <- apply(nmfdat, 1, sd)\n",
    "  topNgene <- genesd[order(genesd, decreasing = T)][1:topn]\n",
    "  nmfdat <- nmfdat[rownames(nmfdat) %in% names(topNgene), ]\n",
    "  # nrun可以选择在30-50之间\n",
    "  print(system.time(res_4 <- nmf(nmfdat, rank = ranks, method=\"brunet\", nrun=30, seed=123456))) \n",
    "  signature <- NMF::basis(res_4)\n",
    "  # consensusdat <- res_4@consensus \n",
    "  # 看聚类的轮廓值\n",
    "  # si <- silhouette(res_4, what = 'consensus')\n",
    "  # sicluster <- si[1:ncol(nmfdat), ]\n",
    "  # 保存NMF的一些聚类图\n",
    "  # tiff(paste0(\"./nmfSingle/\", i, \"/consensus_\", topn, \".tiff\"), \n",
    "   #     width = 6*480, height = 4*480, res = 300)\n",
    "   #consensusmap(res_4)\n",
    "   #dev.off()\n",
    "   #tiff(paste0(\"./nmfSingle/\", i, \"/basicmap_\", topn, \".tiff\"), \n",
    "   #     width = 8 * 480, height = 4*480, res = 300)\n",
    "   #basismap(res_4)\n",
    "   #dev.off()\n",
    "   #tiff(paste0(\"./nmfSingle/\", i, \"/coefmap_\", topn, \".tiff\"), \n",
    "   #     width = 8 * 480, height = 4*480, res = 300)\n",
    "   #coefmap(res_4)\n",
    "   #dev.off()\n",
    "  colnames(signature) <- paste0(i, \"_\", 1:ranks)\n",
    "  signature <- as.data.frame(signature)\n",
    "  # save data\n",
    "  write.table(signature, paste0(\"./nmfSingle/\", i, \"/singature\", topn, \".txt\"),\n",
    "              sep = \"\\t\")\n",
    "   saveRDS(res_4, file = paste0(\"./nmfSingle/\", i, \"/res\", ranks, \"_\", topn, \".rds\"))\n",
    "  print(paste0(\"NMF for the\", i, \"is Done!\"))\n",
    "}\n"
   ]
  },
  {
   "cell_type": "code",
   "execution_count": 9,
   "id": "c3d17dc4-8a37-4e0c-9732-739db49d684e",
   "metadata": {},
   "outputs": [],
   "source": [
    "####### try\n",
    "patients=c(\"EBUS_10\",\"BRONCHO_11\",\"EBUS_12\",\"EBUS_13\",\"EBUS_15\",\"EBUS_19\",\"EBUS_51\",\"S1\",\"S2\",\"S3\",\"S4\",\"S5\",\"S6\",\"S7\")\n",
    "patients2<-paste0(\"P\", patients)"
   ]
  },
  {
   "cell_type": "code",
   "execution_count": 10,
   "id": "ef754cb2-0f3d-458e-904a-399399aecfd4",
   "metadata": {},
   "outputs": [],
   "source": [
    "library(tidyverse)\n",
    "topn=3000\n",
    "topRank <- 100\n",
    "programG <- list()"
   ]
  },
  {
   "cell_type": "code",
   "execution_count": 11,
   "id": "9313173e-b53b-4a97-9c76-a224f952eb5e",
   "metadata": {},
   "outputs": [],
   "source": [
    "for (i in 1:length(patients)){\n",
    "  filedir <- paste0(\"./nmfSingle/\", patients[i], \"/singature\", topn, \".txt\")\n",
    "  geneloading <- read.table(filedir, header = T, sep = \"\\t\")\n",
    "colnames(geneloading)<-paste0(\"P\", colnames(geneloading))\n",
    "  geneloading$maxC <- apply(geneloading, 1, which.max) %>% \n",
    "    paste0(patients2[i], \"_\", .)\n",
    "  \n",
    "  topgenelist <- rownames_to_column(geneloading, var = \"gene\") %>%\n",
    "      pivot_longer(., cols = starts_with(\"P\"), \n",
    "                  names_to = \"program\", values_to = \"loading\")\n",
    "  \n",
    "  topgenelist <- dplyr::filter(topgenelist, maxC == program) %>% \n",
    "      group_by(maxC) %>% top_n(n = topRank, wt = loading)\n",
    "  topgenelist <- split(topgenelist$gene, topgenelist$maxC)\n",
    "  programG <- c(programG, topgenelist)\n",
    "}"
   ]
  },
  {
   "cell_type": "code",
   "execution_count": 12,
   "id": "b484e089-71ea-45ad-9c1a-7c8a2bb50252",
   "metadata": {},
   "outputs": [],
   "source": [
    "unique(unlist(programG))-> programG_gene"
   ]
  },
  {
   "cell_type": "code",
   "execution_count": 13,
   "id": "e2555cb0-6994-4628-aad1-a8c6761e63e6",
   "metadata": {},
   "outputs": [],
   "source": [
    "library(tidyverse)\n",
    "\n",
    "gene_list=c()\n",
    "merge_list=list()\n",
    "meta_list=c()"
   ]
  },
  {
   "cell_type": "code",
   "execution_count": 14,
   "id": "d00d5e71-7de1-4e65-9743-ce2717c9de0d",
   "metadata": {},
   "outputs": [],
   "source": [
    "for (i in 1:length(patients)){\n",
    "  filedir <- paste0(\"./nmfSingle/\", patients[i], \"/singature\", topn, \".txt\")\n",
    "  geneloading <- read.table(filedir, header = T, sep = \"\\t\")\n",
    "  merge_list[[i]]<-geneloading\n",
    "  gene_list=c(gene_list,rownames(geneloading))\n",
    "  meta_list=c(meta_list,colnames(geneloading))\n",
    "  }"
   ]
  },
  {
   "cell_type": "code",
   "execution_count": 15,
   "id": "d9ed6eaf-16ed-4d16-af52-ef12bde3cde8",
   "metadata": {},
   "outputs": [],
   "source": [
    "unique(gene_list)->gene_list2"
   ]
  },
  {
   "cell_type": "code",
   "execution_count": 16,
   "id": "65f2086a-41c3-4608-a85f-0634b6e6985a",
   "metadata": {},
   "outputs": [],
   "source": [
    "matrix(0,length(gene_list2),length(meta_list))-> M_tmp\n",
    "colnames(M_tmp)<-meta_list\n",
    "rownames(M_tmp)<-gene_list2"
   ]
  },
  {
   "cell_type": "code",
   "execution_count": 17,
   "id": "a5d6bed8-2eed-4a7b-b5c0-d64875436807",
   "metadata": {},
   "outputs": [],
   "source": [
    "for (i in 1:length(merge_list)){\n",
    "geneloading<-as.matrix(merge_list[[i]])\n",
    "M_tmp[ rownames(geneloading),colnames(geneloading)]<-geneloading\n",
    "\n",
    "  }"
   ]
  },
  {
   "cell_type": "code",
   "execution_count": 18,
   "id": "94007cd7-46b4-4955-afcb-b1f6075e53d4",
   "metadata": {},
   "outputs": [],
   "source": [
    "matrix(0,length(programG_gene),length(meta_list))-> M_prog\n",
    "colnames(M_prog)<-meta_list\n",
    "rownames(M_prog)<-programG_gene"
   ]
  },
  {
   "cell_type": "code",
   "execution_count": 19,
   "id": "f7dbbdbc-3da6-4331-9547-3ad10f64c495",
   "metadata": {},
   "outputs": [],
   "source": [
    "for (i in 1:length(meta_list)){\n",
    "M_prog[ programG[[i]], i]<-M_tmp[ programG[[i]], i]\n",
    "\n",
    "  }"
   ]
  },
  {
   "cell_type": "code",
   "execution_count": 20,
   "id": "14658b60-3ceb-4e6a-98b1-02544713ad0f",
   "metadata": {},
   "outputs": [],
   "source": [
    "clusterK = 6\n",
    "M <- cor(M_prog, method = \"pearson\")\n",
    "\n",
    "cor_method=\"average\"\n",
    "library(corrplot)\n",
    "library(RColorBrewer)"
   ]
  },
  {
   "cell_type": "code",
   "execution_count": 21,
   "id": "5b96c4c3-d120-4d68-b4b6-bb1e6788c70c",
   "metadata": {},
   "outputs": [
    {
     "name": "stderr",
     "output_type": "stream",
     "text": [
      "Warning message in ind1:ind2:\n",
      "“numerical expression has 100 elements: only the first used”\n",
      "Warning message in title(title, ...):\n",
      "“\"cl.lim\" is not a graphical parameter”\n"
     ]
    },
    {
     "data": {
      "image/png": "[encoded data removed]",
      "text/plain": [
       "Plot with title “”"
      ]
     },
     "metadata": {
      "image/png": {
       "height": 420,
       "width": 420
      }
     },
     "output_type": "display_data"
    }
   ],
   "source": [
    "#pdf(\"scNMF.pdf\")\n",
    "corrplot(M, \n",
    "         method = \"color\", \n",
    "         order = \"hclust\", \n",
    "         hclust.method = cor_method, \n",
    "         addrect = clusterK, \n",
    "         cl.lim=c(-1, 1),\n",
    "         tl.pos = \"n\", #\"n\" means don't add textlabel\n",
    "         col = colorRampPalette(c(\"white\",\"white\",\"white\",\"white\",\"white\",\"#FFFFCC30\",\"#FFFFCC99\",\"yellow\",\"brown\"))(200)) "
   ]
  },
  {
   "cell_type": "code",
   "execution_count": 22,
   "id": "72b90ad1-cf70-4f66-b02d-b49e05f67610",
   "metadata": {},
   "outputs": [
    {
     "data": {
      "text/plain": [
       "clus\n",
       " 1  2  3  4  5  6 \n",
       " 6  1  4 21  2 22 "
      ]
     },
     "metadata": {},
     "output_type": "display_data"
    }
   ],
   "source": [
    "cororder <- corrMatOrder(M, order = \"hclust\", hclust.method = cor_method)\n",
    "M.hc <- M[cororder, cororder]\n",
    "tree <- hclust(as.dist(1 - M.hc), method = cor_method)\n",
    "clus <- cutree(tree, clusterK)\n",
    "table(clus)"
   ]
  },
  {
   "cell_type": "code",
   "execution_count": 23,
   "id": "31759afb-6602-4285-89b0-380b2727fd75",
   "metadata": {},
   "outputs": [
    {
     "name": "stderr",
     "output_type": "stream",
     "text": [
      "\n",
      "Attaching package: ‘rlist’\n",
      "\n",
      "\n",
      "The following object is masked from ‘package:S4Vectors’:\n",
      "\n",
      "    List\n",
      "\n",
      "\n"
     ]
    }
   ],
   "source": [
    "library(rlist)\n",
    "\n",
    "M_prog-> M_tmp2\n",
    "#M_tmp-> M_tmp2\n",
    "list_scores=list()"
   ]
  },
  {
   "cell_type": "code",
   "execution_count": 24,
   "id": "d048b495-a7ae-4cb1-8f06-7cda5a1eeab1",
   "metadata": {
    "scrolled": true,
    "tags": []
   },
   "outputs": [
    {
     "data": {
      "text/html": [
       "<style>\n",
       ".list-inline {list-style: none; margin:0; padding: 0}\n",
       ".list-inline>li {display: inline-block}\n",
       ".list-inline>li:not(:last-child)::after {content: \"\\00b7\"; padding: 0 .5ex}\n",
       "</style>\n",
       "<ol class=list-inline><li>2022</li><li>56</li></ol>\n"
      ],
      "text/latex": [
       "\\begin{enumerate*}\n",
       "\\item 2022\n",
       "\\item 56\n",
       "\\end{enumerate*}\n"
      ],
      "text/markdown": [
       "1. 2022\n",
       "2. 56\n",
       "\n",
       "\n"
      ],
      "text/plain": [
       "[1] 2022   56"
      ]
     },
     "metadata": {},
     "output_type": "display_data"
    },
    {
     "data": {
      "text/html": [
       "<table class=\"dataframe\">\n",
       "<caption>A matrix: 6 × 56 of type dbl</caption>\n",
       "<thead>\n",
       "\t<tr><th></th><th scope=col>EBUS_10_1</th><th scope=col>EBUS_10_2</th><th scope=col>EBUS_10_3</th><th scope=col>EBUS_10_4</th><th scope=col>BRONCHO_11_1</th><th scope=col>BRONCHO_11_2</th><th scope=col>BRONCHO_11_3</th><th scope=col>BRONCHO_11_4</th><th scope=col>EBUS_12_1</th><th scope=col>EBUS_12_2</th><th scope=col>⋯</th><th scope=col>S5_3</th><th scope=col>S5_4</th><th scope=col>S6_1</th><th scope=col>S6_2</th><th scope=col>S6_3</th><th scope=col>S6_4</th><th scope=col>S7_1</th><th scope=col>S7_2</th><th scope=col>S7_3</th><th scope=col>S7_4</th></tr>\n",
       "</thead>\n",
       "<tbody>\n",
       "\t<tr><th scope=row>AGR3</th><td>5.574382</td><td>0</td><td>0</td><td>0</td><td>0</td><td>0</td><td>0</td><td>0</td><td>0</td><td>0</td><td>⋯</td><td>0</td><td>0</td><td>0</td><td>0</td><td>0</td><td>0</td><td>0</td><td>0</td><td>0</td><td>0</td></tr>\n",
       "\t<tr><th scope=row>ALDH1A1</th><td>6.307470</td><td>0</td><td>0</td><td>0</td><td>0</td><td>0</td><td>0</td><td>0</td><td>0</td><td>0</td><td>⋯</td><td>0</td><td>0</td><td>0</td><td>0</td><td>0</td><td>0</td><td>0</td><td>0</td><td>0</td><td>0</td></tr>\n",
       "\t<tr><th scope=row>ARHGAP18</th><td>4.052426</td><td>0</td><td>0</td><td>0</td><td>0</td><td>0</td><td>0</td><td>0</td><td>0</td><td>0</td><td>⋯</td><td>0</td><td>0</td><td>0</td><td>0</td><td>0</td><td>0</td><td>0</td><td>0</td><td>0</td><td>0</td></tr>\n",
       "\t<tr><th scope=row>ARL3</th><td>4.222625</td><td>0</td><td>0</td><td>0</td><td>0</td><td>0</td><td>0</td><td>0</td><td>0</td><td>0</td><td>⋯</td><td>0</td><td>0</td><td>0</td><td>0</td><td>0</td><td>0</td><td>0</td><td>0</td><td>0</td><td>0</td></tr>\n",
       "\t<tr><th scope=row>BASP1</th><td>4.728308</td><td>0</td><td>0</td><td>0</td><td>0</td><td>0</td><td>0</td><td>0</td><td>0</td><td>0</td><td>⋯</td><td>0</td><td>0</td><td>0</td><td>0</td><td>0</td><td>0</td><td>0</td><td>0</td><td>0</td><td>0</td></tr>\n",
       "\t<tr><th scope=row>C11orf88</th><td>4.990843</td><td>0</td><td>0</td><td>0</td><td>0</td><td>0</td><td>0</td><td>0</td><td>0</td><td>0</td><td>⋯</td><td>0</td><td>0</td><td>0</td><td>0</td><td>0</td><td>0</td><td>0</td><td>0</td><td>0</td><td>0</td></tr>\n",
       "</tbody>\n",
       "</table>\n"
      ],
      "text/latex": [
       "A matrix: 6 × 56 of type dbl\n",
       "\\begin{tabular}{r|lllllllllllllllllllll}\n",
       "  & EBUS\\_10\\_1 & EBUS\\_10\\_2 & EBUS\\_10\\_3 & EBUS\\_10\\_4 & BRONCHO\\_11\\_1 & BRONCHO\\_11\\_2 & BRONCHO\\_11\\_3 & BRONCHO\\_11\\_4 & EBUS\\_12\\_1 & EBUS\\_12\\_2 & ⋯ & S5\\_3 & S5\\_4 & S6\\_1 & S6\\_2 & S6\\_3 & S6\\_4 & S7\\_1 & S7\\_2 & S7\\_3 & S7\\_4\\\\\n",
       "\\hline\n",
       "\tAGR3 & 5.574382 & 0 & 0 & 0 & 0 & 0 & 0 & 0 & 0 & 0 & ⋯ & 0 & 0 & 0 & 0 & 0 & 0 & 0 & 0 & 0 & 0\\\\\n",
       "\tALDH1A1 & 6.307470 & 0 & 0 & 0 & 0 & 0 & 0 & 0 & 0 & 0 & ⋯ & 0 & 0 & 0 & 0 & 0 & 0 & 0 & 0 & 0 & 0\\\\\n",
       "\tARHGAP18 & 4.052426 & 0 & 0 & 0 & 0 & 0 & 0 & 0 & 0 & 0 & ⋯ & 0 & 0 & 0 & 0 & 0 & 0 & 0 & 0 & 0 & 0\\\\\n",
       "\tARL3 & 4.222625 & 0 & 0 & 0 & 0 & 0 & 0 & 0 & 0 & 0 & ⋯ & 0 & 0 & 0 & 0 & 0 & 0 & 0 & 0 & 0 & 0\\\\\n",
       "\tBASP1 & 4.728308 & 0 & 0 & 0 & 0 & 0 & 0 & 0 & 0 & 0 & ⋯ & 0 & 0 & 0 & 0 & 0 & 0 & 0 & 0 & 0 & 0\\\\\n",
       "\tC11orf88 & 4.990843 & 0 & 0 & 0 & 0 & 0 & 0 & 0 & 0 & 0 & ⋯ & 0 & 0 & 0 & 0 & 0 & 0 & 0 & 0 & 0 & 0\\\\\n",
       "\\end{tabular}\n"
      ],
      "text/markdown": [
       "\n",
       "A matrix: 6 × 56 of type dbl\n",
       "\n",
       "| <!--/--> | EBUS_10_1 | EBUS_10_2 | EBUS_10_3 | EBUS_10_4 | BRONCHO_11_1 | BRONCHO_11_2 | BRONCHO_11_3 | BRONCHO_11_4 | EBUS_12_1 | EBUS_12_2 | ⋯ | S5_3 | S5_4 | S6_1 | S6_2 | S6_3 | S6_4 | S7_1 | S7_2 | S7_3 | S7_4 |\n",
       "|---|---|---|---|---|---|---|---|---|---|---|---|---|---|---|---|---|---|---|---|---|---|\n",
       "| AGR3 | 5.574382 | 0 | 0 | 0 | 0 | 0 | 0 | 0 | 0 | 0 | ⋯ | 0 | 0 | 0 | 0 | 0 | 0 | 0 | 0 | 0 | 0 |\n",
       "| ALDH1A1 | 6.307470 | 0 | 0 | 0 | 0 | 0 | 0 | 0 | 0 | 0 | ⋯ | 0 | 0 | 0 | 0 | 0 | 0 | 0 | 0 | 0 | 0 |\n",
       "| ARHGAP18 | 4.052426 | 0 | 0 | 0 | 0 | 0 | 0 | 0 | 0 | 0 | ⋯ | 0 | 0 | 0 | 0 | 0 | 0 | 0 | 0 | 0 | 0 |\n",
       "| ARL3 | 4.222625 | 0 | 0 | 0 | 0 | 0 | 0 | 0 | 0 | 0 | ⋯ | 0 | 0 | 0 | 0 | 0 | 0 | 0 | 0 | 0 | 0 |\n",
       "| BASP1 | 4.728308 | 0 | 0 | 0 | 0 | 0 | 0 | 0 | 0 | 0 | ⋯ | 0 | 0 | 0 | 0 | 0 | 0 | 0 | 0 | 0 | 0 |\n",
       "| C11orf88 | 4.990843 | 0 | 0 | 0 | 0 | 0 | 0 | 0 | 0 | 0 | ⋯ | 0 | 0 | 0 | 0 | 0 | 0 | 0 | 0 | 0 | 0 |\n",
       "\n"
      ],
      "text/plain": [
       "         EBUS_10_1 EBUS_10_2 EBUS_10_3 EBUS_10_4 BRONCHO_11_1 BRONCHO_11_2\n",
       "AGR3     5.574382  0         0         0         0            0           \n",
       "ALDH1A1  6.307470  0         0         0         0            0           \n",
       "ARHGAP18 4.052426  0         0         0         0            0           \n",
       "ARL3     4.222625  0         0         0         0            0           \n",
       "BASP1    4.728308  0         0         0         0            0           \n",
       "C11orf88 4.990843  0         0         0         0            0           \n",
       "         BRONCHO_11_3 BRONCHO_11_4 EBUS_12_1 EBUS_12_2 ⋯ S5_3 S5_4 S6_1 S6_2\n",
       "AGR3     0            0            0         0         ⋯ 0    0    0    0   \n",
       "ALDH1A1  0            0            0         0         ⋯ 0    0    0    0   \n",
       "ARHGAP18 0            0            0         0         ⋯ 0    0    0    0   \n",
       "ARL3     0            0            0         0         ⋯ 0    0    0    0   \n",
       "BASP1    0            0            0         0         ⋯ 0    0    0    0   \n",
       "C11orf88 0            0            0         0         ⋯ 0    0    0    0   \n",
       "         S6_3 S6_4 S7_1 S7_2 S7_3 S7_4\n",
       "AGR3     0    0    0    0    0    0   \n",
       "ALDH1A1  0    0    0    0    0    0   \n",
       "ARHGAP18 0    0    0    0    0    0   \n",
       "ARL3     0    0    0    0    0    0   \n",
       "BASP1    0    0    0    0    0    0   \n",
       "C11orf88 0    0    0    0    0    0   "
      ]
     },
     "metadata": {},
     "output_type": "display_data"
    }
   ],
   "source": [
    "dim(M_tmp2)\n",
    "head(M_tmp2)\n",
    "# str(programG)"
   ]
  },
  {
   "cell_type": "code",
   "execution_count": 25,
   "id": "b0a3a989-662e-462a-8bc5-7f2033626389",
   "metadata": {},
   "outputs": [],
   "source": [
    "for(k in 1: clusterK)\n",
    "{\n",
    " names(which(clus==k))->select_meta\n",
    "  M_tmp2[, select_meta]->M_select\n",
    "  as.matrix(M_select)-> M_select\n",
    "  \n",
    "  select_meta <- paste0(\"P\", select_meta)\n",
    "  \n",
    "  colnames(M_select)<-select_meta\n",
    "  unique(unlist(programG[select_meta]))-> select_genes\n",
    "  new_matrix=matrix(0,length(select_genes),length(select_meta))\n",
    "  colnames(new_matrix)<-select_meta\n",
    "  rownames(new_matrix)<-select_genes\n",
    "  for(kk in 1:length(select_meta))\n",
    "  {\n",
    "    new_matrix[programG[select_meta[kk]][[1]],select_meta[kk]]<-M_select[programG[select_meta[kk]][[1]],select_meta[kk]]\n",
    "  }\n",
    "  \n",
    "  rowMeans(new_matrix)->average_scores\n",
    "  list_scores[[k]]<-average_scores\n",
    "}"
   ]
  },
  {
   "cell_type": "code",
   "execution_count": 26,
   "id": "7c6b09b0-5dad-429b-b3c6-07790778e805",
   "metadata": {},
   "outputs": [
    {
     "name": "stdout",
     "output_type": "stream",
     "text": [
      "List of 6\n",
      " $ : Named num [1:274] 3.15 12.71 6.81 9.61 6.34 ...\n",
      "  ..- attr(*, \"names\")= chr [1:274] \"ACYP1\" \"ARL6IP1\" \"ASF1B\" \"ASPM\" ...\n",
      " $ : Named num [1:100] 15.46 12.07 9.09 15.55 9.06 ...\n",
      "  ..- attr(*, \"names\")= chr [1:100] \"ABCA13\" \"ACTN4\" \"ADD3\" \"AIF1\" ...\n",
      " $ : Named num [1:292] 1.39 2.09 1.01 1.06 1.18 ...\n",
      "  ..- attr(*, \"names\")= chr [1:292] \"AGR3\" \"ALDH1A1\" \"ARHGAP18\" \"ARL3\" ...\n",
      " $ : Named num [1:530] 2.19 0.795 0.682 1.645 2.653 ...\n",
      "  ..- attr(*, \"names\")= chr [1:530] \"ANAPC11\" \"APRT\" \"ARPC1A\" \"ARPC1B\" ...\n",
      " $ : Named num [1:194] 3.35 5.31 4.09 5.98 4.23 ...\n",
      "  ..- attr(*, \"names\")= chr [1:194] \"ACOX1\" \"ACTN1\" \"ADK\" \"AKAP9\" ...\n",
      " $ : Named num [1:1117] 0.279 0.459 1.489 0.439 2.511 ...\n",
      "  ..- attr(*, \"names\")= chr [1:1117] \"AGT\" \"ANAPC11\" \"ARPC1B\" \"ATP6V1F\" ...\n"
     ]
    }
   ],
   "source": [
    "str(list_scores)"
   ]
  },
  {
   "cell_type": "code",
   "execution_count": 27,
   "id": "e35ab306-9c0c-45d7-971f-b517ae4348fd",
   "metadata": {},
   "outputs": [],
   "source": [
    "library(org.Hs.eg.db)\n",
    "library(clusterProfiler)"
   ]
  },
  {
   "cell_type": "code",
   "execution_count": 28,
   "id": "63289057-72ab-4aff-ae86-113ac6147c54",
   "metadata": {},
   "outputs": [
    {
     "data": {
      "text/html": [
       "<style>\n",
       ".list-inline {list-style: none; margin:0; padding: 0}\n",
       ".list-inline>li {display: inline-block}\n",
       ".list-inline>li:not(:last-child)::after {content: \"\\00b7\"; padding: 0 .5ex}\n",
       "</style>\n",
       "<ol class=list-inline><li>'S1_4'</li><li>'S7_1'</li><li>'S2_1'</li><li>'S6_4'</li><li>'S4_4'</li><li>'S5_3'</li></ol>\n"
      ],
      "text/latex": [
       "\\begin{enumerate*}\n",
       "\\item 'S1\\_4'\n",
       "\\item 'S7\\_1'\n",
       "\\item 'S2\\_1'\n",
       "\\item 'S6\\_4'\n",
       "\\item 'S4\\_4'\n",
       "\\item 'S5\\_3'\n",
       "\\end{enumerate*}\n"
      ],
      "text/markdown": [
       "1. 'S1_4'\n",
       "2. 'S7_1'\n",
       "3. 'S2_1'\n",
       "4. 'S6_4'\n",
       "5. 'S4_4'\n",
       "6. 'S5_3'\n",
       "\n",
       "\n"
      ],
      "text/plain": [
       "[1] \"S1_4\" \"S7_1\" \"S2_1\" \"S6_4\" \"S4_4\" \"S5_3\""
      ]
     },
     "metadata": {},
     "output_type": "display_data"
    }
   ],
   "source": [
    "k=1 # 1-signature1, 3-signature2, 4-signature3, 6-signature4\n",
    "\n",
    "names(which(clus==k))\n",
    "list_scores[[k]]->tmp_kk\n",
    " tmp_kk2<-tmp_kk[which(!grepl(\"^MT-\",names(tmp_kk)))]\n",
    "cand_gene<-names(sort(tmp_kk2,decreasing=T))[1:200]\n",
    "go <- enrichGO(cand_gene ,OrgDb = org.Hs.eg.db, ont='BP',pAdjustMethod = 'fdr',pvalueCutoff = 0.05, qvalueCutoff = 0.2, keyType = 'SYMBOL')\n",
    "# write.csv(cand_gene,file = \"table_out/3.2_NMF_signature1_cand_gene.csv\", quote = F)\n",
    "# write.csv(go,file = \"table_out/3.2_NMF_signature1_GO_enrich_term.csv\", quote = F)"
   ]
  },
  {
   "cell_type": "code",
   "execution_count": 29,
   "id": "79d16370-02b7-454c-b90a-fd9bcbbd9d1f",
   "metadata": {},
   "outputs": [
    {
     "name": "stderr",
     "output_type": "stream",
     "text": [
      "Centering and scaling data matrix\n",
      "\n"
     ]
    }
   ],
   "source": [
    "# readRDS(\"data_out/3.2.tumorcell.rds\")->tumorcell\n",
    "patients=c(\"EBUS_10\",\"BRONCHO_11\",\"EBUS_12\",\"EBUS_13\",\"EBUS_15\",\"EBUS_19\",\"EBUS_51\",\"S1\",\"S2\",\"S4\",\"S5\",\"S6\",\"S7\")\n",
    "subset(tumorcell , orig.ident %in% patients )-> tumorcell\n",
    "ScaleData(tumorcell,feature=cand_gene)-> tumorcell2\n",
    "colMeans(tumorcell2$RNA@scale.data)->cand_value\n",
    "tumorcell2[[\"cand__value\"]]<-cand_value\n",
    "tumorcell2@meta.data[,c(\"orig.ident\",\"cand__value\")]->select_data"
   ]
  },
  {
   "cell_type": "code",
   "execution_count": 36,
   "id": "7fffa4fa-da69-458e-aa03-f15049cb5ae7",
   "metadata": {},
   "outputs": [
    {
     "data": {
      "image/png": "[encoded data removed]",
      "text/plain": [
       "plot without title"
      ]
     },
     "metadata": {
      "image/png": {
       "height": 420,
       "width": 420
      }
     },
     "output_type": "display_data"
    }
   ],
   "source": [
    "p <- ggplot(select_data, aes(x=factor(orig.ident), y= cand__value, fill=factor(orig.ident)))\n",
    "p + geom_violin(colour=NA) +\n",
    "theme_bw() +theme(axis.text.x = element_text(angle = 45, hjust = 1)) + NoLegend()"
   ]
  },
  {
   "cell_type": "code",
   "execution_count": 37,
   "id": "1a975f41-5a0b-46f9-b906-b31e6b901e23",
   "metadata": {},
   "outputs": [
    {
     "data": {
      "text/html": [
       "<style>\n",
       ".list-inline {list-style: none; margin:0; padding: 0}\n",
       ".list-inline>li {display: inline-block}\n",
       ".list-inline>li:not(:last-child)::after {content: \"\\00b7\"; padding: 0 .5ex}\n",
       "</style>\n",
       "<ol class=list-inline><li>'EBUS_10_1'</li><li>'EBUS_19_1'</li><li>'BRONCHO_11_2'</li><li>'EBUS_12_2'</li></ol>\n"
      ],
      "text/latex": [
       "\\begin{enumerate*}\n",
       "\\item 'EBUS\\_10\\_1'\n",
       "\\item 'EBUS\\_19\\_1'\n",
       "\\item 'BRONCHO\\_11\\_2'\n",
       "\\item 'EBUS\\_12\\_2'\n",
       "\\end{enumerate*}\n"
      ],
      "text/markdown": [
       "1. 'EBUS_10_1'\n",
       "2. 'EBUS_19_1'\n",
       "3. 'BRONCHO_11_2'\n",
       "4. 'EBUS_12_2'\n",
       "\n",
       "\n"
      ],
      "text/plain": [
       "[1] \"EBUS_10_1\"    \"EBUS_19_1\"    \"BRONCHO_11_2\" \"EBUS_12_2\"   "
      ]
     },
     "metadata": {},
     "output_type": "display_data"
    },
    {
     "name": "stderr",
     "output_type": "stream",
     "text": [
      "Centering and scaling data matrix\n",
      "\n"
     ]
    }
   ],
   "source": [
    "k=3 # 1-signature1, 3-signature2, 4-signature3, 6-signature4\n",
    "\n",
    "names(which(clus==k))\n",
    "list_scores[[k]]->tmp_kk\n",
    " tmp_kk2<-tmp_kk[which(!grepl(\"^MT-\",names(tmp_kk)))]\n",
    "cand_gene<-names(sort(tmp_kk2,decreasing=T))[1:200]\n",
    "go <- enrichGO(cand_gene ,OrgDb = org.Hs.eg.db, ont='BP',pAdjustMethod = 'fdr',pvalueCutoff = 0.05, qvalueCutoff = 0.2, keyType = 'SYMBOL')\n",
    "# write.csv(cand_gene,file = \"table_out/3.2_NMF_signature2_cand_gene.csv\", quote = F)\n",
    "# write.csv(go,file = \"table_out/3.2_NMF_signature2_GO_enrich_term.csv\", quote = F)\n",
    "\n",
    "patients=c(\"EBUS_10\",\"BRONCHO_11\",\"EBUS_12\",\"EBUS_13\",\"EBUS_15\",\"EBUS_19\",\"EBUS_51\",\"S1\",\"S2\",\"S4\",\"S5\",\"S6\",\"S7\")\n",
    "subset(tumorcell , orig.ident %in% patients )-> tumorcell\n",
    "ScaleData(tumorcell,feature=cand_gene)-> tumorcell2\n",
    "colMeans(tumorcell2$RNA@scale.data)->cand_value\n",
    "tumorcell2[[\"cand__value\"]]<-cand_value\n",
    "tumorcell2@meta.data[,c(\"orig.ident\",\"cand__value\")]->select_data"
   ]
  },
  {
   "cell_type": "code",
   "execution_count": 39,
   "id": "81fd319d-af01-432d-984b-f09a73f8ad4a",
   "metadata": {},
   "outputs": [
    {
     "data": {
      "image/png": "[encoded data removed]",
      "text/plain": [
       "plot without title"
      ]
     },
     "metadata": {
      "image/png": {
       "height": 420,
       "width": 420
      }
     },
     "output_type": "display_data"
    }
   ],
   "source": [
    "p <- ggplot(select_data, aes(x=factor(orig.ident), y= cand__value, fill=factor(orig.ident)))\n",
    "p + geom_violin(colour=NA) +\n",
    "theme_bw() +theme(axis.text.x = element_text(angle = 45, hjust = 1)) + NoLegend()\n"
   ]
  },
  {
   "cell_type": "code",
   "execution_count": 40,
   "id": "b063edf8-9975-4169-97d2-7767661600e4",
   "metadata": {},
   "outputs": [
    {
     "data": {
      "text/html": [
       "<style>\n",
       ".list-inline {list-style: none; margin:0; padding: 0}\n",
       ".list-inline>li {display: inline-block}\n",
       ".list-inline>li:not(:last-child)::after {content: \"\\00b7\"; padding: 0 .5ex}\n",
       "</style>\n",
       "<ol class=list-inline><li>'EBUS_10_2'</li><li>'EBUS_15_3'</li><li>'S6_1'</li><li>'S5_2'</li><li>'EBUS_51_3'</li><li>'EBUS_51_2'</li><li>'S4_3'</li><li>'S6_3'</li><li>'S7_4'</li><li>'EBUS_19_2'</li><li>'EBUS_12_4'</li><li>'EBUS_13_1'</li><li>'BRONCHO_11_1'</li><li>'EBUS_10_3'</li><li>'EBUS_15_4'</li><li>'S1_3'</li><li>'S2_4'</li><li>'S3_4'</li><li>'S5_1'</li><li>'S1_1'</li><li>'S4_1'</li></ol>\n"
      ],
      "text/latex": [
       "\\begin{enumerate*}\n",
       "\\item 'EBUS\\_10\\_2'\n",
       "\\item 'EBUS\\_15\\_3'\n",
       "\\item 'S6\\_1'\n",
       "\\item 'S5\\_2'\n",
       "\\item 'EBUS\\_51\\_3'\n",
       "\\item 'EBUS\\_51\\_2'\n",
       "\\item 'S4\\_3'\n",
       "\\item 'S6\\_3'\n",
       "\\item 'S7\\_4'\n",
       "\\item 'EBUS\\_19\\_2'\n",
       "\\item 'EBUS\\_12\\_4'\n",
       "\\item 'EBUS\\_13\\_1'\n",
       "\\item 'BRONCHO\\_11\\_1'\n",
       "\\item 'EBUS\\_10\\_3'\n",
       "\\item 'EBUS\\_15\\_4'\n",
       "\\item 'S1\\_3'\n",
       "\\item 'S2\\_4'\n",
       "\\item 'S3\\_4'\n",
       "\\item 'S5\\_1'\n",
       "\\item 'S1\\_1'\n",
       "\\item 'S4\\_1'\n",
       "\\end{enumerate*}\n"
      ],
      "text/markdown": [
       "1. 'EBUS_10_2'\n",
       "2. 'EBUS_15_3'\n",
       "3. 'S6_1'\n",
       "4. 'S5_2'\n",
       "5. 'EBUS_51_3'\n",
       "6. 'EBUS_51_2'\n",
       "7. 'S4_3'\n",
       "8. 'S6_3'\n",
       "9. 'S7_4'\n",
       "10. 'EBUS_19_2'\n",
       "11. 'EBUS_12_4'\n",
       "12. 'EBUS_13_1'\n",
       "13. 'BRONCHO_11_1'\n",
       "14. 'EBUS_10_3'\n",
       "15. 'EBUS_15_4'\n",
       "16. 'S1_3'\n",
       "17. 'S2_4'\n",
       "18. 'S3_4'\n",
       "19. 'S5_1'\n",
       "20. 'S1_1'\n",
       "21. 'S4_1'\n",
       "\n",
       "\n"
      ],
      "text/plain": [
       " [1] \"EBUS_10_2\"    \"EBUS_15_3\"    \"S6_1\"         \"S5_2\"         \"EBUS_51_3\"   \n",
       " [6] \"EBUS_51_2\"    \"S4_3\"         \"S6_3\"         \"S7_4\"         \"EBUS_19_2\"   \n",
       "[11] \"EBUS_12_4\"    \"EBUS_13_1\"    \"BRONCHO_11_1\" \"EBUS_10_3\"    \"EBUS_15_4\"   \n",
       "[16] \"S1_3\"         \"S2_4\"         \"S3_4\"         \"S5_1\"         \"S1_1\"        \n",
       "[21] \"S4_1\"        "
      ]
     },
     "metadata": {},
     "output_type": "display_data"
    },
    {
     "name": "stderr",
     "output_type": "stream",
     "text": [
      "Centering and scaling data matrix\n",
      "\n"
     ]
    }
   ],
   "source": [
    "k=4 # 1-signature1, 3-signature2, 4-signature3, 6-signature4\n",
    "\n",
    "names(which(clus==k))\n",
    "list_scores[[k]]->tmp_kk\n",
    " tmp_kk2<-tmp_kk[which(!grepl(\"^MT-\",names(tmp_kk)))]\n",
    "cand_gene<-names(sort(tmp_kk2,decreasing=T))[1:200]\n",
    "go <- enrichGO(cand_gene ,OrgDb = org.Hs.eg.db, ont='BP',pAdjustMethod = 'fdr',pvalueCutoff = 0.05, qvalueCutoff = 0.2, keyType = 'SYMBOL')\n",
    "# write.csv(cand_gene,file = \"table_out/3.2_NMF_signature3_cand_gene.csv\", quote = F)\n",
    "# write.csv(go,file = \"table_out/3.2_NMF_signature3_GO_enrich_term.csv\", quote = F)\n",
    "\n",
    "patients=c(\"EBUS_10\",\"BRONCHO_11\",\"EBUS_12\",\"EBUS_13\",\"EBUS_15\",\"EBUS_19\",\"EBUS_51\",\"S1\",\"S2\",\"S4\",\"S5\",\"S6\",\"S7\")\n",
    "subset(tumorcell , orig.ident %in% patients )-> tumorcell\n",
    "ScaleData(tumorcell,feature=cand_gene)-> tumorcell2\n",
    "colMeans(tumorcell2$RNA@scale.data)->cand_value\n",
    "tumorcell2[[\"cand__value\"]]<-cand_value\n",
    "tumorcell2@meta.data[,c(\"orig.ident\",\"cand__value\")]->select_data"
   ]
  },
  {
   "cell_type": "code",
   "execution_count": 42,
   "id": "04696001-49ad-436a-81b8-af6f123e5d64",
   "metadata": {},
   "outputs": [
    {
     "data": {
      "image/png": "[encoded data removed]",
      "text/plain": [
       "plot without title"
      ]
     },
     "metadata": {
      "image/png": {
       "height": 420,
       "width": 420
      }
     },
     "output_type": "display_data"
    }
   ],
   "source": [
    "p <- ggplot(select_data, aes(x=factor(orig.ident), y= cand__value, fill=factor(orig.ident)))\n",
    "p + geom_violin(colour=NA) +\n",
    "theme_bw() +theme(axis.text.x = element_text(angle = 45, hjust = 1)) + NoLegend()\n"
   ]
  },
  {
   "cell_type": "code",
   "execution_count": 43,
   "id": "6e5c9c75-aada-477a-ab3e-bca2d67170a3",
   "metadata": {},
   "outputs": [
    {
     "data": {
      "text/html": [
       "<style>\n",
       ".list-inline {list-style: none; margin:0; padding: 0}\n",
       ".list-inline>li {display: inline-block}\n",
       ".list-inline>li:not(:last-child)::after {content: \"\\00b7\"; padding: 0 .5ex}\n",
       "</style>\n",
       "<ol class=list-inline><li>'EBUS_12_3'</li><li>'EBUS_13_3'</li><li>'S2_2'</li><li>'S7_2'</li><li>'EBUS_13_4'</li><li>'EBUS_15_2'</li><li>'EBUS_10_4'</li><li>'EBUS_19_4'</li><li>'EBUS_51_4'</li><li>'EBUS_12_1'</li><li>'BRONCHO_11_4'</li><li>'S7_3'</li><li>'S6_2'</li><li>'EBUS_13_2'</li><li>'S4_2'</li><li>'S2_3'</li><li>'EBUS_15_1'</li><li>'EBUS_51_1'</li><li>'S3_1'</li><li>'BRONCHO_11_3'</li><li>'EBUS_19_3'</li><li>'S1_2'</li></ol>\n"
      ],
      "text/latex": [
       "\\begin{enumerate*}\n",
       "\\item 'EBUS\\_12\\_3'\n",
       "\\item 'EBUS\\_13\\_3'\n",
       "\\item 'S2\\_2'\n",
       "\\item 'S7\\_2'\n",
       "\\item 'EBUS\\_13\\_4'\n",
       "\\item 'EBUS\\_15\\_2'\n",
       "\\item 'EBUS\\_10\\_4'\n",
       "\\item 'EBUS\\_19\\_4'\n",
       "\\item 'EBUS\\_51\\_4'\n",
       "\\item 'EBUS\\_12\\_1'\n",
       "\\item 'BRONCHO\\_11\\_4'\n",
       "\\item 'S7\\_3'\n",
       "\\item 'S6\\_2'\n",
       "\\item 'EBUS\\_13\\_2'\n",
       "\\item 'S4\\_2'\n",
       "\\item 'S2\\_3'\n",
       "\\item 'EBUS\\_15\\_1'\n",
       "\\item 'EBUS\\_51\\_1'\n",
       "\\item 'S3\\_1'\n",
       "\\item 'BRONCHO\\_11\\_3'\n",
       "\\item 'EBUS\\_19\\_3'\n",
       "\\item 'S1\\_2'\n",
       "\\end{enumerate*}\n"
      ],
      "text/markdown": [
       "1. 'EBUS_12_3'\n",
       "2. 'EBUS_13_3'\n",
       "3. 'S2_2'\n",
       "4. 'S7_2'\n",
       "5. 'EBUS_13_4'\n",
       "6. 'EBUS_15_2'\n",
       "7. 'EBUS_10_4'\n",
       "8. 'EBUS_19_4'\n",
       "9. 'EBUS_51_4'\n",
       "10. 'EBUS_12_1'\n",
       "11. 'BRONCHO_11_4'\n",
       "12. 'S7_3'\n",
       "13. 'S6_2'\n",
       "14. 'EBUS_13_2'\n",
       "15. 'S4_2'\n",
       "16. 'S2_3'\n",
       "17. 'EBUS_15_1'\n",
       "18. 'EBUS_51_1'\n",
       "19. 'S3_1'\n",
       "20. 'BRONCHO_11_3'\n",
       "21. 'EBUS_19_3'\n",
       "22. 'S1_2'\n",
       "\n",
       "\n"
      ],
      "text/plain": [
       " [1] \"EBUS_12_3\"    \"EBUS_13_3\"    \"S2_2\"         \"S7_2\"         \"EBUS_13_4\"   \n",
       " [6] \"EBUS_15_2\"    \"EBUS_10_4\"    \"EBUS_19_4\"    \"EBUS_51_4\"    \"EBUS_12_1\"   \n",
       "[11] \"BRONCHO_11_4\" \"S7_3\"         \"S6_2\"         \"EBUS_13_2\"    \"S4_2\"        \n",
       "[16] \"S2_3\"         \"EBUS_15_1\"    \"EBUS_51_1\"    \"S3_1\"         \"BRONCHO_11_3\"\n",
       "[21] \"EBUS_19_3\"    \"S1_2\"        "
      ]
     },
     "metadata": {},
     "output_type": "display_data"
    },
    {
     "name": "stderr",
     "output_type": "stream",
     "text": [
      "Centering and scaling data matrix\n",
      "\n"
     ]
    }
   ],
   "source": [
    "k=6 # 1-signature1, 3-signature2, 4-signature3, 6-signature4\n",
    "\n",
    "names(which(clus==k))\n",
    "list_scores[[k]]->tmp_kk\n",
    " tmp_kk2<-tmp_kk[which(!grepl(\"^MT-\",names(tmp_kk)))]\n",
    "cand_gene<-names(sort(tmp_kk2,decreasing=T))[1:200]\n",
    "go <- enrichGO(cand_gene ,OrgDb = org.Hs.eg.db, ont='BP',pAdjustMethod = 'fdr',pvalueCutoff = 0.05, qvalueCutoff = 0.2, keyType = 'SYMBOL')\n",
    " write.csv(cand_gene,file = \"table_out/3.2_NMF_signature4_cand_gene.csv\", quote = F)\n",
    "# write.csv(go,file = \"table_out/3.2_NMF_signature4_GO_enrich_term.csv\", quote = F)\n",
    "\n",
    "patients=c(\"EBUS_10\",\"BRONCHO_11\",\"EBUS_12\",\"EBUS_13\",\"EBUS_15\",\"EBUS_19\",\"EBUS_51\",\"S1\",\"S2\",\"S4\",\"S5\",\"S6\",\"S7\")\n",
    "subset(tumorcell , orig.ident %in% patients )-> tumorcell\n",
    "ScaleData(tumorcell,feature=cand_gene)-> tumorcell2\n",
    "colMeans(tumorcell2$RNA@scale.data)->cand_value\n",
    "tumorcell2[[\"cand__value\"]]<-cand_value\n",
    "tumorcell2@meta.data[,c(\"orig.ident\",\"cand__value\")]->select_data"
   ]
  },
  {
   "cell_type": "code",
   "execution_count": 45,
   "id": "960e6a74-96ec-4dbd-9996-f874d2a18c63",
   "metadata": {},
   "outputs": [
    {
     "data": {
      "image/png": "[encoded data removed]",
      "text/plain": [
       "plot without title"
      ]
     },
     "metadata": {
      "image/png": {
       "height": 420,
       "width": 420
      }
     },
     "output_type": "display_data"
    }
   ],
   "source": [
    "p <- ggplot(select_data, aes(x=factor(orig.ident), y= cand__value, fill=factor(orig.ident)))\n",
    "p + geom_violin(colour=NA) +\n",
    "theme_bw() +theme(axis.text.x = element_text(angle = 45, hjust = 1)) + NoLegend()\n"
   ]
  },
  {
   "cell_type": "code",
   "execution_count": 46,
   "id": "98d18ccb-8e94-4800-8845-0664cab0d168",
   "metadata": {},
   "outputs": [
    {
     "data": {
      "text/plain": [
       "R version 4.1.2 (2021-11-01)\n",
       "Platform: x86_64-conda-linux-gnu (64-bit)\n",
       "Running under: Ubuntu 16.04.7 LTS\n",
       "\n",
       "Matrix products: default\n",
       "BLAS/LAPACK: /home/inspur/miniconda3/envs/sclc_ldk/lib/libopenblasp-r0.3.18.so\n",
       "\n",
       "locale:\n",
       " [1] LC_CTYPE=zh_CN.UTF-8       LC_NUMERIC=C              \n",
       " [3] LC_TIME=zh_CN.UTF-8        LC_COLLATE=en_US.UTF-8    \n",
       " [5] LC_MONETARY=zh_CN.UTF-8    LC_MESSAGES=en_US.UTF-8   \n",
       " [7] LC_PAPER=zh_CN.UTF-8       LC_NAME=C                 \n",
       " [9] LC_ADDRESS=C               LC_TELEPHONE=C            \n",
       "[11] LC_MEASUREMENT=zh_CN.UTF-8 LC_IDENTIFICATION=C       \n",
       "\n",
       "attached base packages:\n",
       "[1] stats4    stats     graphics  grDevices utils     datasets  methods  \n",
       "[8] base     \n",
       "\n",
       "other attached packages:\n",
       " [1] rlist_0.4.6.2         AUCell_1.16.0         clusterProfiler_4.2.1\n",
       " [4] org.Hs.eg.db_3.14.0   AnnotationDbi_1.56.2  IRanges_2.28.0       \n",
       " [7] S4Vectors_0.32.3      corrplot_0.92         RColorBrewer_1.1-2   \n",
       "[10] SeuratObject_4.0.4    Seurat_4.0.6          NMF_0.21.0           \n",
       "[13] Biobase_2.54.0        BiocGenerics_0.40.0   cluster_2.1.2        \n",
       "[16] rngtools_1.5.2        pkgmaker_0.32.2       registry_0.5-1       \n",
       "[19] forcats_0.5.1         stringr_1.4.0         dplyr_1.0.7          \n",
       "[22] purrr_0.3.4           readr_2.1.1           tidyr_1.1.4          \n",
       "[25] tibble_3.1.6          ggplot2_3.3.5         tidyverse_1.3.1      \n",
       "\n",
       "loaded via a namespace (and not attached):\n",
       "  [1] pbdZMQ_0.3-6                scattermore_0.7            \n",
       "  [3] R.methodsS3_1.8.1           bit64_4.0.5                \n",
       "  [5] irlba_2.3.5                 DelayedArray_0.20.0        \n",
       "  [7] R.utils_2.11.0              data.table_1.14.2          \n",
       "  [9] rpart_4.1-15                KEGGREST_1.34.0            \n",
       " [11] RCurl_1.98-1.5              doParallel_1.0.16          \n",
       " [13] generics_0.1.1              cowplot_1.1.1              \n",
       " [15] RSQLite_2.2.9               shadowtext_0.1.0           \n",
       " [17] RANN_2.6.1                  future_1.23.0              \n",
       " [19] bit_4.0.4                   tzdb_0.2.0                 \n",
       " [21] enrichplot_1.14.1           spatstat.data_2.1-2        \n",
       " [23] xml2_1.3.3                  lubridate_1.8.0            \n",
       " [25] httpuv_1.6.4                SummarizedExperiment_1.24.0\n",
       " [27] assertthat_0.2.1            viridis_0.6.2              \n",
       " [29] hms_1.1.1                   evaluate_0.14              \n",
       " [31] promises_1.2.0.1            fansi_0.4.2                \n",
       " [33] dbplyr_2.1.1                readxl_1.3.1               \n",
       " [35] igraph_1.2.10               DBI_1.1.2                  \n",
       " [37] htmlwidgets_1.5.4           spatstat.geom_2.3-1        \n",
       " [39] ellipsis_0.3.2              backports_1.4.1            \n",
       " [41] annotate_1.72.0             gridBase_0.4-7             \n",
       " [43] deldir_1.0-6                MatrixGenerics_1.6.0       \n",
       " [45] vctrs_0.3.8                 ROCR_1.0-11                \n",
       " [47] abind_1.4-5                 cachem_1.0.6               \n",
       " [49] withr_2.4.3                 ggforce_0.3.3              \n",
       " [51] sctransform_0.3.2           treeio_1.18.1              \n",
       " [53] goftest_1.2-3               DOSE_3.20.1                \n",
       " [55] ape_5.6                     IRdisplay_1.0              \n",
       " [57] lazyeval_0.2.2              crayon_1.4.2               \n",
       " [59] labeling_0.4.2              pkgconfig_2.0.3            \n",
       " [61] tweenr_1.0.2                GenomeInfoDb_1.30.0        \n",
       " [63] nlme_3.1-153                rlang_0.4.12               \n",
       " [65] globals_0.14.0              lifecycle_1.0.1            \n",
       " [67] miniUI_0.1.1.1              downloader_0.4             \n",
       " [69] modelr_0.1.8                cellranger_1.1.0           \n",
       " [71] polyclip_1.10-0             matrixStats_0.61.0         \n",
       " [73] lmtest_0.9-39               graph_1.72.0               \n",
       " [75] Matrix_1.4-0                aplot_0.1.1                \n",
       " [77] IRkernel_1.2                zoo_1.8-9                  \n",
       " [79] reprex_2.0.1                base64enc_0.1-3            \n",
       " [81] ggridges_0.5.3              png_0.1-7                  \n",
       " [83] viridisLite_0.4.0           bitops_1.0-7               \n",
       " [85] R.oo_1.24.0                 KernSmooth_2.23-20         \n",
       " [87] Biostrings_2.62.0           blob_1.2.2                 \n",
       " [89] qvalue_2.26.0               parallelly_1.30.0          \n",
       " [91] gridGraphics_0.5-1          scales_1.1.1               \n",
       " [93] memoise_2.0.1               GSEABase_1.56.0            \n",
       " [95] magrittr_2.0.1              plyr_1.8.6                 \n",
       " [97] ica_1.0-2                   zlibbioc_1.40.0            \n",
       " [99] compiler_4.1.2              scatterpie_0.1.7           \n",
       "[101] fitdistrplus_1.1-6          cli_3.1.0                  \n",
       "[103] XVector_0.34.0              listenv_0.8.0              \n",
       "[105] patchwork_1.1.1             pbapply_1.5-0              \n",
       "[107] MASS_7.3-54                 mgcv_1.8-38                \n",
       "[109] tidyselect_1.1.1            stringi_1.7.6              \n",
       "[111] GOSemSim_2.20.0             ggrepel_0.9.1              \n",
       "[113] grid_4.1.2                  fastmatch_1.1-3            \n",
       "[115] tools_4.1.2                 future.apply_1.8.1         \n",
       "[117] parallel_4.1.2              rstudioapi_0.13            \n",
       "[119] uuid_1.0-3                  foreach_1.5.1              \n",
       "[121] gridExtra_2.3               farver_2.1.0               \n",
       "[123] Rtsne_0.15                  ggraph_2.0.5               \n",
       "[125] digest_0.6.29               shiny_1.7.1                \n",
       "[127] Rcpp_1.0.7                  GenomicRanges_1.46.1       \n",
       "[129] broom_0.7.10                later_1.2.0                \n",
       "[131] RcppAnnoy_0.0.19            httr_1.4.2                 \n",
       "[133] colorspace_2.0-2            rvest_1.0.2                \n",
       "[135] XML_3.99-0.8                fs_1.5.2                   \n",
       "[137] tensor_1.5                  reticulate_1.22            \n",
       "[139] splines_4.1.2               uwot_0.1.11                \n",
       "[141] yulab.utils_0.0.4           tidytree_0.3.6             \n",
       "[143] spatstat.utils_2.3-0        graphlayouts_0.7.2         \n",
       "[145] ggplotify_0.1.0             plotly_4.10.0              \n",
       "[147] xtable_1.8-4                jsonlite_1.7.2             \n",
       "[149] ggtree_3.2.1                tidygraph_1.2.0            \n",
       "[151] ggfun_0.0.4                 R6_2.5.1                   \n",
       "[153] pillar_1.6.4                htmltools_0.5.2            \n",
       "[155] mime_0.12                   glue_1.6.0                 \n",
       "[157] fastmap_1.1.0               BiocParallel_1.28.3        \n",
       "[159] codetools_0.2-18            fgsea_1.20.0               \n",
       "[161] utf8_1.2.2                  lattice_0.20-45            \n",
       "[163] spatstat.sparse_2.1-0       leiden_0.3.9               \n",
       "[165] GO.db_3.14.0                survival_3.2-13            \n",
       "[167] repr_1.1.3                  munsell_0.5.0              \n",
       "[169] DO.db_2.9                   GenomeInfoDbData_1.2.7     \n",
       "[171] iterators_1.0.13            haven_2.4.3                \n",
       "[173] reshape2_1.4.4              gtable_0.3.0               \n",
       "[175] spatstat.core_2.3-2        "
      ]
     },
     "metadata": {},
     "output_type": "display_data"
    }
   ],
   "source": [
    "sessionInfo()"
   ]
  }
 ],
 "metadata": {
  "kernelspec": {
   "display_name": "ldk",
   "language": "R",
   "name": "ldk"
  },
  "language_info": {
   "codemirror_mode": "r",
   "file_extension": ".r",
   "mimetype": "text/x-r-source",
   "name": "R",
   "pygments_lexer": "r",
   "version": "4.1.2"
  }
 },
 "nbformat": 4,
 "nbformat_minor": 5
}
