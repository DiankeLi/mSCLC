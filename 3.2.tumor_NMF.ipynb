{
 "cells": [
  {
   "cell_type": "code",
   "execution_count": null,
   "id": "50320ddb-0b3f-4f24-8d59-c02f9b35437b",
   "metadata": {
    "scrolled": true,
    "tags": []
   },
   "outputs": [],
   "source": [
    "library(tidyverse)\n",
    "library(NMF)\n",
    "library(Seurat)\n",
    "library(RColorBrewer)\n",
    "library(corrplot)\n",
    "library(org.Hs.eg.db)\n",
    "library(clusterProfiler)\n",
    "library(AUCell)\n",
    "\n",
    "setwd(\"/media/inspur/AS2150G2/LDK/sclc_metastasis/\")\n",
    "getwd()"
   ]
  },
  {
   "cell_type": "code",
   "execution_count": 14,
   "id": "50a6ebe3-3b93-4174-8a65-4285be2fc2f8",
   "metadata": {},
   "outputs": [
    {
     "data": {
      "text/html": [
       "<style>\n",
       ".list-inline {list-style: none; margin:0; padding: 0}\n",
       ".list-inline>li {display: inline-block}\n",
       ".list-inline>li:not(:last-child)::after {content: \"\\00b7\"; padding: 0 .5ex}\n",
       "</style>\n",
       "<ol class=list-inline><li>'NSCLC_tumor'</li><li>'SCLC_tumor'</li><li>'subset_NSCLC'</li><li>'subset_SCLC'</li><li>'tumorcell'</li></ol>\n"
      ],
      "text/latex": [
       "\\begin{enumerate*}\n",
       "\\item 'NSCLC\\_tumor'\n",
       "\\item 'SCLC\\_tumor'\n",
       "\\item 'subset\\_NSCLC'\n",
       "\\item 'subset\\_SCLC'\n",
       "\\item 'tumorcell'\n",
       "\\end{enumerate*}\n"
      ],
      "text/markdown": [
       "1. 'NSCLC_tumor'\n",
       "2. 'SCLC_tumor'\n",
       "3. 'subset_NSCLC'\n",
       "4. 'subset_SCLC'\n",
       "5. 'tumorcell'\n",
       "\n",
       "\n"
      ],
      "text/plain": [
       "[1] \"NSCLC_tumor\"  \"SCLC_tumor\"   \"subset_NSCLC\" \"subset_SCLC\"  \"tumorcell\"   "
      ]
     },
     "metadata": {},
     "output_type": "display_data"
    }
   ],
   "source": [
    "readRDS(\"/media/inspur/AS2150G2/LDK/sclc_metastasis/rds_from_Mr.wang/NSCLC_celltype.rds\")-> subset_NSCLC\n",
    "load(\"/media/inspur/AS2150G2/LDK/sclc_metastasis/data_out/2.SCLC.filter.rdata\")\n",
    "subset_SCLC <- SCLC.filter; rm(SCLC.filter);ls()"
   ]
  },
  {
   "cell_type": "code",
   "execution_count": 15,
   "id": "7408644c-9bf4-4784-9d55-d427af00c41b",
   "metadata": {},
   "outputs": [],
   "source": [
    "subset(subset_NSCLC, new_celltype ==\"Epithelial\")->NSCLC_tumor\n",
    "subset(subset_SCLC, celltype ==\"tumor\")->SCLC_tumor"
   ]
  },
  {
   "cell_type": "code",
   "execution_count": 16,
   "id": "0278e3f9-af1a-4809-9a1b-3fa88d4b1cb8",
   "metadata": {},
   "outputs": [],
   "source": [
    "tumorcell <- merge(NSCLC_tumor, y = SCLC_tumor, project = \"tumor\")"
   ]
  },
  {
   "cell_type": "code",
   "execution_count": 12,
   "id": "d92ede8b-7fbf-4890-9b4c-9b990cc7201a",
   "metadata": {},
   "outputs": [],
   "source": [
    "# saveRDS(tumorcell, file = \"data_out/3.2.tumorcell.rds\")\n",
    "# readRDS(\"data_out/3.2.tumorcell.rds\")->tumorcell"
   ]
  },
  {
   "cell_type": "code",
   "execution_count": 140,
   "id": "218c43be-e252-4abf-abbe-9e25a120c0b1",
   "metadata": {},
   "outputs": [
    {
     "data": {
      "text/plain": [
       "An object of class Seurat \n",
       "39839 features across 15024 samples within 1 assay \n",
       "Active assay: RNA (39839 features, 0 variable features)"
      ]
     },
     "metadata": {},
     "output_type": "display_data"
    },
    {
     "data": {
      "text/html": [
       "<table class=\"dataframe\">\n",
       "<caption>A data.frame: 6 × 22</caption>\n",
       "<thead>\n",
       "\t<tr><th></th><th scope=col>orig.ident</th><th scope=col>nCount_RNA</th><th scope=col>nFeature_RNA</th><th scope=col>UMAP_1</th><th scope=col>UMAP_2</th><th scope=col>Celltype..malignancy.</th><th scope=col>Celltype..major.lineage.</th><th scope=col>Celltype..minor.lineage.</th><th scope=col>seurat_clusters</th><th scope=col>Sample</th><th scope=col>⋯</th><th scope=col>Source</th><th scope=col>Stage</th><th scope=col>celltype</th><th scope=col>percent.mt</th><th scope=col>RNA_snn_res.0.5</th><th scope=col>RNA_snn_res.2</th><th scope=col>new_celltype</th><th scope=col>sample</th><th scope=col>percent.HB</th><th scope=col>RNA_snn_res.0.8</th></tr>\n",
       "\t<tr><th></th><th scope=col>&lt;chr&gt;</th><th scope=col>&lt;dbl&gt;</th><th scope=col>&lt;int&gt;</th><th scope=col>&lt;dbl&gt;</th><th scope=col>&lt;dbl&gt;</th><th scope=col>&lt;chr&gt;</th><th scope=col>&lt;chr&gt;</th><th scope=col>&lt;chr&gt;</th><th scope=col>&lt;chr&gt;</th><th scope=col>&lt;chr&gt;</th><th scope=col>⋯</th><th scope=col>&lt;chr&gt;</th><th scope=col>&lt;chr&gt;</th><th scope=col>&lt;chr&gt;</th><th scope=col>&lt;dbl&gt;</th><th scope=col>&lt;chr&gt;</th><th scope=col>&lt;chr&gt;</th><th scope=col>&lt;chr&gt;</th><th scope=col>&lt;chr&gt;</th><th scope=col>&lt;dbl&gt;</th><th scope=col>&lt;chr&gt;</th></tr>\n",
       "</thead>\n",
       "<tbody>\n",
       "\t<tr><th scope=row>ACTTACTAGAACAACT_LN_11</th><td>LN_11  </td><td>8660</td><td>1808</td><td>-5.955090</td><td>4.8156635</td><td>Immune cells</td><td>B       </td><td>B    </td><td>29</td><td>LN_11  </td><td>⋯</td><td>Pleural effusion</td><td>Primary   </td><td>B       </td><td>0.5773672</td><td>16</td><td>29</td><td>Epithelial</td><td>NA</td><td>NA</td><td>NA</td></tr>\n",
       "\t<tr><th scope=row>AAGGTTCAGCGAGAAA_LN_11</th><td>LN_11  </td><td>3544</td><td>1036</td><td>-6.195390</td><td>5.1381489</td><td>Immune cells</td><td>CD4Tconv</td><td>CD4Tn</td><td>18</td><td>LN_11  </td><td>⋯</td><td>Pleural effusion</td><td>Primary   </td><td>CD4Tconv</td><td>0.3103837</td><td>6 </td><td>18</td><td>Epithelial</td><td>NA</td><td>NA</td><td>NA</td></tr>\n",
       "\t<tr><th scope=row>ATCATGGTCTAACGGT_EBUS_19</th><td>EBUS_19</td><td>6750</td><td>2185</td><td>-4.173180</td><td>0.9200947</td><td>Immune cells</td><td>CD4Tconv</td><td>CD4Tn</td><td>31</td><td>EBUS_19</td><td>⋯</td><td>mLN             </td><td>Metastatic</td><td>CD4Tconv</td><td>2.6370370</td><td>17</td><td>31</td><td>Epithelial</td><td>NA</td><td>NA</td><td>NA</td></tr>\n",
       "\t<tr><th scope=row>CAGCCGAGTCATCGGC_LN_11</th><td>LN_11  </td><td>3935</td><td>1566</td><td>-5.665856</td><td>4.9351789</td><td>Immune cells</td><td>CD4Tconv</td><td>CD4Tn</td><td>18</td><td>LN_11  </td><td>⋯</td><td>Pleural effusion</td><td>Primary   </td><td>CD4Tconv</td><td>0.2795426</td><td>6 </td><td>18</td><td>Epithelial</td><td>NA</td><td>NA</td><td>NA</td></tr>\n",
       "\t<tr><th scope=row>CCACGGAAGTTATCGC_LN_07</th><td>LN_07  </td><td>5258</td><td>1821</td><td>-5.763158</td><td>3.1899425</td><td>Immune cells</td><td>CD4Tconv</td><td>CD4Tn</td><td>18</td><td>LN_07  </td><td>⋯</td><td>Pleural effusion</td><td>Primary   </td><td>CD4Tconv</td><td>5.8577406</td><td>6 </td><td>18</td><td>Epithelial</td><td>NA</td><td>NA</td><td>NA</td></tr>\n",
       "\t<tr><th scope=row>CTGAAACTCTCAAGTG_LN_04</th><td>LN_04  </td><td>3439</td><td>1248</td><td>-5.697272</td><td>3.6802415</td><td>Immune cells</td><td>CD4Tconv</td><td>CD4Tn</td><td>18</td><td>LN_04  </td><td>⋯</td><td>nLN             </td><td>Primary   </td><td>CD4Tconv</td><td>2.5588834</td><td>6 </td><td>18</td><td>Epithelial</td><td>NA</td><td>NA</td><td>NA</td></tr>\n",
       "</tbody>\n",
       "</table>\n"
      ],
      "text/latex": [
       "A data.frame: 6 × 22\n",
       "\\begin{tabular}{r|lllllllllllllllllllll}\n",
       "  & orig.ident & nCount\\_RNA & nFeature\\_RNA & UMAP\\_1 & UMAP\\_2 & Celltype..malignancy. & Celltype..major.lineage. & Celltype..minor.lineage. & seurat\\_clusters & Sample & ⋯ & Source & Stage & celltype & percent.mt & RNA\\_snn\\_res.0.5 & RNA\\_snn\\_res.2 & new\\_celltype & sample & percent.HB & RNA\\_snn\\_res.0.8\\\\\n",
       "  & <chr> & <dbl> & <int> & <dbl> & <dbl> & <chr> & <chr> & <chr> & <chr> & <chr> & ⋯ & <chr> & <chr> & <chr> & <dbl> & <chr> & <chr> & <chr> & <chr> & <dbl> & <chr>\\\\\n",
       "\\hline\n",
       "\tACTTACTAGAACAACT\\_LN\\_11 & LN\\_11   & 8660 & 1808 & -5.955090 & 4.8156635 & Immune cells & B        & B     & 29 & LN\\_11   & ⋯ & Pleural effusion & Primary    & B        & 0.5773672 & 16 & 29 & Epithelial & NA & NA & NA\\\\\n",
       "\tAAGGTTCAGCGAGAAA\\_LN\\_11 & LN\\_11   & 3544 & 1036 & -6.195390 & 5.1381489 & Immune cells & CD4Tconv & CD4Tn & 18 & LN\\_11   & ⋯ & Pleural effusion & Primary    & CD4Tconv & 0.3103837 & 6  & 18 & Epithelial & NA & NA & NA\\\\\n",
       "\tATCATGGTCTAACGGT\\_EBUS\\_19 & EBUS\\_19 & 6750 & 2185 & -4.173180 & 0.9200947 & Immune cells & CD4Tconv & CD4Tn & 31 & EBUS\\_19 & ⋯ & mLN              & Metastatic & CD4Tconv & 2.6370370 & 17 & 31 & Epithelial & NA & NA & NA\\\\\n",
       "\tCAGCCGAGTCATCGGC\\_LN\\_11 & LN\\_11   & 3935 & 1566 & -5.665856 & 4.9351789 & Immune cells & CD4Tconv & CD4Tn & 18 & LN\\_11   & ⋯ & Pleural effusion & Primary    & CD4Tconv & 0.2795426 & 6  & 18 & Epithelial & NA & NA & NA\\\\\n",
       "\tCCACGGAAGTTATCGC\\_LN\\_07 & LN\\_07   & 5258 & 1821 & -5.763158 & 3.1899425 & Immune cells & CD4Tconv & CD4Tn & 18 & LN\\_07   & ⋯ & Pleural effusion & Primary    & CD4Tconv & 5.8577406 & 6  & 18 & Epithelial & NA & NA & NA\\\\\n",
       "\tCTGAAACTCTCAAGTG\\_LN\\_04 & LN\\_04   & 3439 & 1248 & -5.697272 & 3.6802415 & Immune cells & CD4Tconv & CD4Tn & 18 & LN\\_04   & ⋯ & nLN              & Primary    & CD4Tconv & 2.5588834 & 6  & 18 & Epithelial & NA & NA & NA\\\\\n",
       "\\end{tabular}\n"
      ],
      "text/markdown": [
       "\n",
       "A data.frame: 6 × 22\n",
       "\n",
       "| <!--/--> | orig.ident &lt;chr&gt; | nCount_RNA &lt;dbl&gt; | nFeature_RNA &lt;int&gt; | UMAP_1 &lt;dbl&gt; | UMAP_2 &lt;dbl&gt; | Celltype..malignancy. &lt;chr&gt; | Celltype..major.lineage. &lt;chr&gt; | Celltype..minor.lineage. &lt;chr&gt; | seurat_clusters &lt;chr&gt; | Sample &lt;chr&gt; | ⋯ ⋯ | Source &lt;chr&gt; | Stage &lt;chr&gt; | celltype &lt;chr&gt; | percent.mt &lt;dbl&gt; | RNA_snn_res.0.5 &lt;chr&gt; | RNA_snn_res.2 &lt;chr&gt; | new_celltype &lt;chr&gt; | sample &lt;chr&gt; | percent.HB &lt;dbl&gt; | RNA_snn_res.0.8 &lt;chr&gt; |\n",
       "|---|---|---|---|---|---|---|---|---|---|---|---|---|---|---|---|---|---|---|---|---|---|\n",
       "| ACTTACTAGAACAACT_LN_11 | LN_11   | 8660 | 1808 | -5.955090 | 4.8156635 | Immune cells | B        | B     | 29 | LN_11   | ⋯ | Pleural effusion | Primary    | B        | 0.5773672 | 16 | 29 | Epithelial | NA | NA | NA |\n",
       "| AAGGTTCAGCGAGAAA_LN_11 | LN_11   | 3544 | 1036 | -6.195390 | 5.1381489 | Immune cells | CD4Tconv | CD4Tn | 18 | LN_11   | ⋯ | Pleural effusion | Primary    | CD4Tconv | 0.3103837 | 6  | 18 | Epithelial | NA | NA | NA |\n",
       "| ATCATGGTCTAACGGT_EBUS_19 | EBUS_19 | 6750 | 2185 | -4.173180 | 0.9200947 | Immune cells | CD4Tconv | CD4Tn | 31 | EBUS_19 | ⋯ | mLN              | Metastatic | CD4Tconv | 2.6370370 | 17 | 31 | Epithelial | NA | NA | NA |\n",
       "| CAGCCGAGTCATCGGC_LN_11 | LN_11   | 3935 | 1566 | -5.665856 | 4.9351789 | Immune cells | CD4Tconv | CD4Tn | 18 | LN_11   | ⋯ | Pleural effusion | Primary    | CD4Tconv | 0.2795426 | 6  | 18 | Epithelial | NA | NA | NA |\n",
       "| CCACGGAAGTTATCGC_LN_07 | LN_07   | 5258 | 1821 | -5.763158 | 3.1899425 | Immune cells | CD4Tconv | CD4Tn | 18 | LN_07   | ⋯ | Pleural effusion | Primary    | CD4Tconv | 5.8577406 | 6  | 18 | Epithelial | NA | NA | NA |\n",
       "| CTGAAACTCTCAAGTG_LN_04 | LN_04   | 3439 | 1248 | -5.697272 | 3.6802415 | Immune cells | CD4Tconv | CD4Tn | 18 | LN_04   | ⋯ | nLN              | Primary    | CD4Tconv | 2.5588834 | 6  | 18 | Epithelial | NA | NA | NA |\n",
       "\n"
      ],
      "text/plain": [
       "                         orig.ident nCount_RNA nFeature_RNA UMAP_1    UMAP_2   \n",
       "ACTTACTAGAACAACT_LN_11   LN_11      8660       1808         -5.955090 4.8156635\n",
       "AAGGTTCAGCGAGAAA_LN_11   LN_11      3544       1036         -6.195390 5.1381489\n",
       "ATCATGGTCTAACGGT_EBUS_19 EBUS_19    6750       2185         -4.173180 0.9200947\n",
       "CAGCCGAGTCATCGGC_LN_11   LN_11      3935       1566         -5.665856 4.9351789\n",
       "CCACGGAAGTTATCGC_LN_07   LN_07      5258       1821         -5.763158 3.1899425\n",
       "CTGAAACTCTCAAGTG_LN_04   LN_04      3439       1248         -5.697272 3.6802415\n",
       "                         Celltype..malignancy. Celltype..major.lineage.\n",
       "ACTTACTAGAACAACT_LN_11   Immune cells          B                       \n",
       "AAGGTTCAGCGAGAAA_LN_11   Immune cells          CD4Tconv                \n",
       "ATCATGGTCTAACGGT_EBUS_19 Immune cells          CD4Tconv                \n",
       "CAGCCGAGTCATCGGC_LN_11   Immune cells          CD4Tconv                \n",
       "CCACGGAAGTTATCGC_LN_07   Immune cells          CD4Tconv                \n",
       "CTGAAACTCTCAAGTG_LN_04   Immune cells          CD4Tconv                \n",
       "                         Celltype..minor.lineage. seurat_clusters Sample  ⋯\n",
       "ACTTACTAGAACAACT_LN_11   B                        29              LN_11   ⋯\n",
       "AAGGTTCAGCGAGAAA_LN_11   CD4Tn                    18              LN_11   ⋯\n",
       "ATCATGGTCTAACGGT_EBUS_19 CD4Tn                    31              EBUS_19 ⋯\n",
       "CAGCCGAGTCATCGGC_LN_11   CD4Tn                    18              LN_11   ⋯\n",
       "CCACGGAAGTTATCGC_LN_07   CD4Tn                    18              LN_07   ⋯\n",
       "CTGAAACTCTCAAGTG_LN_04   CD4Tn                    18              LN_04   ⋯\n",
       "                         Source           Stage      celltype percent.mt\n",
       "ACTTACTAGAACAACT_LN_11   Pleural effusion Primary    B        0.5773672 \n",
       "AAGGTTCAGCGAGAAA_LN_11   Pleural effusion Primary    CD4Tconv 0.3103837 \n",
       "ATCATGGTCTAACGGT_EBUS_19 mLN              Metastatic CD4Tconv 2.6370370 \n",
       "CAGCCGAGTCATCGGC_LN_11   Pleural effusion Primary    CD4Tconv 0.2795426 \n",
       "CCACGGAAGTTATCGC_LN_07   Pleural effusion Primary    CD4Tconv 5.8577406 \n",
       "CTGAAACTCTCAAGTG_LN_04   nLN              Primary    CD4Tconv 2.5588834 \n",
       "                         RNA_snn_res.0.5 RNA_snn_res.2 new_celltype sample\n",
       "ACTTACTAGAACAACT_LN_11   16              29            Epithelial   NA    \n",
       "AAGGTTCAGCGAGAAA_LN_11   6               18            Epithelial   NA    \n",
       "ATCATGGTCTAACGGT_EBUS_19 17              31            Epithelial   NA    \n",
       "CAGCCGAGTCATCGGC_LN_11   6               18            Epithelial   NA    \n",
       "CCACGGAAGTTATCGC_LN_07   6               18            Epithelial   NA    \n",
       "CTGAAACTCTCAAGTG_LN_04   6               18            Epithelial   NA    \n",
       "                         percent.HB RNA_snn_res.0.8\n",
       "ACTTACTAGAACAACT_LN_11   NA         NA             \n",
       "AAGGTTCAGCGAGAAA_LN_11   NA         NA             \n",
       "ATCATGGTCTAACGGT_EBUS_19 NA         NA             \n",
       "CAGCCGAGTCATCGGC_LN_11   NA         NA             \n",
       "CCACGGAAGTTATCGC_LN_07   NA         NA             \n",
       "CTGAAACTCTCAAGTG_LN_04   NA         NA             "
      ]
     },
     "metadata": {},
     "output_type": "display_data"
    },
    {
     "data": {
      "text/plain": [
       "\n",
       "BRONCHO_11    EBUS_10    EBUS_12    EBUS_13    EBUS_15    EBUS_19    EBUS_51 \n",
       "       200        406        295        359        215        227       1299 \n",
       "     LN_01      LN_02      LN_03      LN_04      LN_05      LN_06      LN_07 \n",
       "         7          6          3          6         16          6         29 \n",
       "     LN_08      LN_11      LN_12         S1         S2         S3         S4 \n",
       "        15         13         19       1587       2601         38       2330 \n",
       "        S5         S6         S7 \n",
       "        74       4896        377 "
      ]
     },
     "metadata": {},
     "output_type": "display_data"
    }
   ],
   "source": [
    "# check\n",
    "tumorcell\n",
    "head(tumorcell@meta.data)\n",
    "table(tumorcell$orig.ident)"
   ]
  },
  {
   "cell_type": "code",
   "execution_count": 19,
   "id": "e642d1fd-d35b-4f76-9394-d2e3cb7939c8",
   "metadata": {},
   "outputs": [],
   "source": [
    "topn <- 3000\n",
    "ranks <- 4\n",
    "library(NMF)"
   ]
  },
  {
   "cell_type": "code",
   "execution_count": 20,
   "id": "97b22a0e-6e19-4a76-9702-c0c1ba6b6a14",
   "metadata": {},
   "outputs": [],
   "source": [
    "patients=c(\"EBUS_10\",\"BRONCHO_11\",\"EBUS_12\",\"EBUS_13\",\"EBUS_15\",\"EBUS_19\",\"EBUS_51\",\"S1\",\"S2\",\"S3\",\"S4\",\"S5\",\"S6\",\"S7\")"
   ]
  },
  {
   "cell_type": "code",
   "execution_count": 29,
   "id": "561a09d7-523d-48b2-b666-d0f6d970abd1",
   "metadata": {},
   "outputs": [
    {
     "data": {
      "text/html": [
       "'/media/inspur/AS2150G2/LDK/sclc_metastasis'"
      ],
      "text/latex": [
       "'/media/inspur/AS2150G2/LDK/sclc\\_metastasis'"
      ],
      "text/markdown": [
       "'/media/inspur/AS2150G2/LDK/sclc_metastasis'"
      ],
      "text/plain": [
       "[1] \"/media/inspur/AS2150G2/LDK/sclc_metastasis\""
      ]
     },
     "metadata": {},
     "output_type": "display_data"
    },
    {
     "data": {
      "text/html": [
       "<style>\n",
       ".list-inline {list-style: none; margin:0; padding: 0}\n",
       ".list-inline>li {display: inline-block}\n",
       ".list-inline>li:not(:last-child)::after {content: \"\\00b7\"; padding: 0 .5ex}\n",
       "</style>\n",
       "<ol class=list-inline><li>'genesd'</li><li>'i'</li><li>'nmfdat'</li><li>'NSCLC_tumor'</li><li>'patients'</li><li>'ranks'</li><li>'res_4'</li><li>'SCLC_tumor'</li><li>'signature'</li><li>'subset_NSCLC'</li><li>'subset_SCLC'</li><li>'topn'</li><li>'topNgene'</li><li>'tumorcell'</li></ol>\n"
      ],
      "text/latex": [
       "\\begin{enumerate*}\n",
       "\\item 'genesd'\n",
       "\\item 'i'\n",
       "\\item 'nmfdat'\n",
       "\\item 'NSCLC\\_tumor'\n",
       "\\item 'patients'\n",
       "\\item 'ranks'\n",
       "\\item 'res\\_4'\n",
       "\\item 'SCLC\\_tumor'\n",
       "\\item 'signature'\n",
       "\\item 'subset\\_NSCLC'\n",
       "\\item 'subset\\_SCLC'\n",
       "\\item 'topn'\n",
       "\\item 'topNgene'\n",
       "\\item 'tumorcell'\n",
       "\\end{enumerate*}\n"
      ],
      "text/markdown": [
       "1. 'genesd'\n",
       "2. 'i'\n",
       "3. 'nmfdat'\n",
       "4. 'NSCLC_tumor'\n",
       "5. 'patients'\n",
       "6. 'ranks'\n",
       "7. 'res_4'\n",
       "8. 'SCLC_tumor'\n",
       "9. 'signature'\n",
       "10. 'subset_NSCLC'\n",
       "11. 'subset_SCLC'\n",
       "12. 'topn'\n",
       "13. 'topNgene'\n",
       "14. 'tumorcell'\n",
       "\n",
       "\n"
      ],
      "text/plain": [
       " [1] \"genesd\"       \"i\"            \"nmfdat\"       \"NSCLC_tumor\"  \"patients\"    \n",
       " [6] \"ranks\"        \"res_4\"        \"SCLC_tumor\"   \"signature\"    \"subset_NSCLC\"\n",
       "[11] \"subset_SCLC\"  \"topn\"         \"topNgene\"     \"tumorcell\"   "
      ]
     },
     "metadata": {},
     "output_type": "display_data"
    },
    {
     "data": {
      "text/html": [
       "<style>\n",
       ".list-inline {list-style: none; margin:0; padding: 0}\n",
       ".list-inline>li {display: inline-block}\n",
       ".list-inline>li:not(:last-child)::after {content: \"\\00b7\"; padding: 0 .5ex}\n",
       "</style>\n",
       "<ol class=list-inline><li>'EBUS_10'</li><li>'BRONCHO_11'</li><li>'EBUS_12'</li><li>'EBUS_13'</li><li>'EBUS_15'</li><li>'EBUS_19'</li><li>'EBUS_51'</li><li>'S1'</li><li>'S2'</li><li>'S3'</li><li>'S4'</li><li>'S5'</li><li>'S6'</li><li>'S7'</li></ol>\n"
      ],
      "text/latex": [
       "\\begin{enumerate*}\n",
       "\\item 'EBUS\\_10'\n",
       "\\item 'BRONCHO\\_11'\n",
       "\\item 'EBUS\\_12'\n",
       "\\item 'EBUS\\_13'\n",
       "\\item 'EBUS\\_15'\n",
       "\\item 'EBUS\\_19'\n",
       "\\item 'EBUS\\_51'\n",
       "\\item 'S1'\n",
       "\\item 'S2'\n",
       "\\item 'S3'\n",
       "\\item 'S4'\n",
       "\\item 'S5'\n",
       "\\item 'S6'\n",
       "\\item 'S7'\n",
       "\\end{enumerate*}\n"
      ],
      "text/markdown": [
       "1. 'EBUS_10'\n",
       "2. 'BRONCHO_11'\n",
       "3. 'EBUS_12'\n",
       "4. 'EBUS_13'\n",
       "5. 'EBUS_15'\n",
       "6. 'EBUS_19'\n",
       "7. 'EBUS_51'\n",
       "8. 'S1'\n",
       "9. 'S2'\n",
       "10. 'S3'\n",
       "11. 'S4'\n",
       "12. 'S5'\n",
       "13. 'S6'\n",
       "14. 'S7'\n",
       "\n",
       "\n"
      ],
      "text/plain": [
       " [1] \"EBUS_10\"    \"BRONCHO_11\" \"EBUS_12\"    \"EBUS_13\"    \"EBUS_15\"   \n",
       " [6] \"EBUS_19\"    \"EBUS_51\"    \"S1\"         \"S2\"         \"S3\"        \n",
       "[11] \"S4\"         \"S5\"         \"S6\"         \"S7\"        "
      ]
     },
     "metadata": {},
     "output_type": "display_data"
    }
   ],
   "source": [
    "getwd()\n",
    "ls()\n",
    "patients"
   ]
  },
  {
   "cell_type": "code",
   "execution_count": null,
   "id": "39de86df-6166-4b60-89b9-f1ea981156a2",
   "metadata": {},
   "outputs": [],
   "source": [
    "for (i in patients){\n",
    "  if (!dir.exists(\"nmfSingle\")){\n",
    "    dir.create(\"./nmfSingle\")\n",
    "  }\n",
    "   if (!dir.exists(paste0(\"nmfSingle/\", i))){\n",
    "    dir.create(paste0(\"nmfSingle/\", i))\n",
    "  }\n",
    "  #nmfdat <- epidat[, str_detect(colnames(epidat), i)]\n",
    "   nmfdat<-as.matrix(subset(tumorcell,orig.ident== i)$RNA@data)\n",
    "  ## Step 02: chose top 6000 genes with highest sds\n",
    "  nmfdat[nmfdat < 0] <- 0 # Gene expression values less than zero are replaced by 0\n",
    "  genesd <- apply(nmfdat, 1, sd)\n",
    "  topNgene <- genesd[order(genesd, decreasing = T)][1:topn]\n",
    "  nmfdat <- nmfdat[rownames(nmfdat) %in% names(topNgene), ]\n",
    "  # nrun可以选择在30-50之间\n",
    "  print(system.time(res_4 <- nmf(nmfdat, rank = ranks, method=\"brunet\", nrun=30, seed=123456))) \n",
    "  signature <- NMF::basis(res_4)\n",
    "  # consensusdat <- res_4@consensus \n",
    "  # 看聚类的轮廓值\n",
    "  # si <- silhouette(res_4, what = 'consensus')\n",
    "  # sicluster <- si[1:ncol(nmfdat), ]\n",
    "  # 保存NMF的一些聚类图\n",
    "  # tiff(paste0(\"./nmfSingle/\", i, \"/consensus_\", topn, \".tiff\"), \n",
    "   #     width = 6*480, height = 4*480, res = 300)\n",
    "   #consensusmap(res_4)\n",
    "   #dev.off()\n",
    "   #tiff(paste0(\"./nmfSingle/\", i, \"/basicmap_\", topn, \".tiff\"), \n",
    "   #     width = 8 * 480, height = 4*480, res = 300)\n",
    "   #basismap(res_4)\n",
    "   #dev.off()\n",
    "   #tiff(paste0(\"./nmfSingle/\", i, \"/coefmap_\", topn, \".tiff\"), \n",
    "   #     width = 8 * 480, height = 4*480, res = 300)\n",
    "   #coefmap(res_4)\n",
    "   #dev.off()\n",
    "  colnames(signature) <- paste0(i, \"_\", 1:ranks)\n",
    "  signature <- as.data.frame(signature)\n",
    "  # save data\n",
    "  write.table(signature, paste0(\"./nmfSingle/\", i, \"/singature\", topn, \".txt\"),\n",
    "              sep = \"\\t\")\n",
    "   saveRDS(res_4, file = paste0(\"./nmfSingle/\", i, \"/res\", ranks, \"_\", topn, \".rds\"))\n",
    "  print(paste0(\"NMF for the\", i, \"is Done!\"))\n",
    "}\n"
   ]
  },
  {
   "cell_type": "markdown",
   "id": "ed6fa369-4807-4bde-9c3e-59db5919d631",
   "metadata": {},
   "source": [
    "## Try1"
   ]
  },
  {
   "cell_type": "code",
   "execution_count": 7,
   "id": "195e15a2-ff47-4c47-a2de-7cab9d7aae7c",
   "metadata": {},
   "outputs": [],
   "source": [
    "library(tidyverse)\n",
    "\n",
    "gene_list=c()\n",
    "merge_list=list()\n",
    "meta_list=c()\n",
    "for (i in 1:length(patients)){\n",
    "  filedir <- paste0(\"./nmfSingle/\", patients[i], \"/singature\", topn, \".txt\")\n",
    "  geneloading <- read.table(filedir, header = T, sep = \"\\t\")\n",
    "  merge_list[[i]]<-geneloading\n",
    "  gene_list=c(gene_list,rownames(geneloading))\n",
    "  meta_list=c(meta_list,colnames(geneloading))\n",
    "  }"
   ]
  },
  {
   "cell_type": "code",
   "execution_count": 8,
   "id": "6e2c5b2f-87fa-41c0-8bef-9ed42f60bc11",
   "metadata": {},
   "outputs": [
    {
     "data": {
      "text/html": [
       "<style>\n",
       ".list-inline {list-style: none; margin:0; padding: 0}\n",
       ".list-inline>li {display: inline-block}\n",
       ".list-inline>li:not(:last-child)::after {content: \"\\00b7\"; padding: 0 .5ex}\n",
       "</style>\n",
       "<ol class=list-inline><li>'AAED1'</li><li>'AAMDC'</li><li>'AAMP'</li><li>'ABCC3'</li><li>'ABCE1'</li><li>'ABCF1'</li></ol>\n"
      ],
      "text/latex": [
       "\\begin{enumerate*}\n",
       "\\item 'AAED1'\n",
       "\\item 'AAMDC'\n",
       "\\item 'AAMP'\n",
       "\\item 'ABCC3'\n",
       "\\item 'ABCE1'\n",
       "\\item 'ABCF1'\n",
       "\\end{enumerate*}\n"
      ],
      "text/markdown": [
       "1. 'AAED1'\n",
       "2. 'AAMDC'\n",
       "3. 'AAMP'\n",
       "4. 'ABCC3'\n",
       "5. 'ABCE1'\n",
       "6. 'ABCF1'\n",
       "\n",
       "\n"
      ],
      "text/plain": [
       "[1] \"AAED1\" \"AAMDC\" \"AAMP\"  \"ABCC3\" \"ABCE1\" \"ABCF1\""
      ]
     },
     "metadata": {},
     "output_type": "display_data"
    },
    {
     "data": {
      "text/html": [
       "42000"
      ],
      "text/latex": [
       "42000"
      ],
      "text/markdown": [
       "42000"
      ],
      "text/plain": [
       "[1] 42000"
      ]
     },
     "metadata": {},
     "output_type": "display_data"
    },
    {
     "data": {
      "text/html": [
       "7720"
      ],
      "text/latex": [
       "7720"
      ],
      "text/markdown": [
       "7720"
      ],
      "text/plain": [
       "[1] 7720"
      ]
     },
     "metadata": {},
     "output_type": "display_data"
    },
    {
     "data": {
      "text/html": [
       "<style>\n",
       ".list-inline {list-style: none; margin:0; padding: 0}\n",
       ".list-inline>li {display: inline-block}\n",
       ".list-inline>li:not(:last-child)::after {content: \"\\00b7\"; padding: 0 .5ex}\n",
       "</style>\n",
       "<ol class=list-inline><li>'EBUS_10_1'</li><li>'EBUS_10_2'</li><li>'EBUS_10_3'</li><li>'EBUS_10_4'</li><li>'BRONCHO_11_1'</li><li>'BRONCHO_11_2'</li></ol>\n"
      ],
      "text/latex": [
       "\\begin{enumerate*}\n",
       "\\item 'EBUS\\_10\\_1'\n",
       "\\item 'EBUS\\_10\\_2'\n",
       "\\item 'EBUS\\_10\\_3'\n",
       "\\item 'EBUS\\_10\\_4'\n",
       "\\item 'BRONCHO\\_11\\_1'\n",
       "\\item 'BRONCHO\\_11\\_2'\n",
       "\\end{enumerate*}\n"
      ],
      "text/markdown": [
       "1. 'EBUS_10_1'\n",
       "2. 'EBUS_10_2'\n",
       "3. 'EBUS_10_3'\n",
       "4. 'EBUS_10_4'\n",
       "5. 'BRONCHO_11_1'\n",
       "6. 'BRONCHO_11_2'\n",
       "\n",
       "\n"
      ],
      "text/plain": [
       "[1] \"EBUS_10_1\"    \"EBUS_10_2\"    \"EBUS_10_3\"    \"EBUS_10_4\"    \"BRONCHO_11_1\"\n",
       "[6] \"BRONCHO_11_2\""
      ]
     },
     "metadata": {},
     "output_type": "display_data"
    },
    {
     "data": {
      "text/html": [
       "56"
      ],
      "text/latex": [
       "56"
      ],
      "text/markdown": [
       "56"
      ],
      "text/plain": [
       "[1] 56"
      ]
     },
     "metadata": {},
     "output_type": "display_data"
    }
   ],
   "source": [
    "head(gene_list); length(gene_list);length(unique(gene_list))\n",
    "head(meta_list); length(meta_list)"
   ]
  },
  {
   "cell_type": "code",
   "execution_count": 9,
   "id": "d5bd6b7e-641b-4197-9a05-c5b37b54fe82",
   "metadata": {
    "scrolled": true,
    "tags": []
   },
   "outputs": [
    {
     "name": "stdout",
     "output_type": "stream",
     "text": [
      "List of 14\n",
      " $ :'data.frame':\t3000 obs. of  4 variables:\n",
      "  ..$ EBUS_10_1: num [1:3000] 7.34e-01 1.49 1.39 2.22e-16 6.01e-01 ...\n",
      "  ..$ EBUS_10_2: num [1:3000] 4.61 2.61 4.67 1.88 4.06 ...\n",
      "  ..$ EBUS_10_3: num [1:3000] 1.5463 3.0148 4.2134 0.0671 0.4974 ...\n",
      "  ..$ EBUS_10_4: num [1:3000] 2.22e-16 2.22e-16 1.42 7.37 1.81 ...\n",
      " $ :'data.frame':\t3000 obs. of  4 variables:\n",
      "  ..$ BRONCHO_11_1: num [1:3000] 7.94e-01 2.22e-16 1.44 2.22e-16 2.22e-16 ...\n",
      "  ..$ BRONCHO_11_2: num [1:3000] 0.465 0.708 0.886 1.045 0.629 ...\n",
      "  ..$ BRONCHO_11_3: num [1:3000] 2.248 0.783 0.835 1.487 1.015 ...\n",
      "  ..$ BRONCHO_11_4: num [1:3000] 2.83 4.43 4.39 6.23 4.25 ...\n",
      " $ :'data.frame':\t3000 obs. of  4 variables:\n",
      "  ..$ EBUS_12_1: num [1:3000] 2.22e-16 2.22e-16 6.22 2.97 5.27 ...\n",
      "  ..$ EBUS_12_2: num [1:3000] 2.14 1.38 0.508 0.851 0.373 ...\n",
      "  ..$ EBUS_12_3: num [1:3000] 0.0784 2.1327 2.5441 2.3877 3.8696 ...\n",
      "  ..$ EBUS_12_4: num [1:3000] 2.12e-01 3.92 2.22e-16 1.52 2.22e-16 ...\n",
      " $ :'data.frame':\t3000 obs. of  4 variables:\n",
      "  ..$ EBUS_13_1: num [1:3000] 2.00 4.32e-01 2.22e-16 1.22 2.56 ...\n",
      "  ..$ EBUS_13_2: num [1:3000] 2.22e-16 2.29 6.48 1.81 2.22e-16 ...\n",
      "  ..$ EBUS_13_3: num [1:3000] 1.69 1.92 2.22e-16 2.22e-16 2.31 ...\n",
      "  ..$ EBUS_13_4: num [1:3000] 2.25 6.07 2.59 3.55 1.16 ...\n",
      " $ :'data.frame':\t3000 obs. of  4 variables:\n",
      "  ..$ EBUS_15_1: num [1:3000] 5.69 6.12 1.45 1.4 7.5 ...\n",
      "  ..$ EBUS_15_2: num [1:3000] 2.808 0.318 1.676 1.108 0.452 ...\n",
      "  ..$ EBUS_15_3: num [1:3000] 2.22e-16 2.22e-16 3.55 1.80 2.22e-16 ...\n",
      "  ..$ EBUS_15_4: num [1:3000] 7.83 2.22e-16 2.37 1.96 2.22e-16 ...\n",
      " $ :'data.frame':\t3000 obs. of  4 variables:\n",
      "  ..$ EBUS_19_1: num [1:3000] 2.22e-16 1.52 2.22e-16 2.22e-16 2.22e-16 ...\n",
      "  ..$ EBUS_19_2: num [1:3000] 1.27 4.45 3.43 2.22e-16 1.93 ...\n",
      "  ..$ EBUS_19_3: num [1:3000] 1.883 1.079 0.747 1.146 5.493 ...\n",
      "  ..$ EBUS_19_4: num [1:3000] 3.13 1.41 1.4 3.14 3.31 ...\n",
      " $ :'data.frame':\t3000 obs. of  4 variables:\n",
      "  ..$ EBUS_51_1: num [1:3000] 1.97 1.408 0.864 3.661 2.097 ...\n",
      "  ..$ EBUS_51_2: num [1:3000] 3.97 3.51 2.22e-16 2.22e-16 8.41e-01 ...\n",
      "  ..$ EBUS_51_3: num [1:3000] 0.182 2.516 2.764 6.056 0.974 ...\n",
      "  ..$ EBUS_51_4: num [1:3000] 1.74 3.09 5.78 13.73 4.06 ...\n",
      " $ :'data.frame':\t3000 obs. of  4 variables:\n",
      "  ..$ S1_1: num [1:3000] 5.09 3.55 3.13 3.29 3.28 ...\n",
      "  ..$ S1_2: num [1:3000] 1.149 0.883 0.601 1.033 0.448 ...\n",
      "  ..$ S1_3: num [1:3000] 0.782 2.672 3.127 0.337 0.491 ...\n",
      "  ..$ S1_4: num [1:3000] 3.874 0.949 2.547 2.33 3.83 ...\n",
      " $ :'data.frame':\t3000 obs. of  4 variables:\n",
      "  ..$ S2_1: num [1:3000] 0.698 1.936 1.478 1.716 1.283 ...\n",
      "  ..$ S2_2: num [1:3000] 3.079 0.944 1.106 1.75 1.889 ...\n",
      "  ..$ S2_3: num [1:3000] 0.395 0.765 2.254 4.106 2.501 ...\n",
      "  ..$ S2_4: num [1:3000] 3.32 5.05 3.31 2.22e-16 1.81 ...\n",
      " $ :'data.frame':\t3000 obs. of  4 variables:\n",
      "  ..$ S3_1: num [1:3000] 7.38 2.22e-16 2.76 2.22e-16 1.07e+01 ...\n",
      "  ..$ S3_2: num [1:3000] 2.22e-16 8.85 2.22e-16 5.02e-01 6.15 ...\n",
      "  ..$ S3_3: num [1:3000] 4.8 15.46 4.35 4.04 7.14 ...\n",
      "  ..$ S3_4: num [1:3000] 4.17 2.22e-16 5.12 2.07 1.51 ...\n",
      " $ :'data.frame':\t3000 obs. of  4 variables:\n",
      "  ..$ S4_1: num [1:3000] 5.36 1.54 3 1.93 4.22 ...\n",
      "  ..$ S4_2: num [1:3000] 0.933 5.082 1.749 2.705 6.94 ...\n",
      "  ..$ S4_3: num [1:3000] 3.46 1.46 2.08 3.15 2.88 ...\n",
      "  ..$ S4_4: num [1:3000] 0.716 1.79 0.839 0.491 3.188 ...\n",
      " $ :'data.frame':\t3000 obs. of  4 variables:\n",
      "  ..$ S5_1: num [1:3000] 2.22e-16 6.50e-01 1.33 4.00 2.43 ...\n",
      "  ..$ S5_2: num [1:3000] 2.92 2.22e-16 2.46 5.18e-01 2.58 ...\n",
      "  ..$ S5_3: num [1:3000] 1.96 1.45 2.98 2.22e-16 1.65 ...\n",
      "  ..$ S5_4: num [1:3000] 2.22e-16 1.76 2.22e-16 2.22e-16 2.22e-16 ...\n",
      " $ :'data.frame':\t3000 obs. of  4 variables:\n",
      "  ..$ S6_1: num [1:3000] 0.405 1.229 1.568 1.999 1.071 ...\n",
      "  ..$ S6_2: num [1:3000] 1.00 1.35e-05 1.51 5.81 3.14 ...\n",
      "  ..$ S6_3: num [1:3000] 5.61 6.61 3.02 2.69 3.19 ...\n",
      "  ..$ S6_4: num [1:3000] 0.474 2.388 1.338 2.479 1.939 ...\n",
      " $ :'data.frame':\t3000 obs. of  4 variables:\n",
      "  ..$ S7_1: num [1:3000] 0.343 0.717 0.313 1.51 0.625 ...\n",
      "  ..$ S7_2: num [1:3000] 2.806 3.21 0.597 1.203 2.689 ...\n",
      "  ..$ S7_3: num [1:3000] 0.269 3.171 2.47 1.535 2.541 ...\n",
      "  ..$ S7_4: num [1:3000] 4.23 2.52 2.41 4.97 1.65 ...\n"
     ]
    }
   ],
   "source": [
    "str(merge_list)"
   ]
  },
  {
   "cell_type": "code",
   "execution_count": 10,
   "id": "97796368-02d4-4cb2-8211-8587968fcc1d",
   "metadata": {},
   "outputs": [],
   "source": [
    "unique(gene_list)->gene_list2\n",
    "\n",
    "matrix(0,length(gene_list2),length(meta_list))-> M_tmp\n",
    "colnames(M_tmp)<-meta_list\n",
    "rownames(M_tmp)<-gene_list2"
   ]
  },
  {
   "cell_type": "code",
   "execution_count": 11,
   "id": "6827c6cc-3ad3-4824-91ef-d087d5904d7b",
   "metadata": {
    "scrolled": true,
    "tags": []
   },
   "outputs": [
    {
     "data": {
      "text/html": [
       "<table class=\"dataframe\">\n",
       "<caption>A matrix: 7720 × 56 of type dbl</caption>\n",
       "<thead>\n",
       "\t<tr><th></th><th scope=col>EBUS_10_1</th><th scope=col>EBUS_10_2</th><th scope=col>EBUS_10_3</th><th scope=col>EBUS_10_4</th><th scope=col>BRONCHO_11_1</th><th scope=col>BRONCHO_11_2</th><th scope=col>BRONCHO_11_3</th><th scope=col>BRONCHO_11_4</th><th scope=col>EBUS_12_1</th><th scope=col>EBUS_12_2</th><th scope=col>⋯</th><th scope=col>S5_3</th><th scope=col>S5_4</th><th scope=col>S6_1</th><th scope=col>S6_2</th><th scope=col>S6_3</th><th scope=col>S6_4</th><th scope=col>S7_1</th><th scope=col>S7_2</th><th scope=col>S7_3</th><th scope=col>S7_4</th></tr>\n",
       "</thead>\n",
       "<tbody>\n",
       "\t<tr><th scope=row>AAED1</th><td>0</td><td>0</td><td>0</td><td>0</td><td>0</td><td>0</td><td>0</td><td>0</td><td>0</td><td>0</td><td>⋯</td><td>0</td><td>0</td><td>0</td><td>0</td><td>0</td><td>0</td><td>0</td><td>0</td><td>0</td><td>0</td></tr>\n",
       "\t<tr><th scope=row>AAMDC</th><td>0</td><td>0</td><td>0</td><td>0</td><td>0</td><td>0</td><td>0</td><td>0</td><td>0</td><td>0</td><td>⋯</td><td>0</td><td>0</td><td>0</td><td>0</td><td>0</td><td>0</td><td>0</td><td>0</td><td>0</td><td>0</td></tr>\n",
       "\t<tr><th scope=row>AAMP</th><td>0</td><td>0</td><td>0</td><td>0</td><td>0</td><td>0</td><td>0</td><td>0</td><td>0</td><td>0</td><td>⋯</td><td>0</td><td>0</td><td>0</td><td>0</td><td>0</td><td>0</td><td>0</td><td>0</td><td>0</td><td>0</td></tr>\n",
       "\t<tr><th scope=row>ABCC3</th><td>0</td><td>0</td><td>0</td><td>0</td><td>0</td><td>0</td><td>0</td><td>0</td><td>0</td><td>0</td><td>⋯</td><td>0</td><td>0</td><td>0</td><td>0</td><td>0</td><td>0</td><td>0</td><td>0</td><td>0</td><td>0</td></tr>\n",
       "\t<tr><th scope=row>ABCE1</th><td>0</td><td>0</td><td>0</td><td>0</td><td>0</td><td>0</td><td>0</td><td>0</td><td>0</td><td>0</td><td>⋯</td><td>0</td><td>0</td><td>0</td><td>0</td><td>0</td><td>0</td><td>0</td><td>0</td><td>0</td><td>0</td></tr>\n",
       "\t<tr><th scope=row>ABCF1</th><td>0</td><td>0</td><td>0</td><td>0</td><td>0</td><td>0</td><td>0</td><td>0</td><td>0</td><td>0</td><td>⋯</td><td>0</td><td>0</td><td>0</td><td>0</td><td>0</td><td>0</td><td>0</td><td>0</td><td>0</td><td>0</td></tr>\n",
       "\t<tr><th scope=row>ABHD11</th><td>0</td><td>0</td><td>0</td><td>0</td><td>0</td><td>0</td><td>0</td><td>0</td><td>0</td><td>0</td><td>⋯</td><td>0</td><td>0</td><td>0</td><td>0</td><td>0</td><td>0</td><td>0</td><td>0</td><td>0</td><td>0</td></tr>\n",
       "\t<tr><th scope=row>ABHD11-AS1</th><td>0</td><td>0</td><td>0</td><td>0</td><td>0</td><td>0</td><td>0</td><td>0</td><td>0</td><td>0</td><td>⋯</td><td>0</td><td>0</td><td>0</td><td>0</td><td>0</td><td>0</td><td>0</td><td>0</td><td>0</td><td>0</td></tr>\n",
       "\t<tr><th scope=row>ABHD14B</th><td>0</td><td>0</td><td>0</td><td>0</td><td>0</td><td>0</td><td>0</td><td>0</td><td>0</td><td>0</td><td>⋯</td><td>0</td><td>0</td><td>0</td><td>0</td><td>0</td><td>0</td><td>0</td><td>0</td><td>0</td><td>0</td></tr>\n",
       "\t<tr><th scope=row>ABI2</th><td>0</td><td>0</td><td>0</td><td>0</td><td>0</td><td>0</td><td>0</td><td>0</td><td>0</td><td>0</td><td>⋯</td><td>0</td><td>0</td><td>0</td><td>0</td><td>0</td><td>0</td><td>0</td><td>0</td><td>0</td><td>0</td></tr>\n",
       "\t<tr><th scope=row>ABL2</th><td>0</td><td>0</td><td>0</td><td>0</td><td>0</td><td>0</td><td>0</td><td>0</td><td>0</td><td>0</td><td>⋯</td><td>0</td><td>0</td><td>0</td><td>0</td><td>0</td><td>0</td><td>0</td><td>0</td><td>0</td><td>0</td></tr>\n",
       "\t<tr><th scope=row>ABRACL</th><td>0</td><td>0</td><td>0</td><td>0</td><td>0</td><td>0</td><td>0</td><td>0</td><td>0</td><td>0</td><td>⋯</td><td>0</td><td>0</td><td>0</td><td>0</td><td>0</td><td>0</td><td>0</td><td>0</td><td>0</td><td>0</td></tr>\n",
       "\t<tr><th scope=row>ABT1</th><td>0</td><td>0</td><td>0</td><td>0</td><td>0</td><td>0</td><td>0</td><td>0</td><td>0</td><td>0</td><td>⋯</td><td>0</td><td>0</td><td>0</td><td>0</td><td>0</td><td>0</td><td>0</td><td>0</td><td>0</td><td>0</td></tr>\n",
       "\t<tr><th scope=row>AC007405.6</th><td>0</td><td>0</td><td>0</td><td>0</td><td>0</td><td>0</td><td>0</td><td>0</td><td>0</td><td>0</td><td>⋯</td><td>0</td><td>0</td><td>0</td><td>0</td><td>0</td><td>0</td><td>0</td><td>0</td><td>0</td><td>0</td></tr>\n",
       "\t<tr><th scope=row>AC013264.2</th><td>0</td><td>0</td><td>0</td><td>0</td><td>0</td><td>0</td><td>0</td><td>0</td><td>0</td><td>0</td><td>⋯</td><td>0</td><td>0</td><td>0</td><td>0</td><td>0</td><td>0</td><td>0</td><td>0</td><td>0</td><td>0</td></tr>\n",
       "\t<tr><th scope=row>AC090498.1</th><td>0</td><td>0</td><td>0</td><td>0</td><td>0</td><td>0</td><td>0</td><td>0</td><td>0</td><td>0</td><td>⋯</td><td>0</td><td>0</td><td>0</td><td>0</td><td>0</td><td>0</td><td>0</td><td>0</td><td>0</td><td>0</td></tr>\n",
       "\t<tr><th scope=row>ACADVL</th><td>0</td><td>0</td><td>0</td><td>0</td><td>0</td><td>0</td><td>0</td><td>0</td><td>0</td><td>0</td><td>⋯</td><td>0</td><td>0</td><td>0</td><td>0</td><td>0</td><td>0</td><td>0</td><td>0</td><td>0</td><td>0</td></tr>\n",
       "\t<tr><th scope=row>ACAT2</th><td>0</td><td>0</td><td>0</td><td>0</td><td>0</td><td>0</td><td>0</td><td>0</td><td>0</td><td>0</td><td>⋯</td><td>0</td><td>0</td><td>0</td><td>0</td><td>0</td><td>0</td><td>0</td><td>0</td><td>0</td><td>0</td></tr>\n",
       "\t<tr><th scope=row>ACBD3</th><td>0</td><td>0</td><td>0</td><td>0</td><td>0</td><td>0</td><td>0</td><td>0</td><td>0</td><td>0</td><td>⋯</td><td>0</td><td>0</td><td>0</td><td>0</td><td>0</td><td>0</td><td>0</td><td>0</td><td>0</td><td>0</td></tr>\n",
       "\t<tr><th scope=row>ACIN1</th><td>0</td><td>0</td><td>0</td><td>0</td><td>0</td><td>0</td><td>0</td><td>0</td><td>0</td><td>0</td><td>⋯</td><td>0</td><td>0</td><td>0</td><td>0</td><td>0</td><td>0</td><td>0</td><td>0</td><td>0</td><td>0</td></tr>\n",
       "\t<tr><th scope=row>ACLY</th><td>0</td><td>0</td><td>0</td><td>0</td><td>0</td><td>0</td><td>0</td><td>0</td><td>0</td><td>0</td><td>⋯</td><td>0</td><td>0</td><td>0</td><td>0</td><td>0</td><td>0</td><td>0</td><td>0</td><td>0</td><td>0</td></tr>\n",
       "\t<tr><th scope=row>ACOT13</th><td>0</td><td>0</td><td>0</td><td>0</td><td>0</td><td>0</td><td>0</td><td>0</td><td>0</td><td>0</td><td>⋯</td><td>0</td><td>0</td><td>0</td><td>0</td><td>0</td><td>0</td><td>0</td><td>0</td><td>0</td><td>0</td></tr>\n",
       "\t<tr><th scope=row>ACP1</th><td>0</td><td>0</td><td>0</td><td>0</td><td>0</td><td>0</td><td>0</td><td>0</td><td>0</td><td>0</td><td>⋯</td><td>0</td><td>0</td><td>0</td><td>0</td><td>0</td><td>0</td><td>0</td><td>0</td><td>0</td><td>0</td></tr>\n",
       "\t<tr><th scope=row>ACSL1</th><td>0</td><td>0</td><td>0</td><td>0</td><td>0</td><td>0</td><td>0</td><td>0</td><td>0</td><td>0</td><td>⋯</td><td>0</td><td>0</td><td>0</td><td>0</td><td>0</td><td>0</td><td>0</td><td>0</td><td>0</td><td>0</td></tr>\n",
       "\t<tr><th scope=row>ACTA2</th><td>0</td><td>0</td><td>0</td><td>0</td><td>0</td><td>0</td><td>0</td><td>0</td><td>0</td><td>0</td><td>⋯</td><td>0</td><td>0</td><td>0</td><td>0</td><td>0</td><td>0</td><td>0</td><td>0</td><td>0</td><td>0</td></tr>\n",
       "\t<tr><th scope=row>ACTB</th><td>0</td><td>0</td><td>0</td><td>0</td><td>0</td><td>0</td><td>0</td><td>0</td><td>0</td><td>0</td><td>⋯</td><td>0</td><td>0</td><td>0</td><td>0</td><td>0</td><td>0</td><td>0</td><td>0</td><td>0</td><td>0</td></tr>\n",
       "\t<tr><th scope=row>ACTG1</th><td>0</td><td>0</td><td>0</td><td>0</td><td>0</td><td>0</td><td>0</td><td>0</td><td>0</td><td>0</td><td>⋯</td><td>0</td><td>0</td><td>0</td><td>0</td><td>0</td><td>0</td><td>0</td><td>0</td><td>0</td><td>0</td></tr>\n",
       "\t<tr><th scope=row>ACTN1</th><td>0</td><td>0</td><td>0</td><td>0</td><td>0</td><td>0</td><td>0</td><td>0</td><td>0</td><td>0</td><td>⋯</td><td>0</td><td>0</td><td>0</td><td>0</td><td>0</td><td>0</td><td>0</td><td>0</td><td>0</td><td>0</td></tr>\n",
       "\t<tr><th scope=row>ACTN4</th><td>0</td><td>0</td><td>0</td><td>0</td><td>0</td><td>0</td><td>0</td><td>0</td><td>0</td><td>0</td><td>⋯</td><td>0</td><td>0</td><td>0</td><td>0</td><td>0</td><td>0</td><td>0</td><td>0</td><td>0</td><td>0</td></tr>\n",
       "\t<tr><th scope=row>ACTR10</th><td>0</td><td>0</td><td>0</td><td>0</td><td>0</td><td>0</td><td>0</td><td>0</td><td>0</td><td>0</td><td>⋯</td><td>0</td><td>0</td><td>0</td><td>0</td><td>0</td><td>0</td><td>0</td><td>0</td><td>0</td><td>0</td></tr>\n",
       "\t<tr><th scope=row>⋮</th><td>⋮</td><td>⋮</td><td>⋮</td><td>⋮</td><td>⋮</td><td>⋮</td><td>⋮</td><td>⋮</td><td>⋮</td><td>⋮</td><td>⋱</td><td>⋮</td><td>⋮</td><td>⋮</td><td>⋮</td><td>⋮</td><td>⋮</td><td>⋮</td><td>⋮</td><td>⋮</td><td>⋮</td></tr>\n",
       "\t<tr><th scope=row>SEL1L</th><td>0</td><td>0</td><td>0</td><td>0</td><td>0</td><td>0</td><td>0</td><td>0</td><td>0</td><td>0</td><td>⋯</td><td>0</td><td>0</td><td>0</td><td>0</td><td>0</td><td>0</td><td>0</td><td>0</td><td>0</td><td>0</td></tr>\n",
       "\t<tr><th scope=row>SERPINI1</th><td>0</td><td>0</td><td>0</td><td>0</td><td>0</td><td>0</td><td>0</td><td>0</td><td>0</td><td>0</td><td>⋯</td><td>0</td><td>0</td><td>0</td><td>0</td><td>0</td><td>0</td><td>0</td><td>0</td><td>0</td><td>0</td></tr>\n",
       "\t<tr><th scope=row>SERTAD3</th><td>0</td><td>0</td><td>0</td><td>0</td><td>0</td><td>0</td><td>0</td><td>0</td><td>0</td><td>0</td><td>⋯</td><td>0</td><td>0</td><td>0</td><td>0</td><td>0</td><td>0</td><td>0</td><td>0</td><td>0</td><td>0</td></tr>\n",
       "\t<tr><th scope=row>SHISA2</th><td>0</td><td>0</td><td>0</td><td>0</td><td>0</td><td>0</td><td>0</td><td>0</td><td>0</td><td>0</td><td>⋯</td><td>0</td><td>0</td><td>0</td><td>0</td><td>0</td><td>0</td><td>0</td><td>0</td><td>0</td><td>0</td></tr>\n",
       "\t<tr><th scope=row>SHISA8</th><td>0</td><td>0</td><td>0</td><td>0</td><td>0</td><td>0</td><td>0</td><td>0</td><td>0</td><td>0</td><td>⋯</td><td>0</td><td>0</td><td>0</td><td>0</td><td>0</td><td>0</td><td>0</td><td>0</td><td>0</td><td>0</td></tr>\n",
       "\t<tr><th scope=row>SLC25A13</th><td>0</td><td>0</td><td>0</td><td>0</td><td>0</td><td>0</td><td>0</td><td>0</td><td>0</td><td>0</td><td>⋯</td><td>0</td><td>0</td><td>0</td><td>0</td><td>0</td><td>0</td><td>0</td><td>0</td><td>0</td><td>0</td></tr>\n",
       "\t<tr><th scope=row>SLC29A1</th><td>0</td><td>0</td><td>0</td><td>0</td><td>0</td><td>0</td><td>0</td><td>0</td><td>0</td><td>0</td><td>⋯</td><td>0</td><td>0</td><td>0</td><td>0</td><td>0</td><td>0</td><td>0</td><td>0</td><td>0</td><td>0</td></tr>\n",
       "\t<tr><th scope=row>SLC29A4</th><td>0</td><td>0</td><td>0</td><td>0</td><td>0</td><td>0</td><td>0</td><td>0</td><td>0</td><td>0</td><td>⋯</td><td>0</td><td>0</td><td>0</td><td>0</td><td>0</td><td>0</td><td>0</td><td>0</td><td>0</td><td>0</td></tr>\n",
       "\t<tr><th scope=row>SNX14</th><td>0</td><td>0</td><td>0</td><td>0</td><td>0</td><td>0</td><td>0</td><td>0</td><td>0</td><td>0</td><td>⋯</td><td>0</td><td>0</td><td>0</td><td>0</td><td>0</td><td>0</td><td>0</td><td>0</td><td>0</td><td>0</td></tr>\n",
       "\t<tr><th scope=row>ST8SIA6-AS1</th><td>0</td><td>0</td><td>0</td><td>0</td><td>0</td><td>0</td><td>0</td><td>0</td><td>0</td><td>0</td><td>⋯</td><td>0</td><td>0</td><td>0</td><td>0</td><td>0</td><td>0</td><td>0</td><td>0</td><td>0</td><td>0</td></tr>\n",
       "\t<tr><th scope=row>SYNJ2</th><td>0</td><td>0</td><td>0</td><td>0</td><td>0</td><td>0</td><td>0</td><td>0</td><td>0</td><td>0</td><td>⋯</td><td>0</td><td>0</td><td>0</td><td>0</td><td>0</td><td>0</td><td>0</td><td>0</td><td>0</td><td>0</td></tr>\n",
       "\t<tr><th scope=row>TAB2</th><td>0</td><td>0</td><td>0</td><td>0</td><td>0</td><td>0</td><td>0</td><td>0</td><td>0</td><td>0</td><td>⋯</td><td>0</td><td>0</td><td>0</td><td>0</td><td>0</td><td>0</td><td>0</td><td>0</td><td>0</td><td>0</td></tr>\n",
       "\t<tr><th scope=row>TBC1D7</th><td>0</td><td>0</td><td>0</td><td>0</td><td>0</td><td>0</td><td>0</td><td>0</td><td>0</td><td>0</td><td>⋯</td><td>0</td><td>0</td><td>0</td><td>0</td><td>0</td><td>0</td><td>0</td><td>0</td><td>0</td><td>0</td></tr>\n",
       "\t<tr><th scope=row>TMEM171</th><td>0</td><td>0</td><td>0</td><td>0</td><td>0</td><td>0</td><td>0</td><td>0</td><td>0</td><td>0</td><td>⋯</td><td>0</td><td>0</td><td>0</td><td>0</td><td>0</td><td>0</td><td>0</td><td>0</td><td>0</td><td>0</td></tr>\n",
       "\t<tr><th scope=row>TNS3</th><td>0</td><td>0</td><td>0</td><td>0</td><td>0</td><td>0</td><td>0</td><td>0</td><td>0</td><td>0</td><td>⋯</td><td>0</td><td>0</td><td>0</td><td>0</td><td>0</td><td>0</td><td>0</td><td>0</td><td>0</td><td>0</td></tr>\n",
       "\t<tr><th scope=row>TPRN</th><td>0</td><td>0</td><td>0</td><td>0</td><td>0</td><td>0</td><td>0</td><td>0</td><td>0</td><td>0</td><td>⋯</td><td>0</td><td>0</td><td>0</td><td>0</td><td>0</td><td>0</td><td>0</td><td>0</td><td>0</td><td>0</td></tr>\n",
       "\t<tr><th scope=row>TRIP13</th><td>0</td><td>0</td><td>0</td><td>0</td><td>0</td><td>0</td><td>0</td><td>0</td><td>0</td><td>0</td><td>⋯</td><td>0</td><td>0</td><td>0</td><td>0</td><td>0</td><td>0</td><td>0</td><td>0</td><td>0</td><td>0</td></tr>\n",
       "\t<tr><th scope=row>TTC33</th><td>0</td><td>0</td><td>0</td><td>0</td><td>0</td><td>0</td><td>0</td><td>0</td><td>0</td><td>0</td><td>⋯</td><td>0</td><td>0</td><td>0</td><td>0</td><td>0</td><td>0</td><td>0</td><td>0</td><td>0</td><td>0</td></tr>\n",
       "\t<tr><th scope=row>TTC39A</th><td>0</td><td>0</td><td>0</td><td>0</td><td>0</td><td>0</td><td>0</td><td>0</td><td>0</td><td>0</td><td>⋯</td><td>0</td><td>0</td><td>0</td><td>0</td><td>0</td><td>0</td><td>0</td><td>0</td><td>0</td><td>0</td></tr>\n",
       "\t<tr><th scope=row>UCHL5</th><td>0</td><td>0</td><td>0</td><td>0</td><td>0</td><td>0</td><td>0</td><td>0</td><td>0</td><td>0</td><td>⋯</td><td>0</td><td>0</td><td>0</td><td>0</td><td>0</td><td>0</td><td>0</td><td>0</td><td>0</td><td>0</td></tr>\n",
       "\t<tr><th scope=row>UCKL1</th><td>0</td><td>0</td><td>0</td><td>0</td><td>0</td><td>0</td><td>0</td><td>0</td><td>0</td><td>0</td><td>⋯</td><td>0</td><td>0</td><td>0</td><td>0</td><td>0</td><td>0</td><td>0</td><td>0</td><td>0</td><td>0</td></tr>\n",
       "\t<tr><th scope=row>UGT8</th><td>0</td><td>0</td><td>0</td><td>0</td><td>0</td><td>0</td><td>0</td><td>0</td><td>0</td><td>0</td><td>⋯</td><td>0</td><td>0</td><td>0</td><td>0</td><td>0</td><td>0</td><td>0</td><td>0</td><td>0</td><td>0</td></tr>\n",
       "\t<tr><th scope=row>UMPS</th><td>0</td><td>0</td><td>0</td><td>0</td><td>0</td><td>0</td><td>0</td><td>0</td><td>0</td><td>0</td><td>⋯</td><td>0</td><td>0</td><td>0</td><td>0</td><td>0</td><td>0</td><td>0</td><td>0</td><td>0</td><td>0</td></tr>\n",
       "\t<tr><th scope=row>VTA1</th><td>0</td><td>0</td><td>0</td><td>0</td><td>0</td><td>0</td><td>0</td><td>0</td><td>0</td><td>0</td><td>⋯</td><td>0</td><td>0</td><td>0</td><td>0</td><td>0</td><td>0</td><td>0</td><td>0</td><td>0</td><td>0</td></tr>\n",
       "\t<tr><th scope=row>VWA5B2</th><td>0</td><td>0</td><td>0</td><td>0</td><td>0</td><td>0</td><td>0</td><td>0</td><td>0</td><td>0</td><td>⋯</td><td>0</td><td>0</td><td>0</td><td>0</td><td>0</td><td>0</td><td>0</td><td>0</td><td>0</td><td>0</td></tr>\n",
       "\t<tr><th scope=row>WDR72</th><td>0</td><td>0</td><td>0</td><td>0</td><td>0</td><td>0</td><td>0</td><td>0</td><td>0</td><td>0</td><td>⋯</td><td>0</td><td>0</td><td>0</td><td>0</td><td>0</td><td>0</td><td>0</td><td>0</td><td>0</td><td>0</td></tr>\n",
       "\t<tr><th scope=row>ZMIZ2</th><td>0</td><td>0</td><td>0</td><td>0</td><td>0</td><td>0</td><td>0</td><td>0</td><td>0</td><td>0</td><td>⋯</td><td>0</td><td>0</td><td>0</td><td>0</td><td>0</td><td>0</td><td>0</td><td>0</td><td>0</td><td>0</td></tr>\n",
       "\t<tr><th scope=row>ZNF680</th><td>0</td><td>0</td><td>0</td><td>0</td><td>0</td><td>0</td><td>0</td><td>0</td><td>0</td><td>0</td><td>⋯</td><td>0</td><td>0</td><td>0</td><td>0</td><td>0</td><td>0</td><td>0</td><td>0</td><td>0</td><td>0</td></tr>\n",
       "\t<tr><th scope=row>TLNRD1</th><td>0</td><td>0</td><td>0</td><td>0</td><td>0</td><td>0</td><td>0</td><td>0</td><td>0</td><td>0</td><td>⋯</td><td>0</td><td>0</td><td>0</td><td>0</td><td>0</td><td>0</td><td>0</td><td>0</td><td>0</td><td>0</td></tr>\n",
       "\t<tr><th scope=row>LZTS3</th><td>0</td><td>0</td><td>0</td><td>0</td><td>0</td><td>0</td><td>0</td><td>0</td><td>0</td><td>0</td><td>⋯</td><td>0</td><td>0</td><td>0</td><td>0</td><td>0</td><td>0</td><td>0</td><td>0</td><td>0</td><td>0</td></tr>\n",
       "</tbody>\n",
       "</table>\n"
      ],
      "text/latex": [
       "A matrix: 7720 × 56 of type dbl\n",
       "\\begin{tabular}{r|lllllllllllllllllllll}\n",
       "  & EBUS\\_10\\_1 & EBUS\\_10\\_2 & EBUS\\_10\\_3 & EBUS\\_10\\_4 & BRONCHO\\_11\\_1 & BRONCHO\\_11\\_2 & BRONCHO\\_11\\_3 & BRONCHO\\_11\\_4 & EBUS\\_12\\_1 & EBUS\\_12\\_2 & ⋯ & S5\\_3 & S5\\_4 & S6\\_1 & S6\\_2 & S6\\_3 & S6\\_4 & S7\\_1 & S7\\_2 & S7\\_3 & S7\\_4\\\\\n",
       "\\hline\n",
       "\tAAED1 & 0 & 0 & 0 & 0 & 0 & 0 & 0 & 0 & 0 & 0 & ⋯ & 0 & 0 & 0 & 0 & 0 & 0 & 0 & 0 & 0 & 0\\\\\n",
       "\tAAMDC & 0 & 0 & 0 & 0 & 0 & 0 & 0 & 0 & 0 & 0 & ⋯ & 0 & 0 & 0 & 0 & 0 & 0 & 0 & 0 & 0 & 0\\\\\n",
       "\tAAMP & 0 & 0 & 0 & 0 & 0 & 0 & 0 & 0 & 0 & 0 & ⋯ & 0 & 0 & 0 & 0 & 0 & 0 & 0 & 0 & 0 & 0\\\\\n",
       "\tABCC3 & 0 & 0 & 0 & 0 & 0 & 0 & 0 & 0 & 0 & 0 & ⋯ & 0 & 0 & 0 & 0 & 0 & 0 & 0 & 0 & 0 & 0\\\\\n",
       "\tABCE1 & 0 & 0 & 0 & 0 & 0 & 0 & 0 & 0 & 0 & 0 & ⋯ & 0 & 0 & 0 & 0 & 0 & 0 & 0 & 0 & 0 & 0\\\\\n",
       "\tABCF1 & 0 & 0 & 0 & 0 & 0 & 0 & 0 & 0 & 0 & 0 & ⋯ & 0 & 0 & 0 & 0 & 0 & 0 & 0 & 0 & 0 & 0\\\\\n",
       "\tABHD11 & 0 & 0 & 0 & 0 & 0 & 0 & 0 & 0 & 0 & 0 & ⋯ & 0 & 0 & 0 & 0 & 0 & 0 & 0 & 0 & 0 & 0\\\\\n",
       "\tABHD11-AS1 & 0 & 0 & 0 & 0 & 0 & 0 & 0 & 0 & 0 & 0 & ⋯ & 0 & 0 & 0 & 0 & 0 & 0 & 0 & 0 & 0 & 0\\\\\n",
       "\tABHD14B & 0 & 0 & 0 & 0 & 0 & 0 & 0 & 0 & 0 & 0 & ⋯ & 0 & 0 & 0 & 0 & 0 & 0 & 0 & 0 & 0 & 0\\\\\n",
       "\tABI2 & 0 & 0 & 0 & 0 & 0 & 0 & 0 & 0 & 0 & 0 & ⋯ & 0 & 0 & 0 & 0 & 0 & 0 & 0 & 0 & 0 & 0\\\\\n",
       "\tABL2 & 0 & 0 & 0 & 0 & 0 & 0 & 0 & 0 & 0 & 0 & ⋯ & 0 & 0 & 0 & 0 & 0 & 0 & 0 & 0 & 0 & 0\\\\\n",
       "\tABRACL & 0 & 0 & 0 & 0 & 0 & 0 & 0 & 0 & 0 & 0 & ⋯ & 0 & 0 & 0 & 0 & 0 & 0 & 0 & 0 & 0 & 0\\\\\n",
       "\tABT1 & 0 & 0 & 0 & 0 & 0 & 0 & 0 & 0 & 0 & 0 & ⋯ & 0 & 0 & 0 & 0 & 0 & 0 & 0 & 0 & 0 & 0\\\\\n",
       "\tAC007405.6 & 0 & 0 & 0 & 0 & 0 & 0 & 0 & 0 & 0 & 0 & ⋯ & 0 & 0 & 0 & 0 & 0 & 0 & 0 & 0 & 0 & 0\\\\\n",
       "\tAC013264.2 & 0 & 0 & 0 & 0 & 0 & 0 & 0 & 0 & 0 & 0 & ⋯ & 0 & 0 & 0 & 0 & 0 & 0 & 0 & 0 & 0 & 0\\\\\n",
       "\tAC090498.1 & 0 & 0 & 0 & 0 & 0 & 0 & 0 & 0 & 0 & 0 & ⋯ & 0 & 0 & 0 & 0 & 0 & 0 & 0 & 0 & 0 & 0\\\\\n",
       "\tACADVL & 0 & 0 & 0 & 0 & 0 & 0 & 0 & 0 & 0 & 0 & ⋯ & 0 & 0 & 0 & 0 & 0 & 0 & 0 & 0 & 0 & 0\\\\\n",
       "\tACAT2 & 0 & 0 & 0 & 0 & 0 & 0 & 0 & 0 & 0 & 0 & ⋯ & 0 & 0 & 0 & 0 & 0 & 0 & 0 & 0 & 0 & 0\\\\\n",
       "\tACBD3 & 0 & 0 & 0 & 0 & 0 & 0 & 0 & 0 & 0 & 0 & ⋯ & 0 & 0 & 0 & 0 & 0 & 0 & 0 & 0 & 0 & 0\\\\\n",
       "\tACIN1 & 0 & 0 & 0 & 0 & 0 & 0 & 0 & 0 & 0 & 0 & ⋯ & 0 & 0 & 0 & 0 & 0 & 0 & 0 & 0 & 0 & 0\\\\\n",
       "\tACLY & 0 & 0 & 0 & 0 & 0 & 0 & 0 & 0 & 0 & 0 & ⋯ & 0 & 0 & 0 & 0 & 0 & 0 & 0 & 0 & 0 & 0\\\\\n",
       "\tACOT13 & 0 & 0 & 0 & 0 & 0 & 0 & 0 & 0 & 0 & 0 & ⋯ & 0 & 0 & 0 & 0 & 0 & 0 & 0 & 0 & 0 & 0\\\\\n",
       "\tACP1 & 0 & 0 & 0 & 0 & 0 & 0 & 0 & 0 & 0 & 0 & ⋯ & 0 & 0 & 0 & 0 & 0 & 0 & 0 & 0 & 0 & 0\\\\\n",
       "\tACSL1 & 0 & 0 & 0 & 0 & 0 & 0 & 0 & 0 & 0 & 0 & ⋯ & 0 & 0 & 0 & 0 & 0 & 0 & 0 & 0 & 0 & 0\\\\\n",
       "\tACTA2 & 0 & 0 & 0 & 0 & 0 & 0 & 0 & 0 & 0 & 0 & ⋯ & 0 & 0 & 0 & 0 & 0 & 0 & 0 & 0 & 0 & 0\\\\\n",
       "\tACTB & 0 & 0 & 0 & 0 & 0 & 0 & 0 & 0 & 0 & 0 & ⋯ & 0 & 0 & 0 & 0 & 0 & 0 & 0 & 0 & 0 & 0\\\\\n",
       "\tACTG1 & 0 & 0 & 0 & 0 & 0 & 0 & 0 & 0 & 0 & 0 & ⋯ & 0 & 0 & 0 & 0 & 0 & 0 & 0 & 0 & 0 & 0\\\\\n",
       "\tACTN1 & 0 & 0 & 0 & 0 & 0 & 0 & 0 & 0 & 0 & 0 & ⋯ & 0 & 0 & 0 & 0 & 0 & 0 & 0 & 0 & 0 & 0\\\\\n",
       "\tACTN4 & 0 & 0 & 0 & 0 & 0 & 0 & 0 & 0 & 0 & 0 & ⋯ & 0 & 0 & 0 & 0 & 0 & 0 & 0 & 0 & 0 & 0\\\\\n",
       "\tACTR10 & 0 & 0 & 0 & 0 & 0 & 0 & 0 & 0 & 0 & 0 & ⋯ & 0 & 0 & 0 & 0 & 0 & 0 & 0 & 0 & 0 & 0\\\\\n",
       "\t⋮ & ⋮ & ⋮ & ⋮ & ⋮ & ⋮ & ⋮ & ⋮ & ⋮ & ⋮ & ⋮ & ⋱ & ⋮ & ⋮ & ⋮ & ⋮ & ⋮ & ⋮ & ⋮ & ⋮ & ⋮ & ⋮\\\\\n",
       "\tSEL1L & 0 & 0 & 0 & 0 & 0 & 0 & 0 & 0 & 0 & 0 & ⋯ & 0 & 0 & 0 & 0 & 0 & 0 & 0 & 0 & 0 & 0\\\\\n",
       "\tSERPINI1 & 0 & 0 & 0 & 0 & 0 & 0 & 0 & 0 & 0 & 0 & ⋯ & 0 & 0 & 0 & 0 & 0 & 0 & 0 & 0 & 0 & 0\\\\\n",
       "\tSERTAD3 & 0 & 0 & 0 & 0 & 0 & 0 & 0 & 0 & 0 & 0 & ⋯ & 0 & 0 & 0 & 0 & 0 & 0 & 0 & 0 & 0 & 0\\\\\n",
       "\tSHISA2 & 0 & 0 & 0 & 0 & 0 & 0 & 0 & 0 & 0 & 0 & ⋯ & 0 & 0 & 0 & 0 & 0 & 0 & 0 & 0 & 0 & 0\\\\\n",
       "\tSHISA8 & 0 & 0 & 0 & 0 & 0 & 0 & 0 & 0 & 0 & 0 & ⋯ & 0 & 0 & 0 & 0 & 0 & 0 & 0 & 0 & 0 & 0\\\\\n",
       "\tSLC25A13 & 0 & 0 & 0 & 0 & 0 & 0 & 0 & 0 & 0 & 0 & ⋯ & 0 & 0 & 0 & 0 & 0 & 0 & 0 & 0 & 0 & 0\\\\\n",
       "\tSLC29A1 & 0 & 0 & 0 & 0 & 0 & 0 & 0 & 0 & 0 & 0 & ⋯ & 0 & 0 & 0 & 0 & 0 & 0 & 0 & 0 & 0 & 0\\\\\n",
       "\tSLC29A4 & 0 & 0 & 0 & 0 & 0 & 0 & 0 & 0 & 0 & 0 & ⋯ & 0 & 0 & 0 & 0 & 0 & 0 & 0 & 0 & 0 & 0\\\\\n",
       "\tSNX14 & 0 & 0 & 0 & 0 & 0 & 0 & 0 & 0 & 0 & 0 & ⋯ & 0 & 0 & 0 & 0 & 0 & 0 & 0 & 0 & 0 & 0\\\\\n",
       "\tST8SIA6-AS1 & 0 & 0 & 0 & 0 & 0 & 0 & 0 & 0 & 0 & 0 & ⋯ & 0 & 0 & 0 & 0 & 0 & 0 & 0 & 0 & 0 & 0\\\\\n",
       "\tSYNJ2 & 0 & 0 & 0 & 0 & 0 & 0 & 0 & 0 & 0 & 0 & ⋯ & 0 & 0 & 0 & 0 & 0 & 0 & 0 & 0 & 0 & 0\\\\\n",
       "\tTAB2 & 0 & 0 & 0 & 0 & 0 & 0 & 0 & 0 & 0 & 0 & ⋯ & 0 & 0 & 0 & 0 & 0 & 0 & 0 & 0 & 0 & 0\\\\\n",
       "\tTBC1D7 & 0 & 0 & 0 & 0 & 0 & 0 & 0 & 0 & 0 & 0 & ⋯ & 0 & 0 & 0 & 0 & 0 & 0 & 0 & 0 & 0 & 0\\\\\n",
       "\tTMEM171 & 0 & 0 & 0 & 0 & 0 & 0 & 0 & 0 & 0 & 0 & ⋯ & 0 & 0 & 0 & 0 & 0 & 0 & 0 & 0 & 0 & 0\\\\\n",
       "\tTNS3 & 0 & 0 & 0 & 0 & 0 & 0 & 0 & 0 & 0 & 0 & ⋯ & 0 & 0 & 0 & 0 & 0 & 0 & 0 & 0 & 0 & 0\\\\\n",
       "\tTPRN & 0 & 0 & 0 & 0 & 0 & 0 & 0 & 0 & 0 & 0 & ⋯ & 0 & 0 & 0 & 0 & 0 & 0 & 0 & 0 & 0 & 0\\\\\n",
       "\tTRIP13 & 0 & 0 & 0 & 0 & 0 & 0 & 0 & 0 & 0 & 0 & ⋯ & 0 & 0 & 0 & 0 & 0 & 0 & 0 & 0 & 0 & 0\\\\\n",
       "\tTTC33 & 0 & 0 & 0 & 0 & 0 & 0 & 0 & 0 & 0 & 0 & ⋯ & 0 & 0 & 0 & 0 & 0 & 0 & 0 & 0 & 0 & 0\\\\\n",
       "\tTTC39A & 0 & 0 & 0 & 0 & 0 & 0 & 0 & 0 & 0 & 0 & ⋯ & 0 & 0 & 0 & 0 & 0 & 0 & 0 & 0 & 0 & 0\\\\\n",
       "\tUCHL5 & 0 & 0 & 0 & 0 & 0 & 0 & 0 & 0 & 0 & 0 & ⋯ & 0 & 0 & 0 & 0 & 0 & 0 & 0 & 0 & 0 & 0\\\\\n",
       "\tUCKL1 & 0 & 0 & 0 & 0 & 0 & 0 & 0 & 0 & 0 & 0 & ⋯ & 0 & 0 & 0 & 0 & 0 & 0 & 0 & 0 & 0 & 0\\\\\n",
       "\tUGT8 & 0 & 0 & 0 & 0 & 0 & 0 & 0 & 0 & 0 & 0 & ⋯ & 0 & 0 & 0 & 0 & 0 & 0 & 0 & 0 & 0 & 0\\\\\n",
       "\tUMPS & 0 & 0 & 0 & 0 & 0 & 0 & 0 & 0 & 0 & 0 & ⋯ & 0 & 0 & 0 & 0 & 0 & 0 & 0 & 0 & 0 & 0\\\\\n",
       "\tVTA1 & 0 & 0 & 0 & 0 & 0 & 0 & 0 & 0 & 0 & 0 & ⋯ & 0 & 0 & 0 & 0 & 0 & 0 & 0 & 0 & 0 & 0\\\\\n",
       "\tVWA5B2 & 0 & 0 & 0 & 0 & 0 & 0 & 0 & 0 & 0 & 0 & ⋯ & 0 & 0 & 0 & 0 & 0 & 0 & 0 & 0 & 0 & 0\\\\\n",
       "\tWDR72 & 0 & 0 & 0 & 0 & 0 & 0 & 0 & 0 & 0 & 0 & ⋯ & 0 & 0 & 0 & 0 & 0 & 0 & 0 & 0 & 0 & 0\\\\\n",
       "\tZMIZ2 & 0 & 0 & 0 & 0 & 0 & 0 & 0 & 0 & 0 & 0 & ⋯ & 0 & 0 & 0 & 0 & 0 & 0 & 0 & 0 & 0 & 0\\\\\n",
       "\tZNF680 & 0 & 0 & 0 & 0 & 0 & 0 & 0 & 0 & 0 & 0 & ⋯ & 0 & 0 & 0 & 0 & 0 & 0 & 0 & 0 & 0 & 0\\\\\n",
       "\tTLNRD1 & 0 & 0 & 0 & 0 & 0 & 0 & 0 & 0 & 0 & 0 & ⋯ & 0 & 0 & 0 & 0 & 0 & 0 & 0 & 0 & 0 & 0\\\\\n",
       "\tLZTS3 & 0 & 0 & 0 & 0 & 0 & 0 & 0 & 0 & 0 & 0 & ⋯ & 0 & 0 & 0 & 0 & 0 & 0 & 0 & 0 & 0 & 0\\\\\n",
       "\\end{tabular}\n"
      ],
      "text/markdown": [
       "\n",
       "A matrix: 7720 × 56 of type dbl\n",
       "\n",
       "| <!--/--> | EBUS_10_1 | EBUS_10_2 | EBUS_10_3 | EBUS_10_4 | BRONCHO_11_1 | BRONCHO_11_2 | BRONCHO_11_3 | BRONCHO_11_4 | EBUS_12_1 | EBUS_12_2 | ⋯ | S5_3 | S5_4 | S6_1 | S6_2 | S6_3 | S6_4 | S7_1 | S7_2 | S7_3 | S7_4 |\n",
       "|---|---|---|---|---|---|---|---|---|---|---|---|---|---|---|---|---|---|---|---|---|---|\n",
       "| AAED1 | 0 | 0 | 0 | 0 | 0 | 0 | 0 | 0 | 0 | 0 | ⋯ | 0 | 0 | 0 | 0 | 0 | 0 | 0 | 0 | 0 | 0 |\n",
       "| AAMDC | 0 | 0 | 0 | 0 | 0 | 0 | 0 | 0 | 0 | 0 | ⋯ | 0 | 0 | 0 | 0 | 0 | 0 | 0 | 0 | 0 | 0 |\n",
       "| AAMP | 0 | 0 | 0 | 0 | 0 | 0 | 0 | 0 | 0 | 0 | ⋯ | 0 | 0 | 0 | 0 | 0 | 0 | 0 | 0 | 0 | 0 |\n",
       "| ABCC3 | 0 | 0 | 0 | 0 | 0 | 0 | 0 | 0 | 0 | 0 | ⋯ | 0 | 0 | 0 | 0 | 0 | 0 | 0 | 0 | 0 | 0 |\n",
       "| ABCE1 | 0 | 0 | 0 | 0 | 0 | 0 | 0 | 0 | 0 | 0 | ⋯ | 0 | 0 | 0 | 0 | 0 | 0 | 0 | 0 | 0 | 0 |\n",
       "| ABCF1 | 0 | 0 | 0 | 0 | 0 | 0 | 0 | 0 | 0 | 0 | ⋯ | 0 | 0 | 0 | 0 | 0 | 0 | 0 | 0 | 0 | 0 |\n",
       "| ABHD11 | 0 | 0 | 0 | 0 | 0 | 0 | 0 | 0 | 0 | 0 | ⋯ | 0 | 0 | 0 | 0 | 0 | 0 | 0 | 0 | 0 | 0 |\n",
       "| ABHD11-AS1 | 0 | 0 | 0 | 0 | 0 | 0 | 0 | 0 | 0 | 0 | ⋯ | 0 | 0 | 0 | 0 | 0 | 0 | 0 | 0 | 0 | 0 |\n",
       "| ABHD14B | 0 | 0 | 0 | 0 | 0 | 0 | 0 | 0 | 0 | 0 | ⋯ | 0 | 0 | 0 | 0 | 0 | 0 | 0 | 0 | 0 | 0 |\n",
       "| ABI2 | 0 | 0 | 0 | 0 | 0 | 0 | 0 | 0 | 0 | 0 | ⋯ | 0 | 0 | 0 | 0 | 0 | 0 | 0 | 0 | 0 | 0 |\n",
       "| ABL2 | 0 | 0 | 0 | 0 | 0 | 0 | 0 | 0 | 0 | 0 | ⋯ | 0 | 0 | 0 | 0 | 0 | 0 | 0 | 0 | 0 | 0 |\n",
       "| ABRACL | 0 | 0 | 0 | 0 | 0 | 0 | 0 | 0 | 0 | 0 | ⋯ | 0 | 0 | 0 | 0 | 0 | 0 | 0 | 0 | 0 | 0 |\n",
       "| ABT1 | 0 | 0 | 0 | 0 | 0 | 0 | 0 | 0 | 0 | 0 | ⋯ | 0 | 0 | 0 | 0 | 0 | 0 | 0 | 0 | 0 | 0 |\n",
       "| AC007405.6 | 0 | 0 | 0 | 0 | 0 | 0 | 0 | 0 | 0 | 0 | ⋯ | 0 | 0 | 0 | 0 | 0 | 0 | 0 | 0 | 0 | 0 |\n",
       "| AC013264.2 | 0 | 0 | 0 | 0 | 0 | 0 | 0 | 0 | 0 | 0 | ⋯ | 0 | 0 | 0 | 0 | 0 | 0 | 0 | 0 | 0 | 0 |\n",
       "| AC090498.1 | 0 | 0 | 0 | 0 | 0 | 0 | 0 | 0 | 0 | 0 | ⋯ | 0 | 0 | 0 | 0 | 0 | 0 | 0 | 0 | 0 | 0 |\n",
       "| ACADVL | 0 | 0 | 0 | 0 | 0 | 0 | 0 | 0 | 0 | 0 | ⋯ | 0 | 0 | 0 | 0 | 0 | 0 | 0 | 0 | 0 | 0 |\n",
       "| ACAT2 | 0 | 0 | 0 | 0 | 0 | 0 | 0 | 0 | 0 | 0 | ⋯ | 0 | 0 | 0 | 0 | 0 | 0 | 0 | 0 | 0 | 0 |\n",
       "| ACBD3 | 0 | 0 | 0 | 0 | 0 | 0 | 0 | 0 | 0 | 0 | ⋯ | 0 | 0 | 0 | 0 | 0 | 0 | 0 | 0 | 0 | 0 |\n",
       "| ACIN1 | 0 | 0 | 0 | 0 | 0 | 0 | 0 | 0 | 0 | 0 | ⋯ | 0 | 0 | 0 | 0 | 0 | 0 | 0 | 0 | 0 | 0 |\n",
       "| ACLY | 0 | 0 | 0 | 0 | 0 | 0 | 0 | 0 | 0 | 0 | ⋯ | 0 | 0 | 0 | 0 | 0 | 0 | 0 | 0 | 0 | 0 |\n",
       "| ACOT13 | 0 | 0 | 0 | 0 | 0 | 0 | 0 | 0 | 0 | 0 | ⋯ | 0 | 0 | 0 | 0 | 0 | 0 | 0 | 0 | 0 | 0 |\n",
       "| ACP1 | 0 | 0 | 0 | 0 | 0 | 0 | 0 | 0 | 0 | 0 | ⋯ | 0 | 0 | 0 | 0 | 0 | 0 | 0 | 0 | 0 | 0 |\n",
       "| ACSL1 | 0 | 0 | 0 | 0 | 0 | 0 | 0 | 0 | 0 | 0 | ⋯ | 0 | 0 | 0 | 0 | 0 | 0 | 0 | 0 | 0 | 0 |\n",
       "| ACTA2 | 0 | 0 | 0 | 0 | 0 | 0 | 0 | 0 | 0 | 0 | ⋯ | 0 | 0 | 0 | 0 | 0 | 0 | 0 | 0 | 0 | 0 |\n",
       "| ACTB | 0 | 0 | 0 | 0 | 0 | 0 | 0 | 0 | 0 | 0 | ⋯ | 0 | 0 | 0 | 0 | 0 | 0 | 0 | 0 | 0 | 0 |\n",
       "| ACTG1 | 0 | 0 | 0 | 0 | 0 | 0 | 0 | 0 | 0 | 0 | ⋯ | 0 | 0 | 0 | 0 | 0 | 0 | 0 | 0 | 0 | 0 |\n",
       "| ACTN1 | 0 | 0 | 0 | 0 | 0 | 0 | 0 | 0 | 0 | 0 | ⋯ | 0 | 0 | 0 | 0 | 0 | 0 | 0 | 0 | 0 | 0 |\n",
       "| ACTN4 | 0 | 0 | 0 | 0 | 0 | 0 | 0 | 0 | 0 | 0 | ⋯ | 0 | 0 | 0 | 0 | 0 | 0 | 0 | 0 | 0 | 0 |\n",
       "| ACTR10 | 0 | 0 | 0 | 0 | 0 | 0 | 0 | 0 | 0 | 0 | ⋯ | 0 | 0 | 0 | 0 | 0 | 0 | 0 | 0 | 0 | 0 |\n",
       "| ⋮ | ⋮ | ⋮ | ⋮ | ⋮ | ⋮ | ⋮ | ⋮ | ⋮ | ⋮ | ⋮ | ⋱ | ⋮ | ⋮ | ⋮ | ⋮ | ⋮ | ⋮ | ⋮ | ⋮ | ⋮ | ⋮ |\n",
       "| SEL1L | 0 | 0 | 0 | 0 | 0 | 0 | 0 | 0 | 0 | 0 | ⋯ | 0 | 0 | 0 | 0 | 0 | 0 | 0 | 0 | 0 | 0 |\n",
       "| SERPINI1 | 0 | 0 | 0 | 0 | 0 | 0 | 0 | 0 | 0 | 0 | ⋯ | 0 | 0 | 0 | 0 | 0 | 0 | 0 | 0 | 0 | 0 |\n",
       "| SERTAD3 | 0 | 0 | 0 | 0 | 0 | 0 | 0 | 0 | 0 | 0 | ⋯ | 0 | 0 | 0 | 0 | 0 | 0 | 0 | 0 | 0 | 0 |\n",
       "| SHISA2 | 0 | 0 | 0 | 0 | 0 | 0 | 0 | 0 | 0 | 0 | ⋯ | 0 | 0 | 0 | 0 | 0 | 0 | 0 | 0 | 0 | 0 |\n",
       "| SHISA8 | 0 | 0 | 0 | 0 | 0 | 0 | 0 | 0 | 0 | 0 | ⋯ | 0 | 0 | 0 | 0 | 0 | 0 | 0 | 0 | 0 | 0 |\n",
       "| SLC25A13 | 0 | 0 | 0 | 0 | 0 | 0 | 0 | 0 | 0 | 0 | ⋯ | 0 | 0 | 0 | 0 | 0 | 0 | 0 | 0 | 0 | 0 |\n",
       "| SLC29A1 | 0 | 0 | 0 | 0 | 0 | 0 | 0 | 0 | 0 | 0 | ⋯ | 0 | 0 | 0 | 0 | 0 | 0 | 0 | 0 | 0 | 0 |\n",
       "| SLC29A4 | 0 | 0 | 0 | 0 | 0 | 0 | 0 | 0 | 0 | 0 | ⋯ | 0 | 0 | 0 | 0 | 0 | 0 | 0 | 0 | 0 | 0 |\n",
       "| SNX14 | 0 | 0 | 0 | 0 | 0 | 0 | 0 | 0 | 0 | 0 | ⋯ | 0 | 0 | 0 | 0 | 0 | 0 | 0 | 0 | 0 | 0 |\n",
       "| ST8SIA6-AS1 | 0 | 0 | 0 | 0 | 0 | 0 | 0 | 0 | 0 | 0 | ⋯ | 0 | 0 | 0 | 0 | 0 | 0 | 0 | 0 | 0 | 0 |\n",
       "| SYNJ2 | 0 | 0 | 0 | 0 | 0 | 0 | 0 | 0 | 0 | 0 | ⋯ | 0 | 0 | 0 | 0 | 0 | 0 | 0 | 0 | 0 | 0 |\n",
       "| TAB2 | 0 | 0 | 0 | 0 | 0 | 0 | 0 | 0 | 0 | 0 | ⋯ | 0 | 0 | 0 | 0 | 0 | 0 | 0 | 0 | 0 | 0 |\n",
       "| TBC1D7 | 0 | 0 | 0 | 0 | 0 | 0 | 0 | 0 | 0 | 0 | ⋯ | 0 | 0 | 0 | 0 | 0 | 0 | 0 | 0 | 0 | 0 |\n",
       "| TMEM171 | 0 | 0 | 0 | 0 | 0 | 0 | 0 | 0 | 0 | 0 | ⋯ | 0 | 0 | 0 | 0 | 0 | 0 | 0 | 0 | 0 | 0 |\n",
       "| TNS3 | 0 | 0 | 0 | 0 | 0 | 0 | 0 | 0 | 0 | 0 | ⋯ | 0 | 0 | 0 | 0 | 0 | 0 | 0 | 0 | 0 | 0 |\n",
       "| TPRN | 0 | 0 | 0 | 0 | 0 | 0 | 0 | 0 | 0 | 0 | ⋯ | 0 | 0 | 0 | 0 | 0 | 0 | 0 | 0 | 0 | 0 |\n",
       "| TRIP13 | 0 | 0 | 0 | 0 | 0 | 0 | 0 | 0 | 0 | 0 | ⋯ | 0 | 0 | 0 | 0 | 0 | 0 | 0 | 0 | 0 | 0 |\n",
       "| TTC33 | 0 | 0 | 0 | 0 | 0 | 0 | 0 | 0 | 0 | 0 | ⋯ | 0 | 0 | 0 | 0 | 0 | 0 | 0 | 0 | 0 | 0 |\n",
       "| TTC39A | 0 | 0 | 0 | 0 | 0 | 0 | 0 | 0 | 0 | 0 | ⋯ | 0 | 0 | 0 | 0 | 0 | 0 | 0 | 0 | 0 | 0 |\n",
       "| UCHL5 | 0 | 0 | 0 | 0 | 0 | 0 | 0 | 0 | 0 | 0 | ⋯ | 0 | 0 | 0 | 0 | 0 | 0 | 0 | 0 | 0 | 0 |\n",
       "| UCKL1 | 0 | 0 | 0 | 0 | 0 | 0 | 0 | 0 | 0 | 0 | ⋯ | 0 | 0 | 0 | 0 | 0 | 0 | 0 | 0 | 0 | 0 |\n",
       "| UGT8 | 0 | 0 | 0 | 0 | 0 | 0 | 0 | 0 | 0 | 0 | ⋯ | 0 | 0 | 0 | 0 | 0 | 0 | 0 | 0 | 0 | 0 |\n",
       "| UMPS | 0 | 0 | 0 | 0 | 0 | 0 | 0 | 0 | 0 | 0 | ⋯ | 0 | 0 | 0 | 0 | 0 | 0 | 0 | 0 | 0 | 0 |\n",
       "| VTA1 | 0 | 0 | 0 | 0 | 0 | 0 | 0 | 0 | 0 | 0 | ⋯ | 0 | 0 | 0 | 0 | 0 | 0 | 0 | 0 | 0 | 0 |\n",
       "| VWA5B2 | 0 | 0 | 0 | 0 | 0 | 0 | 0 | 0 | 0 | 0 | ⋯ | 0 | 0 | 0 | 0 | 0 | 0 | 0 | 0 | 0 | 0 |\n",
       "| WDR72 | 0 | 0 | 0 | 0 | 0 | 0 | 0 | 0 | 0 | 0 | ⋯ | 0 | 0 | 0 | 0 | 0 | 0 | 0 | 0 | 0 | 0 |\n",
       "| ZMIZ2 | 0 | 0 | 0 | 0 | 0 | 0 | 0 | 0 | 0 | 0 | ⋯ | 0 | 0 | 0 | 0 | 0 | 0 | 0 | 0 | 0 | 0 |\n",
       "| ZNF680 | 0 | 0 | 0 | 0 | 0 | 0 | 0 | 0 | 0 | 0 | ⋯ | 0 | 0 | 0 | 0 | 0 | 0 | 0 | 0 | 0 | 0 |\n",
       "| TLNRD1 | 0 | 0 | 0 | 0 | 0 | 0 | 0 | 0 | 0 | 0 | ⋯ | 0 | 0 | 0 | 0 | 0 | 0 | 0 | 0 | 0 | 0 |\n",
       "| LZTS3 | 0 | 0 | 0 | 0 | 0 | 0 | 0 | 0 | 0 | 0 | ⋯ | 0 | 0 | 0 | 0 | 0 | 0 | 0 | 0 | 0 | 0 |\n",
       "\n"
      ],
      "text/plain": [
       "            EBUS_10_1 EBUS_10_2 EBUS_10_3 EBUS_10_4 BRONCHO_11_1 BRONCHO_11_2\n",
       "AAED1       0         0         0         0         0            0           \n",
       "AAMDC       0         0         0         0         0            0           \n",
       "AAMP        0         0         0         0         0            0           \n",
       "ABCC3       0         0         0         0         0            0           \n",
       "ABCE1       0         0         0         0         0            0           \n",
       "ABCF1       0         0         0         0         0            0           \n",
       "ABHD11      0         0         0         0         0            0           \n",
       "ABHD11-AS1  0         0         0         0         0            0           \n",
       "ABHD14B     0         0         0         0         0            0           \n",
       "ABI2        0         0         0         0         0            0           \n",
       "ABL2        0         0         0         0         0            0           \n",
       "ABRACL      0         0         0         0         0            0           \n",
       "ABT1        0         0         0         0         0            0           \n",
       "AC007405.6  0         0         0         0         0            0           \n",
       "AC013264.2  0         0         0         0         0            0           \n",
       "AC090498.1  0         0         0         0         0            0           \n",
       "ACADVL      0         0         0         0         0            0           \n",
       "ACAT2       0         0         0         0         0            0           \n",
       "ACBD3       0         0         0         0         0            0           \n",
       "ACIN1       0         0         0         0         0            0           \n",
       "ACLY        0         0         0         0         0            0           \n",
       "ACOT13      0         0         0         0         0            0           \n",
       "ACP1        0         0         0         0         0            0           \n",
       "ACSL1       0         0         0         0         0            0           \n",
       "ACTA2       0         0         0         0         0            0           \n",
       "ACTB        0         0         0         0         0            0           \n",
       "ACTG1       0         0         0         0         0            0           \n",
       "ACTN1       0         0         0         0         0            0           \n",
       "ACTN4       0         0         0         0         0            0           \n",
       "ACTR10      0         0         0         0         0            0           \n",
       "⋮           ⋮         ⋮         ⋮         ⋮         ⋮            ⋮           \n",
       "SEL1L       0         0         0         0         0            0           \n",
       "SERPINI1    0         0         0         0         0            0           \n",
       "SERTAD3     0         0         0         0         0            0           \n",
       "SHISA2      0         0         0         0         0            0           \n",
       "SHISA8      0         0         0         0         0            0           \n",
       "SLC25A13    0         0         0         0         0            0           \n",
       "SLC29A1     0         0         0         0         0            0           \n",
       "SLC29A4     0         0         0         0         0            0           \n",
       "SNX14       0         0         0         0         0            0           \n",
       "ST8SIA6-AS1 0         0         0         0         0            0           \n",
       "SYNJ2       0         0         0         0         0            0           \n",
       "TAB2        0         0         0         0         0            0           \n",
       "TBC1D7      0         0         0         0         0            0           \n",
       "TMEM171     0         0         0         0         0            0           \n",
       "TNS3        0         0         0         0         0            0           \n",
       "TPRN        0         0         0         0         0            0           \n",
       "TRIP13      0         0         0         0         0            0           \n",
       "TTC33       0         0         0         0         0            0           \n",
       "TTC39A      0         0         0         0         0            0           \n",
       "UCHL5       0         0         0         0         0            0           \n",
       "UCKL1       0         0         0         0         0            0           \n",
       "UGT8        0         0         0         0         0            0           \n",
       "UMPS        0         0         0         0         0            0           \n",
       "VTA1        0         0         0         0         0            0           \n",
       "VWA5B2      0         0         0         0         0            0           \n",
       "WDR72       0         0         0         0         0            0           \n",
       "ZMIZ2       0         0         0         0         0            0           \n",
       "ZNF680      0         0         0         0         0            0           \n",
       "TLNRD1      0         0         0         0         0            0           \n",
       "LZTS3       0         0         0         0         0            0           \n",
       "            BRONCHO_11_3 BRONCHO_11_4 EBUS_12_1 EBUS_12_2 ⋯ S5_3 S5_4 S6_1 S6_2\n",
       "AAED1       0            0            0         0         ⋯ 0    0    0    0   \n",
       "AAMDC       0            0            0         0         ⋯ 0    0    0    0   \n",
       "AAMP        0            0            0         0         ⋯ 0    0    0    0   \n",
       "ABCC3       0            0            0         0         ⋯ 0    0    0    0   \n",
       "ABCE1       0            0            0         0         ⋯ 0    0    0    0   \n",
       "ABCF1       0            0            0         0         ⋯ 0    0    0    0   \n",
       "ABHD11      0            0            0         0         ⋯ 0    0    0    0   \n",
       "ABHD11-AS1  0            0            0         0         ⋯ 0    0    0    0   \n",
       "ABHD14B     0            0            0         0         ⋯ 0    0    0    0   \n",
       "ABI2        0            0            0         0         ⋯ 0    0    0    0   \n",
       "ABL2        0            0            0         0         ⋯ 0    0    0    0   \n",
       "ABRACL      0            0            0         0         ⋯ 0    0    0    0   \n",
       "ABT1        0            0            0         0         ⋯ 0    0    0    0   \n",
       "AC007405.6  0            0            0         0         ⋯ 0    0    0    0   \n",
       "AC013264.2  0            0            0         0         ⋯ 0    0    0    0   \n",
       "AC090498.1  0            0            0         0         ⋯ 0    0    0    0   \n",
       "ACADVL      0            0            0         0         ⋯ 0    0    0    0   \n",
       "ACAT2       0            0            0         0         ⋯ 0    0    0    0   \n",
       "ACBD3       0            0            0         0         ⋯ 0    0    0    0   \n",
       "ACIN1       0            0            0         0         ⋯ 0    0    0    0   \n",
       "ACLY        0            0            0         0         ⋯ 0    0    0    0   \n",
       "ACOT13      0            0            0         0         ⋯ 0    0    0    0   \n",
       "ACP1        0            0            0         0         ⋯ 0    0    0    0   \n",
       "ACSL1       0            0            0         0         ⋯ 0    0    0    0   \n",
       "ACTA2       0            0            0         0         ⋯ 0    0    0    0   \n",
       "ACTB        0            0            0         0         ⋯ 0    0    0    0   \n",
       "ACTG1       0            0            0         0         ⋯ 0    0    0    0   \n",
       "ACTN1       0            0            0         0         ⋯ 0    0    0    0   \n",
       "ACTN4       0            0            0         0         ⋯ 0    0    0    0   \n",
       "ACTR10      0            0            0         0         ⋯ 0    0    0    0   \n",
       "⋮           ⋮            ⋮            ⋮         ⋮         ⋱ ⋮    ⋮    ⋮    ⋮   \n",
       "SEL1L       0            0            0         0         ⋯ 0    0    0    0   \n",
       "SERPINI1    0            0            0         0         ⋯ 0    0    0    0   \n",
       "SERTAD3     0            0            0         0         ⋯ 0    0    0    0   \n",
       "SHISA2      0            0            0         0         ⋯ 0    0    0    0   \n",
       "SHISA8      0            0            0         0         ⋯ 0    0    0    0   \n",
       "SLC25A13    0            0            0         0         ⋯ 0    0    0    0   \n",
       "SLC29A1     0            0            0         0         ⋯ 0    0    0    0   \n",
       "SLC29A4     0            0            0         0         ⋯ 0    0    0    0   \n",
       "SNX14       0            0            0         0         ⋯ 0    0    0    0   \n",
       "ST8SIA6-AS1 0            0            0         0         ⋯ 0    0    0    0   \n",
       "SYNJ2       0            0            0         0         ⋯ 0    0    0    0   \n",
       "TAB2        0            0            0         0         ⋯ 0    0    0    0   \n",
       "TBC1D7      0            0            0         0         ⋯ 0    0    0    0   \n",
       "TMEM171     0            0            0         0         ⋯ 0    0    0    0   \n",
       "TNS3        0            0            0         0         ⋯ 0    0    0    0   \n",
       "TPRN        0            0            0         0         ⋯ 0    0    0    0   \n",
       "TRIP13      0            0            0         0         ⋯ 0    0    0    0   \n",
       "TTC33       0            0            0         0         ⋯ 0    0    0    0   \n",
       "TTC39A      0            0            0         0         ⋯ 0    0    0    0   \n",
       "UCHL5       0            0            0         0         ⋯ 0    0    0    0   \n",
       "UCKL1       0            0            0         0         ⋯ 0    0    0    0   \n",
       "UGT8        0            0            0         0         ⋯ 0    0    0    0   \n",
       "UMPS        0            0            0         0         ⋯ 0    0    0    0   \n",
       "VTA1        0            0            0         0         ⋯ 0    0    0    0   \n",
       "VWA5B2      0            0            0         0         ⋯ 0    0    0    0   \n",
       "WDR72       0            0            0         0         ⋯ 0    0    0    0   \n",
       "ZMIZ2       0            0            0         0         ⋯ 0    0    0    0   \n",
       "ZNF680      0            0            0         0         ⋯ 0    0    0    0   \n",
       "TLNRD1      0            0            0         0         ⋯ 0    0    0    0   \n",
       "LZTS3       0            0            0         0         ⋯ 0    0    0    0   \n",
       "            S6_3 S6_4 S7_1 S7_2 S7_3 S7_4\n",
       "AAED1       0    0    0    0    0    0   \n",
       "AAMDC       0    0    0    0    0    0   \n",
       "AAMP        0    0    0    0    0    0   \n",
       "ABCC3       0    0    0    0    0    0   \n",
       "ABCE1       0    0    0    0    0    0   \n",
       "ABCF1       0    0    0    0    0    0   \n",
       "ABHD11      0    0    0    0    0    0   \n",
       "ABHD11-AS1  0    0    0    0    0    0   \n",
       "ABHD14B     0    0    0    0    0    0   \n",
       "ABI2        0    0    0    0    0    0   \n",
       "ABL2        0    0    0    0    0    0   \n",
       "ABRACL      0    0    0    0    0    0   \n",
       "ABT1        0    0    0    0    0    0   \n",
       "AC007405.6  0    0    0    0    0    0   \n",
       "AC013264.2  0    0    0    0    0    0   \n",
       "AC090498.1  0    0    0    0    0    0   \n",
       "ACADVL      0    0    0    0    0    0   \n",
       "ACAT2       0    0    0    0    0    0   \n",
       "ACBD3       0    0    0    0    0    0   \n",
       "ACIN1       0    0    0    0    0    0   \n",
       "ACLY        0    0    0    0    0    0   \n",
       "ACOT13      0    0    0    0    0    0   \n",
       "ACP1        0    0    0    0    0    0   \n",
       "ACSL1       0    0    0    0    0    0   \n",
       "ACTA2       0    0    0    0    0    0   \n",
       "ACTB        0    0    0    0    0    0   \n",
       "ACTG1       0    0    0    0    0    0   \n",
       "ACTN1       0    0    0    0    0    0   \n",
       "ACTN4       0    0    0    0    0    0   \n",
       "ACTR10      0    0    0    0    0    0   \n",
       "⋮           ⋮    ⋮    ⋮    ⋮    ⋮    ⋮   \n",
       "SEL1L       0    0    0    0    0    0   \n",
       "SERPINI1    0    0    0    0    0    0   \n",
       "SERTAD3     0    0    0    0    0    0   \n",
       "SHISA2      0    0    0    0    0    0   \n",
       "SHISA8      0    0    0    0    0    0   \n",
       "SLC25A13    0    0    0    0    0    0   \n",
       "SLC29A1     0    0    0    0    0    0   \n",
       "SLC29A4     0    0    0    0    0    0   \n",
       "SNX14       0    0    0    0    0    0   \n",
       "ST8SIA6-AS1 0    0    0    0    0    0   \n",
       "SYNJ2       0    0    0    0    0    0   \n",
       "TAB2        0    0    0    0    0    0   \n",
       "TBC1D7      0    0    0    0    0    0   \n",
       "TMEM171     0    0    0    0    0    0   \n",
       "TNS3        0    0    0    0    0    0   \n",
       "TPRN        0    0    0    0    0    0   \n",
       "TRIP13      0    0    0    0    0    0   \n",
       "TTC33       0    0    0    0    0    0   \n",
       "TTC39A      0    0    0    0    0    0   \n",
       "UCHL5       0    0    0    0    0    0   \n",
       "UCKL1       0    0    0    0    0    0   \n",
       "UGT8        0    0    0    0    0    0   \n",
       "UMPS        0    0    0    0    0    0   \n",
       "VTA1        0    0    0    0    0    0   \n",
       "VWA5B2      0    0    0    0    0    0   \n",
       "WDR72       0    0    0    0    0    0   \n",
       "ZMIZ2       0    0    0    0    0    0   \n",
       "ZNF680      0    0    0    0    0    0   \n",
       "TLNRD1      0    0    0    0    0    0   \n",
       "LZTS3       0    0    0    0    0    0   "
      ]
     },
     "metadata": {},
     "output_type": "display_data"
    }
   ],
   "source": [
    "M_tmp"
   ]
  },
  {
   "cell_type": "code",
   "execution_count": 12,
   "id": "24e10007-0806-497f-bb0c-dc2122f2553a",
   "metadata": {},
   "outputs": [],
   "source": [
    "for (i in 1:length(merge_list)){\n",
    "geneloading<-as.matrix(merge_list[[i]])\n",
    "M_tmp[ rownames(geneloading),colnames(geneloading)]<-geneloading\n",
    "\n",
    "  }"
   ]
  },
  {
   "cell_type": "code",
   "execution_count": 13,
   "id": "c4cde567-0491-4055-8f06-62c85ffbab7c",
   "metadata": {
    "scrolled": true,
    "tags": []
   },
   "outputs": [
    {
     "data": {
      "text/html": [
       "<table class=\"dataframe\">\n",
       "<caption>A matrix: 7720 × 56 of type dbl</caption>\n",
       "<thead>\n",
       "\t<tr><th></th><th scope=col>EBUS_10_1</th><th scope=col>EBUS_10_2</th><th scope=col>EBUS_10_3</th><th scope=col>EBUS_10_4</th><th scope=col>BRONCHO_11_1</th><th scope=col>BRONCHO_11_2</th><th scope=col>BRONCHO_11_3</th><th scope=col>BRONCHO_11_4</th><th scope=col>EBUS_12_1</th><th scope=col>EBUS_12_2</th><th scope=col>⋯</th><th scope=col>S5_3</th><th scope=col>S5_4</th><th scope=col>S6_1</th><th scope=col>S6_2</th><th scope=col>S6_3</th><th scope=col>S6_4</th><th scope=col>S7_1</th><th scope=col>S7_2</th><th scope=col>S7_3</th><th scope=col>S7_4</th></tr>\n",
       "</thead>\n",
       "<tbody>\n",
       "\t<tr><th scope=row>AAED1</th><td>7.339783e-01</td><td>4.606327e+00</td><td>1.546282e+00</td><td>2.220446e-16</td><td>0.000000e+00</td><td>0.0000000</td><td>0.000000e+00</td><td> 0.000000</td><td>0.000000e+00</td><td> 0.00000000</td><td>⋯</td><td>0.000000e+00</td><td>0.000000e+00</td><td> 0.000000</td><td>0.000000e+00</td><td> 0.000000</td><td> 0.000000</td><td>0.000000e+00</td><td>0.000000e+00</td><td>0.000000</td><td>0.000000e+00</td></tr>\n",
       "\t<tr><th scope=row>AAMDC</th><td>1.492285e+00</td><td>2.608171e+00</td><td>3.014766e+00</td><td>2.220446e-16</td><td>1.440888e+00</td><td>0.8860674</td><td>8.347579e-01</td><td> 4.391664</td><td>2.220446e-16</td><td> 1.37970556</td><td>⋯</td><td>0.000000e+00</td><td>0.000000e+00</td><td> 1.229022</td><td>1.348510e-05</td><td> 6.612420</td><td> 2.388196</td><td>0.000000e+00</td><td>0.000000e+00</td><td>0.000000</td><td>0.000000e+00</td></tr>\n",
       "\t<tr><th scope=row>AAMP</th><td>1.386188e+00</td><td>4.667683e+00</td><td>4.213414e+00</td><td>1.420516e+00</td><td>0.000000e+00</td><td>0.0000000</td><td>0.000000e+00</td><td> 0.000000</td><td>0.000000e+00</td><td> 0.00000000</td><td>⋯</td><td>0.000000e+00</td><td>0.000000e+00</td><td> 1.567524</td><td>1.506574e+00</td><td> 3.019342</td><td> 1.337657</td><td>1.510157e+00</td><td>1.202885e+00</td><td>1.534895</td><td>4.967792e+00</td></tr>\n",
       "\t<tr><th scope=row>ABCC3</th><td>2.220446e-16</td><td>1.878950e+00</td><td>6.707795e-02</td><td>7.368991e+00</td><td>2.220446e-16</td><td>1.0449622</td><td>1.486866e+00</td><td> 6.226681</td><td>6.219859e+00</td><td> 0.50770436</td><td>⋯</td><td>0.000000e+00</td><td>0.000000e+00</td><td> 0.000000</td><td>0.000000e+00</td><td> 0.000000</td><td> 0.000000</td><td>0.000000e+00</td><td>0.000000e+00</td><td>0.000000</td><td>0.000000e+00</td></tr>\n",
       "\t<tr><th scope=row>ABCE1</th><td>6.007611e-01</td><td>4.064098e+00</td><td>4.974158e-01</td><td>1.807560e+00</td><td>0.000000e+00</td><td>0.0000000</td><td>0.000000e+00</td><td> 0.000000</td><td>0.000000e+00</td><td> 0.00000000</td><td>⋯</td><td>0.000000e+00</td><td>0.000000e+00</td><td> 0.000000</td><td>0.000000e+00</td><td> 0.000000</td><td> 0.000000</td><td>1.387698e+00</td><td>2.825842e+00</td><td>2.428195</td><td>2.978213e+00</td></tr>\n",
       "\t<tr><th scope=row>ABCF1</th><td>5.919799e-01</td><td>3.363336e+00</td><td>1.385398e+00</td><td>3.289564e+00</td><td>2.220446e-16</td><td>0.6292176</td><td>1.015103e+00</td><td> 4.252920</td><td>2.972818e+00</td><td> 0.85094634</td><td>⋯</td><td>2.976294e+00</td><td>2.220446e-16</td><td> 1.999225</td><td>5.805024e+00</td><td> 2.688312</td><td> 2.478640</td><td>2.498994e+00</td><td>1.729724e+00</td><td>3.140832</td><td>3.612779e+00</td></tr>\n",
       "\t<tr><th scope=row>ABHD11</th><td>1.061699e+00</td><td>3.267222e+00</td><td>9.069694e-01</td><td>1.908692e+00</td><td>0.000000e+00</td><td>0.0000000</td><td>0.000000e+00</td><td> 0.000000</td><td>5.266658e+00</td><td> 0.37281817</td><td>⋯</td><td>2.220446e-16</td><td>2.220446e-16</td><td> 0.000000</td><td>0.000000e+00</td><td> 0.000000</td><td> 0.000000</td><td>2.220446e-16</td><td>2.185722e+00</td><td>2.303143</td><td>2.378721e+00</td></tr>\n",
       "\t<tr><th scope=row>ABHD11-AS1</th><td>1.007070e+00</td><td>2.220446e-16</td><td>2.005243e+00</td><td>5.673126e+00</td><td>0.000000e+00</td><td>0.0000000</td><td>0.000000e+00</td><td> 0.000000</td><td>0.000000e+00</td><td> 0.00000000</td><td>⋯</td><td>0.000000e+00</td><td>0.000000e+00</td><td> 0.000000</td><td>0.000000e+00</td><td> 0.000000</td><td> 0.000000</td><td>0.000000e+00</td><td>0.000000e+00</td><td>0.000000</td><td>0.000000e+00</td></tr>\n",
       "\t<tr><th scope=row>ABHD14B</th><td>8.513836e-01</td><td>6.294992e+00</td><td>2.677681e+00</td><td>2.220446e-16</td><td>0.000000e+00</td><td>0.0000000</td><td>0.000000e+00</td><td> 0.000000</td><td>0.000000e+00</td><td> 0.00000000</td><td>⋯</td><td>0.000000e+00</td><td>0.000000e+00</td><td> 0.000000</td><td>0.000000e+00</td><td> 0.000000</td><td> 0.000000</td><td>0.000000e+00</td><td>0.000000e+00</td><td>0.000000</td><td>0.000000e+00</td></tr>\n",
       "\t<tr><th scope=row>ABI2</th><td>1.618231e+00</td><td>2.220995e+00</td><td>4.271379e-01</td><td>6.131393e+00</td><td>0.000000e+00</td><td>0.0000000</td><td>0.000000e+00</td><td> 0.000000</td><td>0.000000e+00</td><td> 0.00000000</td><td>⋯</td><td>3.325150e+00</td><td>3.800918e+00</td><td> 1.278839</td><td>8.836548e+00</td><td> 1.604843</td><td> 4.337325</td><td>1.221410e+00</td><td>3.076318e+00</td><td>5.815275</td><td>3.247591e-01</td></tr>\n",
       "\t<tr><th scope=row>ABL2</th><td>6.539214e-01</td><td>1.483066e+00</td><td>2.220446e-16</td><td>7.222705e+00</td><td>0.000000e+00</td><td>0.0000000</td><td>0.000000e+00</td><td> 0.000000</td><td>4.218759e+00</td><td> 2.72959890</td><td>⋯</td><td>0.000000e+00</td><td>0.000000e+00</td><td> 0.000000</td><td>0.000000e+00</td><td> 0.000000</td><td> 0.000000</td><td>0.000000e+00</td><td>0.000000e+00</td><td>0.000000</td><td>0.000000e+00</td></tr>\n",
       "\t<tr><th scope=row>ABRACL</th><td>1.765297e+00</td><td>3.742443e+00</td><td>4.020865e+00</td><td>3.833974e-01</td><td>4.576129e+00</td><td>1.0729401</td><td>2.641958e+00</td><td> 2.955435</td><td>1.967084e+00</td><td> 2.01247201</td><td>⋯</td><td>2.220446e-16</td><td>2.651753e+00</td><td> 1.014517</td><td>3.342157e+00</td><td> 9.389479</td><td> 3.349042</td><td>3.726625e+00</td><td>1.521608e+00</td><td>6.189068</td><td>3.640358e+00</td></tr>\n",
       "\t<tr><th scope=row>ABT1</th><td>7.430007e-01</td><td>3.708751e+00</td><td>1.817455e+00</td><td>3.029145e+00</td><td>0.000000e+00</td><td>0.0000000</td><td>0.000000e+00</td><td> 0.000000</td><td>0.000000e+00</td><td> 0.00000000</td><td>⋯</td><td>8.199078e-01</td><td>1.371143e+00</td><td> 0.000000</td><td>0.000000e+00</td><td> 0.000000</td><td> 0.000000</td><td>1.498624e+00</td><td>1.210001e+00</td><td>2.883081</td><td>2.539586e+00</td></tr>\n",
       "\t<tr><th scope=row>AC007405.6</th><td>1.500577e+00</td><td>1.041196e+00</td><td>1.780854e+00</td><td>2.482300e+00</td><td>0.000000e+00</td><td>0.0000000</td><td>0.000000e+00</td><td> 0.000000</td><td>0.000000e+00</td><td> 0.00000000</td><td>⋯</td><td>0.000000e+00</td><td>0.000000e+00</td><td> 0.000000</td><td>0.000000e+00</td><td> 0.000000</td><td> 0.000000</td><td>0.000000e+00</td><td>0.000000e+00</td><td>0.000000</td><td>0.000000e+00</td></tr>\n",
       "\t<tr><th scope=row>AC013264.2</th><td>3.323078e+00</td><td>2.220446e-16</td><td>2.220446e-16</td><td>2.220446e-16</td><td>0.000000e+00</td><td>0.0000000</td><td>0.000000e+00</td><td> 0.000000</td><td>0.000000e+00</td><td> 0.00000000</td><td>⋯</td><td>0.000000e+00</td><td>0.000000e+00</td><td> 0.000000</td><td>0.000000e+00</td><td> 0.000000</td><td> 0.000000</td><td>0.000000e+00</td><td>0.000000e+00</td><td>0.000000</td><td>0.000000e+00</td></tr>\n",
       "\t<tr><th scope=row>AC090498.1</th><td>1.062188e+00</td><td>4.608651e+00</td><td>2.035629e+00</td><td>1.510245e+00</td><td>6.715865e+00</td><td>1.8017194</td><td>5.488149e+00</td><td> 2.933589</td><td>1.708038e+00</td><td> 2.27510958</td><td>⋯</td><td>0.000000e+00</td><td>0.000000e+00</td><td> 0.000000</td><td>0.000000e+00</td><td> 0.000000</td><td> 0.000000</td><td>0.000000e+00</td><td>0.000000e+00</td><td>0.000000</td><td>0.000000e+00</td></tr>\n",
       "\t<tr><th scope=row>ACADVL</th><td>2.106200e+00</td><td>1.375996e+00</td><td>1.675735e+00</td><td>2.236987e+00</td><td>4.926307e-01</td><td>1.2313608</td><td>5.648705e+00</td><td> 6.862718</td><td>6.170435e+00</td><td> 3.08733409</td><td>⋯</td><td>0.000000e+00</td><td>0.000000e+00</td><td> 0.000000</td><td>0.000000e+00</td><td> 0.000000</td><td> 0.000000</td><td>2.121191e+00</td><td>1.406588e+00</td><td>3.209950</td><td>1.995655e+00</td></tr>\n",
       "\t<tr><th scope=row>ACAT2</th><td>6.776135e-01</td><td>3.750879e+00</td><td>2.669977e+00</td><td>2.220446e-16</td><td>0.000000e+00</td><td>0.0000000</td><td>0.000000e+00</td><td> 0.000000</td><td>2.379565e-06</td><td> 0.06762149</td><td>⋯</td><td>2.220446e-16</td><td>9.477859e-01</td><td> 2.451075</td><td>4.040302e+00</td><td> 6.955149</td><td> 1.483150</td><td>3.286869e+00</td><td>2.220446e-16</td><td>6.113704</td><td>3.034889e+00</td></tr>\n",
       "\t<tr><th scope=row>ACBD3</th><td>2.666899e-01</td><td>4.073471e+00</td><td>1.028470e+00</td><td>1.921827e+00</td><td>7.530712e-01</td><td>0.2553041</td><td>7.937012e-01</td><td> 6.935952</td><td>0.000000e+00</td><td> 0.00000000</td><td>⋯</td><td>0.000000e+00</td><td>0.000000e+00</td><td> 1.727946</td><td>3.301831e+00</td><td> 1.225655</td><td> 1.685934</td><td>0.000000e+00</td><td>0.000000e+00</td><td>0.000000</td><td>0.000000e+00</td></tr>\n",
       "\t<tr><th scope=row>ACIN1</th><td>9.060506e-01</td><td>5.999574e-01</td><td>2.220446e-16</td><td>4.388567e+00</td><td>4.628737e-01</td><td>0.8574772</td><td>1.116372e+00</td><td> 4.632124</td><td>4.051624e+00</td><td> 1.37035112</td><td>⋯</td><td>3.764986e+00</td><td>2.220446e-16</td><td> 1.691977</td><td>4.068413e+00</td><td> 1.149689</td><td> 2.494058</td><td>0.000000e+00</td><td>0.000000e+00</td><td>0.000000</td><td>0.000000e+00</td></tr>\n",
       "\t<tr><th scope=row>ACLY</th><td>4.551756e-01</td><td>3.446275e+00</td><td>2.220446e-16</td><td>2.950920e+00</td><td>0.000000e+00</td><td>0.0000000</td><td>0.000000e+00</td><td> 0.000000</td><td>0.000000e+00</td><td> 0.00000000</td><td>⋯</td><td>0.000000e+00</td><td>0.000000e+00</td><td> 0.000000</td><td>0.000000e+00</td><td> 0.000000</td><td> 0.000000</td><td>1.616163e+00</td><td>7.164991e-01</td><td>5.614683</td><td>3.427392e+00</td></tr>\n",
       "\t<tr><th scope=row>ACOT13</th><td>5.213061e-01</td><td>7.287759e+00</td><td>5.136168e+00</td><td>2.220446e-16</td><td>5.108799e+00</td><td>0.2254459</td><td>2.811639e+00</td><td> 1.062540</td><td>7.118446e-01</td><td> 0.63737934</td><td>⋯</td><td>0.000000e+00</td><td>0.000000e+00</td><td> 0.000000</td><td>0.000000e+00</td><td> 0.000000</td><td> 0.000000</td><td>0.000000e+00</td><td>0.000000e+00</td><td>0.000000</td><td>0.000000e+00</td></tr>\n",
       "\t<tr><th scope=row>ACP1</th><td>1.610517e+00</td><td>1.284307e+01</td><td>4.117829e+00</td><td>5.255347e-11</td><td>9.350851e+00</td><td>1.9448434</td><td>5.760758e+00</td><td> 0.735353</td><td>1.799391e+00</td><td> 1.53347474</td><td>⋯</td><td>2.220446e-16</td><td>1.960483e+00</td><td> 3.716292</td><td>2.560002e+00</td><td> 7.246371</td><td> 1.886780</td><td>3.852294e+00</td><td>2.449647e+00</td><td>1.739516</td><td>9.636075e+00</td></tr>\n",
       "\t<tr><th scope=row>ACSL1</th><td>2.679764e-01</td><td>2.586423e-01</td><td>6.997563e-01</td><td>5.782690e+00</td><td>0.000000e+00</td><td>0.0000000</td><td>0.000000e+00</td><td> 0.000000</td><td>0.000000e+00</td><td> 0.00000000</td><td>⋯</td><td>0.000000e+00</td><td>0.000000e+00</td><td> 0.000000</td><td>0.000000e+00</td><td> 0.000000</td><td> 0.000000</td><td>0.000000e+00</td><td>0.000000e+00</td><td>0.000000</td><td>0.000000e+00</td></tr>\n",
       "\t<tr><th scope=row>ACTA2</th><td>1.331311e+00</td><td>9.572238e-01</td><td>4.189388e-01</td><td>3.159204e-05</td><td>0.000000e+00</td><td>0.0000000</td><td>0.000000e+00</td><td> 0.000000</td><td>2.220446e-16</td><td> 3.25892041</td><td>⋯</td><td>0.000000e+00</td><td>0.000000e+00</td><td> 0.000000</td><td>0.000000e+00</td><td> 0.000000</td><td> 0.000000</td><td>0.000000e+00</td><td>0.000000e+00</td><td>0.000000</td><td>0.000000e+00</td></tr>\n",
       "\t<tr><th scope=row>ACTB</th><td>9.346802e+00</td><td>1.788763e+01</td><td>2.505556e+01</td><td>1.378125e+01</td><td>3.435937e+01</td><td>9.0494755</td><td>2.526713e+01</td><td> 4.780250</td><td>1.656510e+01</td><td>14.43704231</td><td>⋯</td><td>8.320433e+00</td><td>1.065809e+01</td><td>14.728720</td><td>1.461129e+01</td><td>28.760414</td><td>10.280888</td><td>1.818325e+01</td><td>1.759873e+01</td><td>7.053053</td><td>3.410409e+01</td></tr>\n",
       "\t<tr><th scope=row>ACTG1</th><td>8.620499e+00</td><td>1.212309e+01</td><td>2.619417e+01</td><td>1.532453e+01</td><td>2.762715e+01</td><td>7.9499365</td><td>1.804166e+01</td><td> 6.258662</td><td>7.093575e+00</td><td>12.39489615</td><td>⋯</td><td>2.220446e-16</td><td>6.277701e+00</td><td>17.645116</td><td>1.563436e+01</td><td>26.457416</td><td> 9.643851</td><td>1.506511e+01</td><td>2.008454e+01</td><td>8.583645</td><td>2.633345e+01</td></tr>\n",
       "\t<tr><th scope=row>ACTN1</th><td>3.076517e+00</td><td>1.627759e+00</td><td>2.877735e-01</td><td>1.551874e-01</td><td>1.665822e+00</td><td>2.7891570</td><td>2.220446e-16</td><td> 3.263743</td><td>5.665920e+00</td><td> 6.00225141</td><td>⋯</td><td>2.785839e+00</td><td>2.220446e-16</td><td> 0.000000</td><td>0.000000e+00</td><td> 0.000000</td><td> 0.000000</td><td>2.112973e+00</td><td>2.472238e+00</td><td>6.215442</td><td>1.358761e+00</td></tr>\n",
       "\t<tr><th scope=row>ACTN4</th><td>2.547145e+00</td><td>2.837181e+00</td><td>1.351001e-01</td><td>2.892093e+00</td><td>2.220446e-16</td><td>0.5733190</td><td>5.691770e+00</td><td>15.450544</td><td>8.534691e+00</td><td> 1.64895333</td><td>⋯</td><td>5.668798e+00</td><td>1.913199e+00</td><td> 2.235751</td><td>7.399596e+00</td><td> 3.195633</td><td> 3.365036</td><td>1.465073e+00</td><td>2.893969e+00</td><td>9.637986</td><td>2.220446e-16</td></tr>\n",
       "\t<tr><th scope=row>ACTR10</th><td>1.796106e+00</td><td>3.128743e+00</td><td>2.141793e+00</td><td>6.040401e-01</td><td>0.000000e+00</td><td>0.0000000</td><td>0.000000e+00</td><td> 0.000000</td><td>3.129847e+00</td><td> 1.72401671</td><td>⋯</td><td>2.362091e+00</td><td>2.220446e-16</td><td> 1.798488</td><td>1.852290e+00</td><td> 5.156380</td><td> 1.725514</td><td>1.945057e+00</td><td>1.076685e+00</td><td>1.054125</td><td>5.583255e+00</td></tr>\n",
       "\t<tr><th scope=row>⋮</th><td>⋮</td><td>⋮</td><td>⋮</td><td>⋮</td><td>⋮</td><td>⋮</td><td>⋮</td><td>⋮</td><td>⋮</td><td>⋮</td><td>⋱</td><td>⋮</td><td>⋮</td><td>⋮</td><td>⋮</td><td>⋮</td><td>⋮</td><td>⋮</td><td>⋮</td><td>⋮</td><td>⋮</td></tr>\n",
       "\t<tr><th scope=row>SEL1L</th><td>0</td><td>0</td><td>0</td><td>0</td><td>0</td><td>0</td><td>0</td><td>0</td><td>0</td><td>0</td><td>⋯</td><td>0</td><td>0</td><td>0</td><td>0</td><td>0</td><td>0</td><td>7.286641e-01</td><td>2.348589e+00</td><td>3.564673e+00</td><td>2.220446e-16</td></tr>\n",
       "\t<tr><th scope=row>SERPINI1</th><td>0</td><td>0</td><td>0</td><td>0</td><td>0</td><td>0</td><td>0</td><td>0</td><td>0</td><td>0</td><td>⋯</td><td>0</td><td>0</td><td>0</td><td>0</td><td>0</td><td>0</td><td>2.220446e-16</td><td>2.220446e-16</td><td>3.887271e+00</td><td>1.189896e+00</td></tr>\n",
       "\t<tr><th scope=row>SERTAD3</th><td>0</td><td>0</td><td>0</td><td>0</td><td>0</td><td>0</td><td>0</td><td>0</td><td>0</td><td>0</td><td>⋯</td><td>0</td><td>0</td><td>0</td><td>0</td><td>0</td><td>0</td><td>4.497751e-01</td><td>1.760130e+00</td><td>3.374233e+00</td><td>1.746197e+00</td></tr>\n",
       "\t<tr><th scope=row>SHISA2</th><td>0</td><td>0</td><td>0</td><td>0</td><td>0</td><td>0</td><td>0</td><td>0</td><td>0</td><td>0</td><td>⋯</td><td>0</td><td>0</td><td>0</td><td>0</td><td>0</td><td>0</td><td>1.918808e-01</td><td>5.120346e+00</td><td>2.220446e-16</td><td>3.137854e-01</td></tr>\n",
       "\t<tr><th scope=row>SHISA8</th><td>0</td><td>0</td><td>0</td><td>0</td><td>0</td><td>0</td><td>0</td><td>0</td><td>0</td><td>0</td><td>⋯</td><td>0</td><td>0</td><td>0</td><td>0</td><td>0</td><td>0</td><td>2.220446e-16</td><td>1.513085e+00</td><td>1.414020e+00</td><td>2.313509e+00</td></tr>\n",
       "\t<tr><th scope=row>SLC25A13</th><td>0</td><td>0</td><td>0</td><td>0</td><td>0</td><td>0</td><td>0</td><td>0</td><td>0</td><td>0</td><td>⋯</td><td>0</td><td>0</td><td>0</td><td>0</td><td>0</td><td>0</td><td>7.371242e-01</td><td>1.490659e+00</td><td>1.091123e+00</td><td>3.591056e+00</td></tr>\n",
       "\t<tr><th scope=row>SLC29A1</th><td>0</td><td>0</td><td>0</td><td>0</td><td>0</td><td>0</td><td>0</td><td>0</td><td>0</td><td>0</td><td>⋯</td><td>0</td><td>0</td><td>0</td><td>0</td><td>0</td><td>0</td><td>2.220446e-16</td><td>3.931357e+00</td><td>3.367544e+00</td><td>3.607028e+00</td></tr>\n",
       "\t<tr><th scope=row>SLC29A4</th><td>0</td><td>0</td><td>0</td><td>0</td><td>0</td><td>0</td><td>0</td><td>0</td><td>0</td><td>0</td><td>⋯</td><td>0</td><td>0</td><td>0</td><td>0</td><td>0</td><td>0</td><td>2.220446e-16</td><td>1.091930e+00</td><td>3.354347e+00</td><td>2.705444e+00</td></tr>\n",
       "\t<tr><th scope=row>SNX14</th><td>0</td><td>0</td><td>0</td><td>0</td><td>0</td><td>0</td><td>0</td><td>0</td><td>0</td><td>0</td><td>⋯</td><td>0</td><td>0</td><td>0</td><td>0</td><td>0</td><td>0</td><td>2.220446e-16</td><td>1.611898e+00</td><td>5.783637e+00</td><td>5.652319e-01</td></tr>\n",
       "\t<tr><th scope=row>ST8SIA6-AS1</th><td>0</td><td>0</td><td>0</td><td>0</td><td>0</td><td>0</td><td>0</td><td>0</td><td>0</td><td>0</td><td>⋯</td><td>0</td><td>0</td><td>0</td><td>0</td><td>0</td><td>0</td><td>1.197837e+00</td><td>1.238568e+00</td><td>4.198247e+00</td><td>1.545091e+00</td></tr>\n",
       "\t<tr><th scope=row>SYNJ2</th><td>0</td><td>0</td><td>0</td><td>0</td><td>0</td><td>0</td><td>0</td><td>0</td><td>0</td><td>0</td><td>⋯</td><td>0</td><td>0</td><td>0</td><td>0</td><td>0</td><td>0</td><td>1.596377e-01</td><td>3.925967e+00</td><td>4.138229e+00</td><td>1.910150e+00</td></tr>\n",
       "\t<tr><th scope=row>TAB2</th><td>0</td><td>0</td><td>0</td><td>0</td><td>0</td><td>0</td><td>0</td><td>0</td><td>0</td><td>0</td><td>⋯</td><td>0</td><td>0</td><td>0</td><td>0</td><td>0</td><td>0</td><td>6.453118e-01</td><td>1.855049e+00</td><td>4.536204e+00</td><td>2.220446e-16</td></tr>\n",
       "\t<tr><th scope=row>TBC1D7</th><td>0</td><td>0</td><td>0</td><td>0</td><td>0</td><td>0</td><td>0</td><td>0</td><td>0</td><td>0</td><td>⋯</td><td>0</td><td>0</td><td>0</td><td>0</td><td>0</td><td>0</td><td>8.382338e-01</td><td>1.659359e-01</td><td>9.678074e-01</td><td>5.268730e+00</td></tr>\n",
       "\t<tr><th scope=row>TMEM171</th><td>0</td><td>0</td><td>0</td><td>0</td><td>0</td><td>0</td><td>0</td><td>0</td><td>0</td><td>0</td><td>⋯</td><td>0</td><td>0</td><td>0</td><td>0</td><td>0</td><td>0</td><td>2.220446e-16</td><td>1.383421e+00</td><td>3.753945e-01</td><td>2.753461e+00</td></tr>\n",
       "\t<tr><th scope=row>TNS3</th><td>0</td><td>0</td><td>0</td><td>0</td><td>0</td><td>0</td><td>0</td><td>0</td><td>0</td><td>0</td><td>⋯</td><td>0</td><td>0</td><td>0</td><td>0</td><td>0</td><td>0</td><td>2.220446e-16</td><td>2.220446e-16</td><td>7.693826e+00</td><td>1.012639e+00</td></tr>\n",
       "\t<tr><th scope=row>TPRN</th><td>0</td><td>0</td><td>0</td><td>0</td><td>0</td><td>0</td><td>0</td><td>0</td><td>0</td><td>0</td><td>⋯</td><td>0</td><td>0</td><td>0</td><td>0</td><td>0</td><td>0</td><td>1.230537e+00</td><td>1.595091e+00</td><td>3.511171e+00</td><td>2.220446e-16</td></tr>\n",
       "\t<tr><th scope=row>TRIP13</th><td>0</td><td>0</td><td>0</td><td>0</td><td>0</td><td>0</td><td>0</td><td>0</td><td>0</td><td>0</td><td>⋯</td><td>0</td><td>0</td><td>0</td><td>0</td><td>0</td><td>0</td><td>9.733099e+00</td><td>2.220446e-16</td><td>1.058387e+00</td><td>2.220446e-16</td></tr>\n",
       "\t<tr><th scope=row>TTC33</th><td>0</td><td>0</td><td>0</td><td>0</td><td>0</td><td>0</td><td>0</td><td>0</td><td>0</td><td>0</td><td>⋯</td><td>0</td><td>0</td><td>0</td><td>0</td><td>0</td><td>0</td><td>1.558992e-01</td><td>7.697901e-01</td><td>1.646108e+00</td><td>2.519723e+00</td></tr>\n",
       "\t<tr><th scope=row>TTC39A</th><td>0</td><td>0</td><td>0</td><td>0</td><td>0</td><td>0</td><td>0</td><td>0</td><td>0</td><td>0</td><td>⋯</td><td>0</td><td>0</td><td>0</td><td>0</td><td>0</td><td>0</td><td>7.510127e-01</td><td>9.538415e-01</td><td>2.675905e-01</td><td>5.176620e+00</td></tr>\n",
       "\t<tr><th scope=row>UCHL5</th><td>0</td><td>0</td><td>0</td><td>0</td><td>0</td><td>0</td><td>0</td><td>0</td><td>0</td><td>0</td><td>⋯</td><td>0</td><td>0</td><td>0</td><td>0</td><td>0</td><td>0</td><td>2.464608e+00</td><td>5.327125e-01</td><td>3.147886e-01</td><td>3.651015e+00</td></tr>\n",
       "\t<tr><th scope=row>UCKL1</th><td>0</td><td>0</td><td>0</td><td>0</td><td>0</td><td>0</td><td>0</td><td>0</td><td>0</td><td>0</td><td>⋯</td><td>0</td><td>0</td><td>0</td><td>0</td><td>0</td><td>0</td><td>2.323086e+00</td><td>1.262456e+00</td><td>2.220446e-16</td><td>2.564322e+00</td></tr>\n",
       "\t<tr><th scope=row>UGT8</th><td>0</td><td>0</td><td>0</td><td>0</td><td>0</td><td>0</td><td>0</td><td>0</td><td>0</td><td>0</td><td>⋯</td><td>0</td><td>0</td><td>0</td><td>0</td><td>0</td><td>0</td><td>1.142930e+00</td><td>2.220446e-16</td><td>7.410753e+00</td><td>2.220446e-16</td></tr>\n",
       "\t<tr><th scope=row>UMPS</th><td>0</td><td>0</td><td>0</td><td>0</td><td>0</td><td>0</td><td>0</td><td>0</td><td>0</td><td>0</td><td>⋯</td><td>0</td><td>0</td><td>0</td><td>0</td><td>0</td><td>0</td><td>8.687523e-01</td><td>1.207247e-02</td><td>2.533437e+00</td><td>2.555465e+00</td></tr>\n",
       "\t<tr><th scope=row>VTA1</th><td>0</td><td>0</td><td>0</td><td>0</td><td>0</td><td>0</td><td>0</td><td>0</td><td>0</td><td>0</td><td>⋯</td><td>0</td><td>0</td><td>0</td><td>0</td><td>0</td><td>0</td><td>1.746794e+00</td><td>3.606841e+00</td><td>1.918425e+00</td><td>2.419738e+00</td></tr>\n",
       "\t<tr><th scope=row>VWA5B2</th><td>0</td><td>0</td><td>0</td><td>0</td><td>0</td><td>0</td><td>0</td><td>0</td><td>0</td><td>0</td><td>⋯</td><td>0</td><td>0</td><td>0</td><td>0</td><td>0</td><td>0</td><td>2.220446e-16</td><td>4.249017e-01</td><td>3.807502e+00</td><td>1.335049e+00</td></tr>\n",
       "\t<tr><th scope=row>WDR72</th><td>0</td><td>0</td><td>0</td><td>0</td><td>0</td><td>0</td><td>0</td><td>0</td><td>0</td><td>0</td><td>⋯</td><td>0</td><td>0</td><td>0</td><td>0</td><td>0</td><td>0</td><td>2.479810e+00</td><td>1.612008e+00</td><td>1.909604e+00</td><td>1.822443e+00</td></tr>\n",
       "\t<tr><th scope=row>ZMIZ2</th><td>0</td><td>0</td><td>0</td><td>0</td><td>0</td><td>0</td><td>0</td><td>0</td><td>0</td><td>0</td><td>⋯</td><td>0</td><td>0</td><td>0</td><td>0</td><td>0</td><td>0</td><td>9.808613e-01</td><td>2.461123e+00</td><td>3.378060e+00</td><td>2.398877e-02</td></tr>\n",
       "\t<tr><th scope=row>ZNF680</th><td>0</td><td>0</td><td>0</td><td>0</td><td>0</td><td>0</td><td>0</td><td>0</td><td>0</td><td>0</td><td>⋯</td><td>0</td><td>0</td><td>0</td><td>0</td><td>0</td><td>0</td><td>1.240223e+00</td><td>1.844686e+00</td><td>5.541916e+00</td><td>4.475087e-01</td></tr>\n",
       "\t<tr><th scope=row>TLNRD1</th><td>0</td><td>0</td><td>0</td><td>0</td><td>0</td><td>0</td><td>0</td><td>0</td><td>0</td><td>0</td><td>⋯</td><td>0</td><td>0</td><td>0</td><td>0</td><td>0</td><td>0</td><td>2.288392e+00</td><td>7.820251e-02</td><td>2.752407e+00</td><td>1.398009e+00</td></tr>\n",
       "\t<tr><th scope=row>LZTS3</th><td>0</td><td>0</td><td>0</td><td>0</td><td>0</td><td>0</td><td>0</td><td>0</td><td>0</td><td>0</td><td>⋯</td><td>0</td><td>0</td><td>0</td><td>0</td><td>0</td><td>0</td><td>6.419175e-02</td><td>2.220446e-16</td><td>4.824882e+00</td><td>1.681884e+00</td></tr>\n",
       "</tbody>\n",
       "</table>\n"
      ],
      "text/latex": [
       "A matrix: 7720 × 56 of type dbl\n",
       "\\begin{tabular}{r|lllllllllllllllllllll}\n",
       "  & EBUS\\_10\\_1 & EBUS\\_10\\_2 & EBUS\\_10\\_3 & EBUS\\_10\\_4 & BRONCHO\\_11\\_1 & BRONCHO\\_11\\_2 & BRONCHO\\_11\\_3 & BRONCHO\\_11\\_4 & EBUS\\_12\\_1 & EBUS\\_12\\_2 & ⋯ & S5\\_3 & S5\\_4 & S6\\_1 & S6\\_2 & S6\\_3 & S6\\_4 & S7\\_1 & S7\\_2 & S7\\_3 & S7\\_4\\\\\n",
       "\\hline\n",
       "\tAAED1 & 7.339783e-01 & 4.606327e+00 & 1.546282e+00 & 2.220446e-16 & 0.000000e+00 & 0.0000000 & 0.000000e+00 &  0.000000 & 0.000000e+00 &  0.00000000 & ⋯ & 0.000000e+00 & 0.000000e+00 &  0.000000 & 0.000000e+00 &  0.000000 &  0.000000 & 0.000000e+00 & 0.000000e+00 & 0.000000 & 0.000000e+00\\\\\n",
       "\tAAMDC & 1.492285e+00 & 2.608171e+00 & 3.014766e+00 & 2.220446e-16 & 1.440888e+00 & 0.8860674 & 8.347579e-01 &  4.391664 & 2.220446e-16 &  1.37970556 & ⋯ & 0.000000e+00 & 0.000000e+00 &  1.229022 & 1.348510e-05 &  6.612420 &  2.388196 & 0.000000e+00 & 0.000000e+00 & 0.000000 & 0.000000e+00\\\\\n",
       "\tAAMP & 1.386188e+00 & 4.667683e+00 & 4.213414e+00 & 1.420516e+00 & 0.000000e+00 & 0.0000000 & 0.000000e+00 &  0.000000 & 0.000000e+00 &  0.00000000 & ⋯ & 0.000000e+00 & 0.000000e+00 &  1.567524 & 1.506574e+00 &  3.019342 &  1.337657 & 1.510157e+00 & 1.202885e+00 & 1.534895 & 4.967792e+00\\\\\n",
       "\tABCC3 & 2.220446e-16 & 1.878950e+00 & 6.707795e-02 & 7.368991e+00 & 2.220446e-16 & 1.0449622 & 1.486866e+00 &  6.226681 & 6.219859e+00 &  0.50770436 & ⋯ & 0.000000e+00 & 0.000000e+00 &  0.000000 & 0.000000e+00 &  0.000000 &  0.000000 & 0.000000e+00 & 0.000000e+00 & 0.000000 & 0.000000e+00\\\\\n",
       "\tABCE1 & 6.007611e-01 & 4.064098e+00 & 4.974158e-01 & 1.807560e+00 & 0.000000e+00 & 0.0000000 & 0.000000e+00 &  0.000000 & 0.000000e+00 &  0.00000000 & ⋯ & 0.000000e+00 & 0.000000e+00 &  0.000000 & 0.000000e+00 &  0.000000 &  0.000000 & 1.387698e+00 & 2.825842e+00 & 2.428195 & 2.978213e+00\\\\\n",
       "\tABCF1 & 5.919799e-01 & 3.363336e+00 & 1.385398e+00 & 3.289564e+00 & 2.220446e-16 & 0.6292176 & 1.015103e+00 &  4.252920 & 2.972818e+00 &  0.85094634 & ⋯ & 2.976294e+00 & 2.220446e-16 &  1.999225 & 5.805024e+00 &  2.688312 &  2.478640 & 2.498994e+00 & 1.729724e+00 & 3.140832 & 3.612779e+00\\\\\n",
       "\tABHD11 & 1.061699e+00 & 3.267222e+00 & 9.069694e-01 & 1.908692e+00 & 0.000000e+00 & 0.0000000 & 0.000000e+00 &  0.000000 & 5.266658e+00 &  0.37281817 & ⋯ & 2.220446e-16 & 2.220446e-16 &  0.000000 & 0.000000e+00 &  0.000000 &  0.000000 & 2.220446e-16 & 2.185722e+00 & 2.303143 & 2.378721e+00\\\\\n",
       "\tABHD11-AS1 & 1.007070e+00 & 2.220446e-16 & 2.005243e+00 & 5.673126e+00 & 0.000000e+00 & 0.0000000 & 0.000000e+00 &  0.000000 & 0.000000e+00 &  0.00000000 & ⋯ & 0.000000e+00 & 0.000000e+00 &  0.000000 & 0.000000e+00 &  0.000000 &  0.000000 & 0.000000e+00 & 0.000000e+00 & 0.000000 & 0.000000e+00\\\\\n",
       "\tABHD14B & 8.513836e-01 & 6.294992e+00 & 2.677681e+00 & 2.220446e-16 & 0.000000e+00 & 0.0000000 & 0.000000e+00 &  0.000000 & 0.000000e+00 &  0.00000000 & ⋯ & 0.000000e+00 & 0.000000e+00 &  0.000000 & 0.000000e+00 &  0.000000 &  0.000000 & 0.000000e+00 & 0.000000e+00 & 0.000000 & 0.000000e+00\\\\\n",
       "\tABI2 & 1.618231e+00 & 2.220995e+00 & 4.271379e-01 & 6.131393e+00 & 0.000000e+00 & 0.0000000 & 0.000000e+00 &  0.000000 & 0.000000e+00 &  0.00000000 & ⋯ & 3.325150e+00 & 3.800918e+00 &  1.278839 & 8.836548e+00 &  1.604843 &  4.337325 & 1.221410e+00 & 3.076318e+00 & 5.815275 & 3.247591e-01\\\\\n",
       "\tABL2 & 6.539214e-01 & 1.483066e+00 & 2.220446e-16 & 7.222705e+00 & 0.000000e+00 & 0.0000000 & 0.000000e+00 &  0.000000 & 4.218759e+00 &  2.72959890 & ⋯ & 0.000000e+00 & 0.000000e+00 &  0.000000 & 0.000000e+00 &  0.000000 &  0.000000 & 0.000000e+00 & 0.000000e+00 & 0.000000 & 0.000000e+00\\\\\n",
       "\tABRACL & 1.765297e+00 & 3.742443e+00 & 4.020865e+00 & 3.833974e-01 & 4.576129e+00 & 1.0729401 & 2.641958e+00 &  2.955435 & 1.967084e+00 &  2.01247201 & ⋯ & 2.220446e-16 & 2.651753e+00 &  1.014517 & 3.342157e+00 &  9.389479 &  3.349042 & 3.726625e+00 & 1.521608e+00 & 6.189068 & 3.640358e+00\\\\\n",
       "\tABT1 & 7.430007e-01 & 3.708751e+00 & 1.817455e+00 & 3.029145e+00 & 0.000000e+00 & 0.0000000 & 0.000000e+00 &  0.000000 & 0.000000e+00 &  0.00000000 & ⋯ & 8.199078e-01 & 1.371143e+00 &  0.000000 & 0.000000e+00 &  0.000000 &  0.000000 & 1.498624e+00 & 1.210001e+00 & 2.883081 & 2.539586e+00\\\\\n",
       "\tAC007405.6 & 1.500577e+00 & 1.041196e+00 & 1.780854e+00 & 2.482300e+00 & 0.000000e+00 & 0.0000000 & 0.000000e+00 &  0.000000 & 0.000000e+00 &  0.00000000 & ⋯ & 0.000000e+00 & 0.000000e+00 &  0.000000 & 0.000000e+00 &  0.000000 &  0.000000 & 0.000000e+00 & 0.000000e+00 & 0.000000 & 0.000000e+00\\\\\n",
       "\tAC013264.2 & 3.323078e+00 & 2.220446e-16 & 2.220446e-16 & 2.220446e-16 & 0.000000e+00 & 0.0000000 & 0.000000e+00 &  0.000000 & 0.000000e+00 &  0.00000000 & ⋯ & 0.000000e+00 & 0.000000e+00 &  0.000000 & 0.000000e+00 &  0.000000 &  0.000000 & 0.000000e+00 & 0.000000e+00 & 0.000000 & 0.000000e+00\\\\\n",
       "\tAC090498.1 & 1.062188e+00 & 4.608651e+00 & 2.035629e+00 & 1.510245e+00 & 6.715865e+00 & 1.8017194 & 5.488149e+00 &  2.933589 & 1.708038e+00 &  2.27510958 & ⋯ & 0.000000e+00 & 0.000000e+00 &  0.000000 & 0.000000e+00 &  0.000000 &  0.000000 & 0.000000e+00 & 0.000000e+00 & 0.000000 & 0.000000e+00\\\\\n",
       "\tACADVL & 2.106200e+00 & 1.375996e+00 & 1.675735e+00 & 2.236987e+00 & 4.926307e-01 & 1.2313608 & 5.648705e+00 &  6.862718 & 6.170435e+00 &  3.08733409 & ⋯ & 0.000000e+00 & 0.000000e+00 &  0.000000 & 0.000000e+00 &  0.000000 &  0.000000 & 2.121191e+00 & 1.406588e+00 & 3.209950 & 1.995655e+00\\\\\n",
       "\tACAT2 & 6.776135e-01 & 3.750879e+00 & 2.669977e+00 & 2.220446e-16 & 0.000000e+00 & 0.0000000 & 0.000000e+00 &  0.000000 & 2.379565e-06 &  0.06762149 & ⋯ & 2.220446e-16 & 9.477859e-01 &  2.451075 & 4.040302e+00 &  6.955149 &  1.483150 & 3.286869e+00 & 2.220446e-16 & 6.113704 & 3.034889e+00\\\\\n",
       "\tACBD3 & 2.666899e-01 & 4.073471e+00 & 1.028470e+00 & 1.921827e+00 & 7.530712e-01 & 0.2553041 & 7.937012e-01 &  6.935952 & 0.000000e+00 &  0.00000000 & ⋯ & 0.000000e+00 & 0.000000e+00 &  1.727946 & 3.301831e+00 &  1.225655 &  1.685934 & 0.000000e+00 & 0.000000e+00 & 0.000000 & 0.000000e+00\\\\\n",
       "\tACIN1 & 9.060506e-01 & 5.999574e-01 & 2.220446e-16 & 4.388567e+00 & 4.628737e-01 & 0.8574772 & 1.116372e+00 &  4.632124 & 4.051624e+00 &  1.37035112 & ⋯ & 3.764986e+00 & 2.220446e-16 &  1.691977 & 4.068413e+00 &  1.149689 &  2.494058 & 0.000000e+00 & 0.000000e+00 & 0.000000 & 0.000000e+00\\\\\n",
       "\tACLY & 4.551756e-01 & 3.446275e+00 & 2.220446e-16 & 2.950920e+00 & 0.000000e+00 & 0.0000000 & 0.000000e+00 &  0.000000 & 0.000000e+00 &  0.00000000 & ⋯ & 0.000000e+00 & 0.000000e+00 &  0.000000 & 0.000000e+00 &  0.000000 &  0.000000 & 1.616163e+00 & 7.164991e-01 & 5.614683 & 3.427392e+00\\\\\n",
       "\tACOT13 & 5.213061e-01 & 7.287759e+00 & 5.136168e+00 & 2.220446e-16 & 5.108799e+00 & 0.2254459 & 2.811639e+00 &  1.062540 & 7.118446e-01 &  0.63737934 & ⋯ & 0.000000e+00 & 0.000000e+00 &  0.000000 & 0.000000e+00 &  0.000000 &  0.000000 & 0.000000e+00 & 0.000000e+00 & 0.000000 & 0.000000e+00\\\\\n",
       "\tACP1 & 1.610517e+00 & 1.284307e+01 & 4.117829e+00 & 5.255347e-11 & 9.350851e+00 & 1.9448434 & 5.760758e+00 &  0.735353 & 1.799391e+00 &  1.53347474 & ⋯ & 2.220446e-16 & 1.960483e+00 &  3.716292 & 2.560002e+00 &  7.246371 &  1.886780 & 3.852294e+00 & 2.449647e+00 & 1.739516 & 9.636075e+00\\\\\n",
       "\tACSL1 & 2.679764e-01 & 2.586423e-01 & 6.997563e-01 & 5.782690e+00 & 0.000000e+00 & 0.0000000 & 0.000000e+00 &  0.000000 & 0.000000e+00 &  0.00000000 & ⋯ & 0.000000e+00 & 0.000000e+00 &  0.000000 & 0.000000e+00 &  0.000000 &  0.000000 & 0.000000e+00 & 0.000000e+00 & 0.000000 & 0.000000e+00\\\\\n",
       "\tACTA2 & 1.331311e+00 & 9.572238e-01 & 4.189388e-01 & 3.159204e-05 & 0.000000e+00 & 0.0000000 & 0.000000e+00 &  0.000000 & 2.220446e-16 &  3.25892041 & ⋯ & 0.000000e+00 & 0.000000e+00 &  0.000000 & 0.000000e+00 &  0.000000 &  0.000000 & 0.000000e+00 & 0.000000e+00 & 0.000000 & 0.000000e+00\\\\\n",
       "\tACTB & 9.346802e+00 & 1.788763e+01 & 2.505556e+01 & 1.378125e+01 & 3.435937e+01 & 9.0494755 & 2.526713e+01 &  4.780250 & 1.656510e+01 & 14.43704231 & ⋯ & 8.320433e+00 & 1.065809e+01 & 14.728720 & 1.461129e+01 & 28.760414 & 10.280888 & 1.818325e+01 & 1.759873e+01 & 7.053053 & 3.410409e+01\\\\\n",
       "\tACTG1 & 8.620499e+00 & 1.212309e+01 & 2.619417e+01 & 1.532453e+01 & 2.762715e+01 & 7.9499365 & 1.804166e+01 &  6.258662 & 7.093575e+00 & 12.39489615 & ⋯ & 2.220446e-16 & 6.277701e+00 & 17.645116 & 1.563436e+01 & 26.457416 &  9.643851 & 1.506511e+01 & 2.008454e+01 & 8.583645 & 2.633345e+01\\\\\n",
       "\tACTN1 & 3.076517e+00 & 1.627759e+00 & 2.877735e-01 & 1.551874e-01 & 1.665822e+00 & 2.7891570 & 2.220446e-16 &  3.263743 & 5.665920e+00 &  6.00225141 & ⋯ & 2.785839e+00 & 2.220446e-16 &  0.000000 & 0.000000e+00 &  0.000000 &  0.000000 & 2.112973e+00 & 2.472238e+00 & 6.215442 & 1.358761e+00\\\\\n",
       "\tACTN4 & 2.547145e+00 & 2.837181e+00 & 1.351001e-01 & 2.892093e+00 & 2.220446e-16 & 0.5733190 & 5.691770e+00 & 15.450544 & 8.534691e+00 &  1.64895333 & ⋯ & 5.668798e+00 & 1.913199e+00 &  2.235751 & 7.399596e+00 &  3.195633 &  3.365036 & 1.465073e+00 & 2.893969e+00 & 9.637986 & 2.220446e-16\\\\\n",
       "\tACTR10 & 1.796106e+00 & 3.128743e+00 & 2.141793e+00 & 6.040401e-01 & 0.000000e+00 & 0.0000000 & 0.000000e+00 &  0.000000 & 3.129847e+00 &  1.72401671 & ⋯ & 2.362091e+00 & 2.220446e-16 &  1.798488 & 1.852290e+00 &  5.156380 &  1.725514 & 1.945057e+00 & 1.076685e+00 & 1.054125 & 5.583255e+00\\\\\n",
       "\t⋮ & ⋮ & ⋮ & ⋮ & ⋮ & ⋮ & ⋮ & ⋮ & ⋮ & ⋮ & ⋮ & ⋱ & ⋮ & ⋮ & ⋮ & ⋮ & ⋮ & ⋮ & ⋮ & ⋮ & ⋮ & ⋮\\\\\n",
       "\tSEL1L & 0 & 0 & 0 & 0 & 0 & 0 & 0 & 0 & 0 & 0 & ⋯ & 0 & 0 & 0 & 0 & 0 & 0 & 7.286641e-01 & 2.348589e+00 & 3.564673e+00 & 2.220446e-16\\\\\n",
       "\tSERPINI1 & 0 & 0 & 0 & 0 & 0 & 0 & 0 & 0 & 0 & 0 & ⋯ & 0 & 0 & 0 & 0 & 0 & 0 & 2.220446e-16 & 2.220446e-16 & 3.887271e+00 & 1.189896e+00\\\\\n",
       "\tSERTAD3 & 0 & 0 & 0 & 0 & 0 & 0 & 0 & 0 & 0 & 0 & ⋯ & 0 & 0 & 0 & 0 & 0 & 0 & 4.497751e-01 & 1.760130e+00 & 3.374233e+00 & 1.746197e+00\\\\\n",
       "\tSHISA2 & 0 & 0 & 0 & 0 & 0 & 0 & 0 & 0 & 0 & 0 & ⋯ & 0 & 0 & 0 & 0 & 0 & 0 & 1.918808e-01 & 5.120346e+00 & 2.220446e-16 & 3.137854e-01\\\\\n",
       "\tSHISA8 & 0 & 0 & 0 & 0 & 0 & 0 & 0 & 0 & 0 & 0 & ⋯ & 0 & 0 & 0 & 0 & 0 & 0 & 2.220446e-16 & 1.513085e+00 & 1.414020e+00 & 2.313509e+00\\\\\n",
       "\tSLC25A13 & 0 & 0 & 0 & 0 & 0 & 0 & 0 & 0 & 0 & 0 & ⋯ & 0 & 0 & 0 & 0 & 0 & 0 & 7.371242e-01 & 1.490659e+00 & 1.091123e+00 & 3.591056e+00\\\\\n",
       "\tSLC29A1 & 0 & 0 & 0 & 0 & 0 & 0 & 0 & 0 & 0 & 0 & ⋯ & 0 & 0 & 0 & 0 & 0 & 0 & 2.220446e-16 & 3.931357e+00 & 3.367544e+00 & 3.607028e+00\\\\\n",
       "\tSLC29A4 & 0 & 0 & 0 & 0 & 0 & 0 & 0 & 0 & 0 & 0 & ⋯ & 0 & 0 & 0 & 0 & 0 & 0 & 2.220446e-16 & 1.091930e+00 & 3.354347e+00 & 2.705444e+00\\\\\n",
       "\tSNX14 & 0 & 0 & 0 & 0 & 0 & 0 & 0 & 0 & 0 & 0 & ⋯ & 0 & 0 & 0 & 0 & 0 & 0 & 2.220446e-16 & 1.611898e+00 & 5.783637e+00 & 5.652319e-01\\\\\n",
       "\tST8SIA6-AS1 & 0 & 0 & 0 & 0 & 0 & 0 & 0 & 0 & 0 & 0 & ⋯ & 0 & 0 & 0 & 0 & 0 & 0 & 1.197837e+00 & 1.238568e+00 & 4.198247e+00 & 1.545091e+00\\\\\n",
       "\tSYNJ2 & 0 & 0 & 0 & 0 & 0 & 0 & 0 & 0 & 0 & 0 & ⋯ & 0 & 0 & 0 & 0 & 0 & 0 & 1.596377e-01 & 3.925967e+00 & 4.138229e+00 & 1.910150e+00\\\\\n",
       "\tTAB2 & 0 & 0 & 0 & 0 & 0 & 0 & 0 & 0 & 0 & 0 & ⋯ & 0 & 0 & 0 & 0 & 0 & 0 & 6.453118e-01 & 1.855049e+00 & 4.536204e+00 & 2.220446e-16\\\\\n",
       "\tTBC1D7 & 0 & 0 & 0 & 0 & 0 & 0 & 0 & 0 & 0 & 0 & ⋯ & 0 & 0 & 0 & 0 & 0 & 0 & 8.382338e-01 & 1.659359e-01 & 9.678074e-01 & 5.268730e+00\\\\\n",
       "\tTMEM171 & 0 & 0 & 0 & 0 & 0 & 0 & 0 & 0 & 0 & 0 & ⋯ & 0 & 0 & 0 & 0 & 0 & 0 & 2.220446e-16 & 1.383421e+00 & 3.753945e-01 & 2.753461e+00\\\\\n",
       "\tTNS3 & 0 & 0 & 0 & 0 & 0 & 0 & 0 & 0 & 0 & 0 & ⋯ & 0 & 0 & 0 & 0 & 0 & 0 & 2.220446e-16 & 2.220446e-16 & 7.693826e+00 & 1.012639e+00\\\\\n",
       "\tTPRN & 0 & 0 & 0 & 0 & 0 & 0 & 0 & 0 & 0 & 0 & ⋯ & 0 & 0 & 0 & 0 & 0 & 0 & 1.230537e+00 & 1.595091e+00 & 3.511171e+00 & 2.220446e-16\\\\\n",
       "\tTRIP13 & 0 & 0 & 0 & 0 & 0 & 0 & 0 & 0 & 0 & 0 & ⋯ & 0 & 0 & 0 & 0 & 0 & 0 & 9.733099e+00 & 2.220446e-16 & 1.058387e+00 & 2.220446e-16\\\\\n",
       "\tTTC33 & 0 & 0 & 0 & 0 & 0 & 0 & 0 & 0 & 0 & 0 & ⋯ & 0 & 0 & 0 & 0 & 0 & 0 & 1.558992e-01 & 7.697901e-01 & 1.646108e+00 & 2.519723e+00\\\\\n",
       "\tTTC39A & 0 & 0 & 0 & 0 & 0 & 0 & 0 & 0 & 0 & 0 & ⋯ & 0 & 0 & 0 & 0 & 0 & 0 & 7.510127e-01 & 9.538415e-01 & 2.675905e-01 & 5.176620e+00\\\\\n",
       "\tUCHL5 & 0 & 0 & 0 & 0 & 0 & 0 & 0 & 0 & 0 & 0 & ⋯ & 0 & 0 & 0 & 0 & 0 & 0 & 2.464608e+00 & 5.327125e-01 & 3.147886e-01 & 3.651015e+00\\\\\n",
       "\tUCKL1 & 0 & 0 & 0 & 0 & 0 & 0 & 0 & 0 & 0 & 0 & ⋯ & 0 & 0 & 0 & 0 & 0 & 0 & 2.323086e+00 & 1.262456e+00 & 2.220446e-16 & 2.564322e+00\\\\\n",
       "\tUGT8 & 0 & 0 & 0 & 0 & 0 & 0 & 0 & 0 & 0 & 0 & ⋯ & 0 & 0 & 0 & 0 & 0 & 0 & 1.142930e+00 & 2.220446e-16 & 7.410753e+00 & 2.220446e-16\\\\\n",
       "\tUMPS & 0 & 0 & 0 & 0 & 0 & 0 & 0 & 0 & 0 & 0 & ⋯ & 0 & 0 & 0 & 0 & 0 & 0 & 8.687523e-01 & 1.207247e-02 & 2.533437e+00 & 2.555465e+00\\\\\n",
       "\tVTA1 & 0 & 0 & 0 & 0 & 0 & 0 & 0 & 0 & 0 & 0 & ⋯ & 0 & 0 & 0 & 0 & 0 & 0 & 1.746794e+00 & 3.606841e+00 & 1.918425e+00 & 2.419738e+00\\\\\n",
       "\tVWA5B2 & 0 & 0 & 0 & 0 & 0 & 0 & 0 & 0 & 0 & 0 & ⋯ & 0 & 0 & 0 & 0 & 0 & 0 & 2.220446e-16 & 4.249017e-01 & 3.807502e+00 & 1.335049e+00\\\\\n",
       "\tWDR72 & 0 & 0 & 0 & 0 & 0 & 0 & 0 & 0 & 0 & 0 & ⋯ & 0 & 0 & 0 & 0 & 0 & 0 & 2.479810e+00 & 1.612008e+00 & 1.909604e+00 & 1.822443e+00\\\\\n",
       "\tZMIZ2 & 0 & 0 & 0 & 0 & 0 & 0 & 0 & 0 & 0 & 0 & ⋯ & 0 & 0 & 0 & 0 & 0 & 0 & 9.808613e-01 & 2.461123e+00 & 3.378060e+00 & 2.398877e-02\\\\\n",
       "\tZNF680 & 0 & 0 & 0 & 0 & 0 & 0 & 0 & 0 & 0 & 0 & ⋯ & 0 & 0 & 0 & 0 & 0 & 0 & 1.240223e+00 & 1.844686e+00 & 5.541916e+00 & 4.475087e-01\\\\\n",
       "\tTLNRD1 & 0 & 0 & 0 & 0 & 0 & 0 & 0 & 0 & 0 & 0 & ⋯ & 0 & 0 & 0 & 0 & 0 & 0 & 2.288392e+00 & 7.820251e-02 & 2.752407e+00 & 1.398009e+00\\\\\n",
       "\tLZTS3 & 0 & 0 & 0 & 0 & 0 & 0 & 0 & 0 & 0 & 0 & ⋯ & 0 & 0 & 0 & 0 & 0 & 0 & 6.419175e-02 & 2.220446e-16 & 4.824882e+00 & 1.681884e+00\\\\\n",
       "\\end{tabular}\n"
      ],
      "text/markdown": [
       "\n",
       "A matrix: 7720 × 56 of type dbl\n",
       "\n",
       "| <!--/--> | EBUS_10_1 | EBUS_10_2 | EBUS_10_3 | EBUS_10_4 | BRONCHO_11_1 | BRONCHO_11_2 | BRONCHO_11_3 | BRONCHO_11_4 | EBUS_12_1 | EBUS_12_2 | ⋯ | S5_3 | S5_4 | S6_1 | S6_2 | S6_3 | S6_4 | S7_1 | S7_2 | S7_3 | S7_4 |\n",
       "|---|---|---|---|---|---|---|---|---|---|---|---|---|---|---|---|---|---|---|---|---|---|\n",
       "| AAED1 | 7.339783e-01 | 4.606327e+00 | 1.546282e+00 | 2.220446e-16 | 0.000000e+00 | 0.0000000 | 0.000000e+00 |  0.000000 | 0.000000e+00 |  0.00000000 | ⋯ | 0.000000e+00 | 0.000000e+00 |  0.000000 | 0.000000e+00 |  0.000000 |  0.000000 | 0.000000e+00 | 0.000000e+00 | 0.000000 | 0.000000e+00 |\n",
       "| AAMDC | 1.492285e+00 | 2.608171e+00 | 3.014766e+00 | 2.220446e-16 | 1.440888e+00 | 0.8860674 | 8.347579e-01 |  4.391664 | 2.220446e-16 |  1.37970556 | ⋯ | 0.000000e+00 | 0.000000e+00 |  1.229022 | 1.348510e-05 |  6.612420 |  2.388196 | 0.000000e+00 | 0.000000e+00 | 0.000000 | 0.000000e+00 |\n",
       "| AAMP | 1.386188e+00 | 4.667683e+00 | 4.213414e+00 | 1.420516e+00 | 0.000000e+00 | 0.0000000 | 0.000000e+00 |  0.000000 | 0.000000e+00 |  0.00000000 | ⋯ | 0.000000e+00 | 0.000000e+00 |  1.567524 | 1.506574e+00 |  3.019342 |  1.337657 | 1.510157e+00 | 1.202885e+00 | 1.534895 | 4.967792e+00 |\n",
       "| ABCC3 | 2.220446e-16 | 1.878950e+00 | 6.707795e-02 | 7.368991e+00 | 2.220446e-16 | 1.0449622 | 1.486866e+00 |  6.226681 | 6.219859e+00 |  0.50770436 | ⋯ | 0.000000e+00 | 0.000000e+00 |  0.000000 | 0.000000e+00 |  0.000000 |  0.000000 | 0.000000e+00 | 0.000000e+00 | 0.000000 | 0.000000e+00 |\n",
       "| ABCE1 | 6.007611e-01 | 4.064098e+00 | 4.974158e-01 | 1.807560e+00 | 0.000000e+00 | 0.0000000 | 0.000000e+00 |  0.000000 | 0.000000e+00 |  0.00000000 | ⋯ | 0.000000e+00 | 0.000000e+00 |  0.000000 | 0.000000e+00 |  0.000000 |  0.000000 | 1.387698e+00 | 2.825842e+00 | 2.428195 | 2.978213e+00 |\n",
       "| ABCF1 | 5.919799e-01 | 3.363336e+00 | 1.385398e+00 | 3.289564e+00 | 2.220446e-16 | 0.6292176 | 1.015103e+00 |  4.252920 | 2.972818e+00 |  0.85094634 | ⋯ | 2.976294e+00 | 2.220446e-16 |  1.999225 | 5.805024e+00 |  2.688312 |  2.478640 | 2.498994e+00 | 1.729724e+00 | 3.140832 | 3.612779e+00 |\n",
       "| ABHD11 | 1.061699e+00 | 3.267222e+00 | 9.069694e-01 | 1.908692e+00 | 0.000000e+00 | 0.0000000 | 0.000000e+00 |  0.000000 | 5.266658e+00 |  0.37281817 | ⋯ | 2.220446e-16 | 2.220446e-16 |  0.000000 | 0.000000e+00 |  0.000000 |  0.000000 | 2.220446e-16 | 2.185722e+00 | 2.303143 | 2.378721e+00 |\n",
       "| ABHD11-AS1 | 1.007070e+00 | 2.220446e-16 | 2.005243e+00 | 5.673126e+00 | 0.000000e+00 | 0.0000000 | 0.000000e+00 |  0.000000 | 0.000000e+00 |  0.00000000 | ⋯ | 0.000000e+00 | 0.000000e+00 |  0.000000 | 0.000000e+00 |  0.000000 |  0.000000 | 0.000000e+00 | 0.000000e+00 | 0.000000 | 0.000000e+00 |\n",
       "| ABHD14B | 8.513836e-01 | 6.294992e+00 | 2.677681e+00 | 2.220446e-16 | 0.000000e+00 | 0.0000000 | 0.000000e+00 |  0.000000 | 0.000000e+00 |  0.00000000 | ⋯ | 0.000000e+00 | 0.000000e+00 |  0.000000 | 0.000000e+00 |  0.000000 |  0.000000 | 0.000000e+00 | 0.000000e+00 | 0.000000 | 0.000000e+00 |\n",
       "| ABI2 | 1.618231e+00 | 2.220995e+00 | 4.271379e-01 | 6.131393e+00 | 0.000000e+00 | 0.0000000 | 0.000000e+00 |  0.000000 | 0.000000e+00 |  0.00000000 | ⋯ | 3.325150e+00 | 3.800918e+00 |  1.278839 | 8.836548e+00 |  1.604843 |  4.337325 | 1.221410e+00 | 3.076318e+00 | 5.815275 | 3.247591e-01 |\n",
       "| ABL2 | 6.539214e-01 | 1.483066e+00 | 2.220446e-16 | 7.222705e+00 | 0.000000e+00 | 0.0000000 | 0.000000e+00 |  0.000000 | 4.218759e+00 |  2.72959890 | ⋯ | 0.000000e+00 | 0.000000e+00 |  0.000000 | 0.000000e+00 |  0.000000 |  0.000000 | 0.000000e+00 | 0.000000e+00 | 0.000000 | 0.000000e+00 |\n",
       "| ABRACL | 1.765297e+00 | 3.742443e+00 | 4.020865e+00 | 3.833974e-01 | 4.576129e+00 | 1.0729401 | 2.641958e+00 |  2.955435 | 1.967084e+00 |  2.01247201 | ⋯ | 2.220446e-16 | 2.651753e+00 |  1.014517 | 3.342157e+00 |  9.389479 |  3.349042 | 3.726625e+00 | 1.521608e+00 | 6.189068 | 3.640358e+00 |\n",
       "| ABT1 | 7.430007e-01 | 3.708751e+00 | 1.817455e+00 | 3.029145e+00 | 0.000000e+00 | 0.0000000 | 0.000000e+00 |  0.000000 | 0.000000e+00 |  0.00000000 | ⋯ | 8.199078e-01 | 1.371143e+00 |  0.000000 | 0.000000e+00 |  0.000000 |  0.000000 | 1.498624e+00 | 1.210001e+00 | 2.883081 | 2.539586e+00 |\n",
       "| AC007405.6 | 1.500577e+00 | 1.041196e+00 | 1.780854e+00 | 2.482300e+00 | 0.000000e+00 | 0.0000000 | 0.000000e+00 |  0.000000 | 0.000000e+00 |  0.00000000 | ⋯ | 0.000000e+00 | 0.000000e+00 |  0.000000 | 0.000000e+00 |  0.000000 |  0.000000 | 0.000000e+00 | 0.000000e+00 | 0.000000 | 0.000000e+00 |\n",
       "| AC013264.2 | 3.323078e+00 | 2.220446e-16 | 2.220446e-16 | 2.220446e-16 | 0.000000e+00 | 0.0000000 | 0.000000e+00 |  0.000000 | 0.000000e+00 |  0.00000000 | ⋯ | 0.000000e+00 | 0.000000e+00 |  0.000000 | 0.000000e+00 |  0.000000 |  0.000000 | 0.000000e+00 | 0.000000e+00 | 0.000000 | 0.000000e+00 |\n",
       "| AC090498.1 | 1.062188e+00 | 4.608651e+00 | 2.035629e+00 | 1.510245e+00 | 6.715865e+00 | 1.8017194 | 5.488149e+00 |  2.933589 | 1.708038e+00 |  2.27510958 | ⋯ | 0.000000e+00 | 0.000000e+00 |  0.000000 | 0.000000e+00 |  0.000000 |  0.000000 | 0.000000e+00 | 0.000000e+00 | 0.000000 | 0.000000e+00 |\n",
       "| ACADVL | 2.106200e+00 | 1.375996e+00 | 1.675735e+00 | 2.236987e+00 | 4.926307e-01 | 1.2313608 | 5.648705e+00 |  6.862718 | 6.170435e+00 |  3.08733409 | ⋯ | 0.000000e+00 | 0.000000e+00 |  0.000000 | 0.000000e+00 |  0.000000 |  0.000000 | 2.121191e+00 | 1.406588e+00 | 3.209950 | 1.995655e+00 |\n",
       "| ACAT2 | 6.776135e-01 | 3.750879e+00 | 2.669977e+00 | 2.220446e-16 | 0.000000e+00 | 0.0000000 | 0.000000e+00 |  0.000000 | 2.379565e-06 |  0.06762149 | ⋯ | 2.220446e-16 | 9.477859e-01 |  2.451075 | 4.040302e+00 |  6.955149 |  1.483150 | 3.286869e+00 | 2.220446e-16 | 6.113704 | 3.034889e+00 |\n",
       "| ACBD3 | 2.666899e-01 | 4.073471e+00 | 1.028470e+00 | 1.921827e+00 | 7.530712e-01 | 0.2553041 | 7.937012e-01 |  6.935952 | 0.000000e+00 |  0.00000000 | ⋯ | 0.000000e+00 | 0.000000e+00 |  1.727946 | 3.301831e+00 |  1.225655 |  1.685934 | 0.000000e+00 | 0.000000e+00 | 0.000000 | 0.000000e+00 |\n",
       "| ACIN1 | 9.060506e-01 | 5.999574e-01 | 2.220446e-16 | 4.388567e+00 | 4.628737e-01 | 0.8574772 | 1.116372e+00 |  4.632124 | 4.051624e+00 |  1.37035112 | ⋯ | 3.764986e+00 | 2.220446e-16 |  1.691977 | 4.068413e+00 |  1.149689 |  2.494058 | 0.000000e+00 | 0.000000e+00 | 0.000000 | 0.000000e+00 |\n",
       "| ACLY | 4.551756e-01 | 3.446275e+00 | 2.220446e-16 | 2.950920e+00 | 0.000000e+00 | 0.0000000 | 0.000000e+00 |  0.000000 | 0.000000e+00 |  0.00000000 | ⋯ | 0.000000e+00 | 0.000000e+00 |  0.000000 | 0.000000e+00 |  0.000000 |  0.000000 | 1.616163e+00 | 7.164991e-01 | 5.614683 | 3.427392e+00 |\n",
       "| ACOT13 | 5.213061e-01 | 7.287759e+00 | 5.136168e+00 | 2.220446e-16 | 5.108799e+00 | 0.2254459 | 2.811639e+00 |  1.062540 | 7.118446e-01 |  0.63737934 | ⋯ | 0.000000e+00 | 0.000000e+00 |  0.000000 | 0.000000e+00 |  0.000000 |  0.000000 | 0.000000e+00 | 0.000000e+00 | 0.000000 | 0.000000e+00 |\n",
       "| ACP1 | 1.610517e+00 | 1.284307e+01 | 4.117829e+00 | 5.255347e-11 | 9.350851e+00 | 1.9448434 | 5.760758e+00 |  0.735353 | 1.799391e+00 |  1.53347474 | ⋯ | 2.220446e-16 | 1.960483e+00 |  3.716292 | 2.560002e+00 |  7.246371 |  1.886780 | 3.852294e+00 | 2.449647e+00 | 1.739516 | 9.636075e+00 |\n",
       "| ACSL1 | 2.679764e-01 | 2.586423e-01 | 6.997563e-01 | 5.782690e+00 | 0.000000e+00 | 0.0000000 | 0.000000e+00 |  0.000000 | 0.000000e+00 |  0.00000000 | ⋯ | 0.000000e+00 | 0.000000e+00 |  0.000000 | 0.000000e+00 |  0.000000 |  0.000000 | 0.000000e+00 | 0.000000e+00 | 0.000000 | 0.000000e+00 |\n",
       "| ACTA2 | 1.331311e+00 | 9.572238e-01 | 4.189388e-01 | 3.159204e-05 | 0.000000e+00 | 0.0000000 | 0.000000e+00 |  0.000000 | 2.220446e-16 |  3.25892041 | ⋯ | 0.000000e+00 | 0.000000e+00 |  0.000000 | 0.000000e+00 |  0.000000 |  0.000000 | 0.000000e+00 | 0.000000e+00 | 0.000000 | 0.000000e+00 |\n",
       "| ACTB | 9.346802e+00 | 1.788763e+01 | 2.505556e+01 | 1.378125e+01 | 3.435937e+01 | 9.0494755 | 2.526713e+01 |  4.780250 | 1.656510e+01 | 14.43704231 | ⋯ | 8.320433e+00 | 1.065809e+01 | 14.728720 | 1.461129e+01 | 28.760414 | 10.280888 | 1.818325e+01 | 1.759873e+01 | 7.053053 | 3.410409e+01 |\n",
       "| ACTG1 | 8.620499e+00 | 1.212309e+01 | 2.619417e+01 | 1.532453e+01 | 2.762715e+01 | 7.9499365 | 1.804166e+01 |  6.258662 | 7.093575e+00 | 12.39489615 | ⋯ | 2.220446e-16 | 6.277701e+00 | 17.645116 | 1.563436e+01 | 26.457416 |  9.643851 | 1.506511e+01 | 2.008454e+01 | 8.583645 | 2.633345e+01 |\n",
       "| ACTN1 | 3.076517e+00 | 1.627759e+00 | 2.877735e-01 | 1.551874e-01 | 1.665822e+00 | 2.7891570 | 2.220446e-16 |  3.263743 | 5.665920e+00 |  6.00225141 | ⋯ | 2.785839e+00 | 2.220446e-16 |  0.000000 | 0.000000e+00 |  0.000000 |  0.000000 | 2.112973e+00 | 2.472238e+00 | 6.215442 | 1.358761e+00 |\n",
       "| ACTN4 | 2.547145e+00 | 2.837181e+00 | 1.351001e-01 | 2.892093e+00 | 2.220446e-16 | 0.5733190 | 5.691770e+00 | 15.450544 | 8.534691e+00 |  1.64895333 | ⋯ | 5.668798e+00 | 1.913199e+00 |  2.235751 | 7.399596e+00 |  3.195633 |  3.365036 | 1.465073e+00 | 2.893969e+00 | 9.637986 | 2.220446e-16 |\n",
       "| ACTR10 | 1.796106e+00 | 3.128743e+00 | 2.141793e+00 | 6.040401e-01 | 0.000000e+00 | 0.0000000 | 0.000000e+00 |  0.000000 | 3.129847e+00 |  1.72401671 | ⋯ | 2.362091e+00 | 2.220446e-16 |  1.798488 | 1.852290e+00 |  5.156380 |  1.725514 | 1.945057e+00 | 1.076685e+00 | 1.054125 | 5.583255e+00 |\n",
       "| ⋮ | ⋮ | ⋮ | ⋮ | ⋮ | ⋮ | ⋮ | ⋮ | ⋮ | ⋮ | ⋮ | ⋱ | ⋮ | ⋮ | ⋮ | ⋮ | ⋮ | ⋮ | ⋮ | ⋮ | ⋮ | ⋮ |\n",
       "| SEL1L | 0 | 0 | 0 | 0 | 0 | 0 | 0 | 0 | 0 | 0 | ⋯ | 0 | 0 | 0 | 0 | 0 | 0 | 7.286641e-01 | 2.348589e+00 | 3.564673e+00 | 2.220446e-16 |\n",
       "| SERPINI1 | 0 | 0 | 0 | 0 | 0 | 0 | 0 | 0 | 0 | 0 | ⋯ | 0 | 0 | 0 | 0 | 0 | 0 | 2.220446e-16 | 2.220446e-16 | 3.887271e+00 | 1.189896e+00 |\n",
       "| SERTAD3 | 0 | 0 | 0 | 0 | 0 | 0 | 0 | 0 | 0 | 0 | ⋯ | 0 | 0 | 0 | 0 | 0 | 0 | 4.497751e-01 | 1.760130e+00 | 3.374233e+00 | 1.746197e+00 |\n",
       "| SHISA2 | 0 | 0 | 0 | 0 | 0 | 0 | 0 | 0 | 0 | 0 | ⋯ | 0 | 0 | 0 | 0 | 0 | 0 | 1.918808e-01 | 5.120346e+00 | 2.220446e-16 | 3.137854e-01 |\n",
       "| SHISA8 | 0 | 0 | 0 | 0 | 0 | 0 | 0 | 0 | 0 | 0 | ⋯ | 0 | 0 | 0 | 0 | 0 | 0 | 2.220446e-16 | 1.513085e+00 | 1.414020e+00 | 2.313509e+00 |\n",
       "| SLC25A13 | 0 | 0 | 0 | 0 | 0 | 0 | 0 | 0 | 0 | 0 | ⋯ | 0 | 0 | 0 | 0 | 0 | 0 | 7.371242e-01 | 1.490659e+00 | 1.091123e+00 | 3.591056e+00 |\n",
       "| SLC29A1 | 0 | 0 | 0 | 0 | 0 | 0 | 0 | 0 | 0 | 0 | ⋯ | 0 | 0 | 0 | 0 | 0 | 0 | 2.220446e-16 | 3.931357e+00 | 3.367544e+00 | 3.607028e+00 |\n",
       "| SLC29A4 | 0 | 0 | 0 | 0 | 0 | 0 | 0 | 0 | 0 | 0 | ⋯ | 0 | 0 | 0 | 0 | 0 | 0 | 2.220446e-16 | 1.091930e+00 | 3.354347e+00 | 2.705444e+00 |\n",
       "| SNX14 | 0 | 0 | 0 | 0 | 0 | 0 | 0 | 0 | 0 | 0 | ⋯ | 0 | 0 | 0 | 0 | 0 | 0 | 2.220446e-16 | 1.611898e+00 | 5.783637e+00 | 5.652319e-01 |\n",
       "| ST8SIA6-AS1 | 0 | 0 | 0 | 0 | 0 | 0 | 0 | 0 | 0 | 0 | ⋯ | 0 | 0 | 0 | 0 | 0 | 0 | 1.197837e+00 | 1.238568e+00 | 4.198247e+00 | 1.545091e+00 |\n",
       "| SYNJ2 | 0 | 0 | 0 | 0 | 0 | 0 | 0 | 0 | 0 | 0 | ⋯ | 0 | 0 | 0 | 0 | 0 | 0 | 1.596377e-01 | 3.925967e+00 | 4.138229e+00 | 1.910150e+00 |\n",
       "| TAB2 | 0 | 0 | 0 | 0 | 0 | 0 | 0 | 0 | 0 | 0 | ⋯ | 0 | 0 | 0 | 0 | 0 | 0 | 6.453118e-01 | 1.855049e+00 | 4.536204e+00 | 2.220446e-16 |\n",
       "| TBC1D7 | 0 | 0 | 0 | 0 | 0 | 0 | 0 | 0 | 0 | 0 | ⋯ | 0 | 0 | 0 | 0 | 0 | 0 | 8.382338e-01 | 1.659359e-01 | 9.678074e-01 | 5.268730e+00 |\n",
       "| TMEM171 | 0 | 0 | 0 | 0 | 0 | 0 | 0 | 0 | 0 | 0 | ⋯ | 0 | 0 | 0 | 0 | 0 | 0 | 2.220446e-16 | 1.383421e+00 | 3.753945e-01 | 2.753461e+00 |\n",
       "| TNS3 | 0 | 0 | 0 | 0 | 0 | 0 | 0 | 0 | 0 | 0 | ⋯ | 0 | 0 | 0 | 0 | 0 | 0 | 2.220446e-16 | 2.220446e-16 | 7.693826e+00 | 1.012639e+00 |\n",
       "| TPRN | 0 | 0 | 0 | 0 | 0 | 0 | 0 | 0 | 0 | 0 | ⋯ | 0 | 0 | 0 | 0 | 0 | 0 | 1.230537e+00 | 1.595091e+00 | 3.511171e+00 | 2.220446e-16 |\n",
       "| TRIP13 | 0 | 0 | 0 | 0 | 0 | 0 | 0 | 0 | 0 | 0 | ⋯ | 0 | 0 | 0 | 0 | 0 | 0 | 9.733099e+00 | 2.220446e-16 | 1.058387e+00 | 2.220446e-16 |\n",
       "| TTC33 | 0 | 0 | 0 | 0 | 0 | 0 | 0 | 0 | 0 | 0 | ⋯ | 0 | 0 | 0 | 0 | 0 | 0 | 1.558992e-01 | 7.697901e-01 | 1.646108e+00 | 2.519723e+00 |\n",
       "| TTC39A | 0 | 0 | 0 | 0 | 0 | 0 | 0 | 0 | 0 | 0 | ⋯ | 0 | 0 | 0 | 0 | 0 | 0 | 7.510127e-01 | 9.538415e-01 | 2.675905e-01 | 5.176620e+00 |\n",
       "| UCHL5 | 0 | 0 | 0 | 0 | 0 | 0 | 0 | 0 | 0 | 0 | ⋯ | 0 | 0 | 0 | 0 | 0 | 0 | 2.464608e+00 | 5.327125e-01 | 3.147886e-01 | 3.651015e+00 |\n",
       "| UCKL1 | 0 | 0 | 0 | 0 | 0 | 0 | 0 | 0 | 0 | 0 | ⋯ | 0 | 0 | 0 | 0 | 0 | 0 | 2.323086e+00 | 1.262456e+00 | 2.220446e-16 | 2.564322e+00 |\n",
       "| UGT8 | 0 | 0 | 0 | 0 | 0 | 0 | 0 | 0 | 0 | 0 | ⋯ | 0 | 0 | 0 | 0 | 0 | 0 | 1.142930e+00 | 2.220446e-16 | 7.410753e+00 | 2.220446e-16 |\n",
       "| UMPS | 0 | 0 | 0 | 0 | 0 | 0 | 0 | 0 | 0 | 0 | ⋯ | 0 | 0 | 0 | 0 | 0 | 0 | 8.687523e-01 | 1.207247e-02 | 2.533437e+00 | 2.555465e+00 |\n",
       "| VTA1 | 0 | 0 | 0 | 0 | 0 | 0 | 0 | 0 | 0 | 0 | ⋯ | 0 | 0 | 0 | 0 | 0 | 0 | 1.746794e+00 | 3.606841e+00 | 1.918425e+00 | 2.419738e+00 |\n",
       "| VWA5B2 | 0 | 0 | 0 | 0 | 0 | 0 | 0 | 0 | 0 | 0 | ⋯ | 0 | 0 | 0 | 0 | 0 | 0 | 2.220446e-16 | 4.249017e-01 | 3.807502e+00 | 1.335049e+00 |\n",
       "| WDR72 | 0 | 0 | 0 | 0 | 0 | 0 | 0 | 0 | 0 | 0 | ⋯ | 0 | 0 | 0 | 0 | 0 | 0 | 2.479810e+00 | 1.612008e+00 | 1.909604e+00 | 1.822443e+00 |\n",
       "| ZMIZ2 | 0 | 0 | 0 | 0 | 0 | 0 | 0 | 0 | 0 | 0 | ⋯ | 0 | 0 | 0 | 0 | 0 | 0 | 9.808613e-01 | 2.461123e+00 | 3.378060e+00 | 2.398877e-02 |\n",
       "| ZNF680 | 0 | 0 | 0 | 0 | 0 | 0 | 0 | 0 | 0 | 0 | ⋯ | 0 | 0 | 0 | 0 | 0 | 0 | 1.240223e+00 | 1.844686e+00 | 5.541916e+00 | 4.475087e-01 |\n",
       "| TLNRD1 | 0 | 0 | 0 | 0 | 0 | 0 | 0 | 0 | 0 | 0 | ⋯ | 0 | 0 | 0 | 0 | 0 | 0 | 2.288392e+00 | 7.820251e-02 | 2.752407e+00 | 1.398009e+00 |\n",
       "| LZTS3 | 0 | 0 | 0 | 0 | 0 | 0 | 0 | 0 | 0 | 0 | ⋯ | 0 | 0 | 0 | 0 | 0 | 0 | 6.419175e-02 | 2.220446e-16 | 4.824882e+00 | 1.681884e+00 |\n",
       "\n"
      ],
      "text/plain": [
       "            EBUS_10_1    EBUS_10_2    EBUS_10_3    EBUS_10_4    BRONCHO_11_1\n",
       "AAED1       7.339783e-01 4.606327e+00 1.546282e+00 2.220446e-16 0.000000e+00\n",
       "AAMDC       1.492285e+00 2.608171e+00 3.014766e+00 2.220446e-16 1.440888e+00\n",
       "AAMP        1.386188e+00 4.667683e+00 4.213414e+00 1.420516e+00 0.000000e+00\n",
       "ABCC3       2.220446e-16 1.878950e+00 6.707795e-02 7.368991e+00 2.220446e-16\n",
       "ABCE1       6.007611e-01 4.064098e+00 4.974158e-01 1.807560e+00 0.000000e+00\n",
       "ABCF1       5.919799e-01 3.363336e+00 1.385398e+00 3.289564e+00 2.220446e-16\n",
       "ABHD11      1.061699e+00 3.267222e+00 9.069694e-01 1.908692e+00 0.000000e+00\n",
       "ABHD11-AS1  1.007070e+00 2.220446e-16 2.005243e+00 5.673126e+00 0.000000e+00\n",
       "ABHD14B     8.513836e-01 6.294992e+00 2.677681e+00 2.220446e-16 0.000000e+00\n",
       "ABI2        1.618231e+00 2.220995e+00 4.271379e-01 6.131393e+00 0.000000e+00\n",
       "ABL2        6.539214e-01 1.483066e+00 2.220446e-16 7.222705e+00 0.000000e+00\n",
       "ABRACL      1.765297e+00 3.742443e+00 4.020865e+00 3.833974e-01 4.576129e+00\n",
       "ABT1        7.430007e-01 3.708751e+00 1.817455e+00 3.029145e+00 0.000000e+00\n",
       "AC007405.6  1.500577e+00 1.041196e+00 1.780854e+00 2.482300e+00 0.000000e+00\n",
       "AC013264.2  3.323078e+00 2.220446e-16 2.220446e-16 2.220446e-16 0.000000e+00\n",
       "AC090498.1  1.062188e+00 4.608651e+00 2.035629e+00 1.510245e+00 6.715865e+00\n",
       "ACADVL      2.106200e+00 1.375996e+00 1.675735e+00 2.236987e+00 4.926307e-01\n",
       "ACAT2       6.776135e-01 3.750879e+00 2.669977e+00 2.220446e-16 0.000000e+00\n",
       "ACBD3       2.666899e-01 4.073471e+00 1.028470e+00 1.921827e+00 7.530712e-01\n",
       "ACIN1       9.060506e-01 5.999574e-01 2.220446e-16 4.388567e+00 4.628737e-01\n",
       "ACLY        4.551756e-01 3.446275e+00 2.220446e-16 2.950920e+00 0.000000e+00\n",
       "ACOT13      5.213061e-01 7.287759e+00 5.136168e+00 2.220446e-16 5.108799e+00\n",
       "ACP1        1.610517e+00 1.284307e+01 4.117829e+00 5.255347e-11 9.350851e+00\n",
       "ACSL1       2.679764e-01 2.586423e-01 6.997563e-01 5.782690e+00 0.000000e+00\n",
       "ACTA2       1.331311e+00 9.572238e-01 4.189388e-01 3.159204e-05 0.000000e+00\n",
       "ACTB        9.346802e+00 1.788763e+01 2.505556e+01 1.378125e+01 3.435937e+01\n",
       "ACTG1       8.620499e+00 1.212309e+01 2.619417e+01 1.532453e+01 2.762715e+01\n",
       "ACTN1       3.076517e+00 1.627759e+00 2.877735e-01 1.551874e-01 1.665822e+00\n",
       "ACTN4       2.547145e+00 2.837181e+00 1.351001e-01 2.892093e+00 2.220446e-16\n",
       "ACTR10      1.796106e+00 3.128743e+00 2.141793e+00 6.040401e-01 0.000000e+00\n",
       "⋮           ⋮            ⋮            ⋮            ⋮            ⋮           \n",
       "SEL1L       0            0            0            0            0           \n",
       "SERPINI1    0            0            0            0            0           \n",
       "SERTAD3     0            0            0            0            0           \n",
       "SHISA2      0            0            0            0            0           \n",
       "SHISA8      0            0            0            0            0           \n",
       "SLC25A13    0            0            0            0            0           \n",
       "SLC29A1     0            0            0            0            0           \n",
       "SLC29A4     0            0            0            0            0           \n",
       "SNX14       0            0            0            0            0           \n",
       "ST8SIA6-AS1 0            0            0            0            0           \n",
       "SYNJ2       0            0            0            0            0           \n",
       "TAB2        0            0            0            0            0           \n",
       "TBC1D7      0            0            0            0            0           \n",
       "TMEM171     0            0            0            0            0           \n",
       "TNS3        0            0            0            0            0           \n",
       "TPRN        0            0            0            0            0           \n",
       "TRIP13      0            0            0            0            0           \n",
       "TTC33       0            0            0            0            0           \n",
       "TTC39A      0            0            0            0            0           \n",
       "UCHL5       0            0            0            0            0           \n",
       "UCKL1       0            0            0            0            0           \n",
       "UGT8        0            0            0            0            0           \n",
       "UMPS        0            0            0            0            0           \n",
       "VTA1        0            0            0            0            0           \n",
       "VWA5B2      0            0            0            0            0           \n",
       "WDR72       0            0            0            0            0           \n",
       "ZMIZ2       0            0            0            0            0           \n",
       "ZNF680      0            0            0            0            0           \n",
       "TLNRD1      0            0            0            0            0           \n",
       "LZTS3       0            0            0            0            0           \n",
       "            BRONCHO_11_2 BRONCHO_11_3 BRONCHO_11_4 EBUS_12_1    EBUS_12_2   ⋯\n",
       "AAED1       0.0000000    0.000000e+00  0.000000    0.000000e+00  0.00000000 ⋯\n",
       "AAMDC       0.8860674    8.347579e-01  4.391664    2.220446e-16  1.37970556 ⋯\n",
       "AAMP        0.0000000    0.000000e+00  0.000000    0.000000e+00  0.00000000 ⋯\n",
       "ABCC3       1.0449622    1.486866e+00  6.226681    6.219859e+00  0.50770436 ⋯\n",
       "ABCE1       0.0000000    0.000000e+00  0.000000    0.000000e+00  0.00000000 ⋯\n",
       "ABCF1       0.6292176    1.015103e+00  4.252920    2.972818e+00  0.85094634 ⋯\n",
       "ABHD11      0.0000000    0.000000e+00  0.000000    5.266658e+00  0.37281817 ⋯\n",
       "ABHD11-AS1  0.0000000    0.000000e+00  0.000000    0.000000e+00  0.00000000 ⋯\n",
       "ABHD14B     0.0000000    0.000000e+00  0.000000    0.000000e+00  0.00000000 ⋯\n",
       "ABI2        0.0000000    0.000000e+00  0.000000    0.000000e+00  0.00000000 ⋯\n",
       "ABL2        0.0000000    0.000000e+00  0.000000    4.218759e+00  2.72959890 ⋯\n",
       "ABRACL      1.0729401    2.641958e+00  2.955435    1.967084e+00  2.01247201 ⋯\n",
       "ABT1        0.0000000    0.000000e+00  0.000000    0.000000e+00  0.00000000 ⋯\n",
       "AC007405.6  0.0000000    0.000000e+00  0.000000    0.000000e+00  0.00000000 ⋯\n",
       "AC013264.2  0.0000000    0.000000e+00  0.000000    0.000000e+00  0.00000000 ⋯\n",
       "AC090498.1  1.8017194    5.488149e+00  2.933589    1.708038e+00  2.27510958 ⋯\n",
       "ACADVL      1.2313608    5.648705e+00  6.862718    6.170435e+00  3.08733409 ⋯\n",
       "ACAT2       0.0000000    0.000000e+00  0.000000    2.379565e-06  0.06762149 ⋯\n",
       "ACBD3       0.2553041    7.937012e-01  6.935952    0.000000e+00  0.00000000 ⋯\n",
       "ACIN1       0.8574772    1.116372e+00  4.632124    4.051624e+00  1.37035112 ⋯\n",
       "ACLY        0.0000000    0.000000e+00  0.000000    0.000000e+00  0.00000000 ⋯\n",
       "ACOT13      0.2254459    2.811639e+00  1.062540    7.118446e-01  0.63737934 ⋯\n",
       "ACP1        1.9448434    5.760758e+00  0.735353    1.799391e+00  1.53347474 ⋯\n",
       "ACSL1       0.0000000    0.000000e+00  0.000000    0.000000e+00  0.00000000 ⋯\n",
       "ACTA2       0.0000000    0.000000e+00  0.000000    2.220446e-16  3.25892041 ⋯\n",
       "ACTB        9.0494755    2.526713e+01  4.780250    1.656510e+01 14.43704231 ⋯\n",
       "ACTG1       7.9499365    1.804166e+01  6.258662    7.093575e+00 12.39489615 ⋯\n",
       "ACTN1       2.7891570    2.220446e-16  3.263743    5.665920e+00  6.00225141 ⋯\n",
       "ACTN4       0.5733190    5.691770e+00 15.450544    8.534691e+00  1.64895333 ⋯\n",
       "ACTR10      0.0000000    0.000000e+00  0.000000    3.129847e+00  1.72401671 ⋯\n",
       "⋮           ⋮            ⋮            ⋮            ⋮            ⋮           ⋱\n",
       "SEL1L       0            0            0            0            0           ⋯\n",
       "SERPINI1    0            0            0            0            0           ⋯\n",
       "SERTAD3     0            0            0            0            0           ⋯\n",
       "SHISA2      0            0            0            0            0           ⋯\n",
       "SHISA8      0            0            0            0            0           ⋯\n",
       "SLC25A13    0            0            0            0            0           ⋯\n",
       "SLC29A1     0            0            0            0            0           ⋯\n",
       "SLC29A4     0            0            0            0            0           ⋯\n",
       "SNX14       0            0            0            0            0           ⋯\n",
       "ST8SIA6-AS1 0            0            0            0            0           ⋯\n",
       "SYNJ2       0            0            0            0            0           ⋯\n",
       "TAB2        0            0            0            0            0           ⋯\n",
       "TBC1D7      0            0            0            0            0           ⋯\n",
       "TMEM171     0            0            0            0            0           ⋯\n",
       "TNS3        0            0            0            0            0           ⋯\n",
       "TPRN        0            0            0            0            0           ⋯\n",
       "TRIP13      0            0            0            0            0           ⋯\n",
       "TTC33       0            0            0            0            0           ⋯\n",
       "TTC39A      0            0            0            0            0           ⋯\n",
       "UCHL5       0            0            0            0            0           ⋯\n",
       "UCKL1       0            0            0            0            0           ⋯\n",
       "UGT8        0            0            0            0            0           ⋯\n",
       "UMPS        0            0            0            0            0           ⋯\n",
       "VTA1        0            0            0            0            0           ⋯\n",
       "VWA5B2      0            0            0            0            0           ⋯\n",
       "WDR72       0            0            0            0            0           ⋯\n",
       "ZMIZ2       0            0            0            0            0           ⋯\n",
       "ZNF680      0            0            0            0            0           ⋯\n",
       "TLNRD1      0            0            0            0            0           ⋯\n",
       "LZTS3       0            0            0            0            0           ⋯\n",
       "            S5_3         S5_4         S6_1      S6_2         S6_3     \n",
       "AAED1       0.000000e+00 0.000000e+00  0.000000 0.000000e+00  0.000000\n",
       "AAMDC       0.000000e+00 0.000000e+00  1.229022 1.348510e-05  6.612420\n",
       "AAMP        0.000000e+00 0.000000e+00  1.567524 1.506574e+00  3.019342\n",
       "ABCC3       0.000000e+00 0.000000e+00  0.000000 0.000000e+00  0.000000\n",
       "ABCE1       0.000000e+00 0.000000e+00  0.000000 0.000000e+00  0.000000\n",
       "ABCF1       2.976294e+00 2.220446e-16  1.999225 5.805024e+00  2.688312\n",
       "ABHD11      2.220446e-16 2.220446e-16  0.000000 0.000000e+00  0.000000\n",
       "ABHD11-AS1  0.000000e+00 0.000000e+00  0.000000 0.000000e+00  0.000000\n",
       "ABHD14B     0.000000e+00 0.000000e+00  0.000000 0.000000e+00  0.000000\n",
       "ABI2        3.325150e+00 3.800918e+00  1.278839 8.836548e+00  1.604843\n",
       "ABL2        0.000000e+00 0.000000e+00  0.000000 0.000000e+00  0.000000\n",
       "ABRACL      2.220446e-16 2.651753e+00  1.014517 3.342157e+00  9.389479\n",
       "ABT1        8.199078e-01 1.371143e+00  0.000000 0.000000e+00  0.000000\n",
       "AC007405.6  0.000000e+00 0.000000e+00  0.000000 0.000000e+00  0.000000\n",
       "AC013264.2  0.000000e+00 0.000000e+00  0.000000 0.000000e+00  0.000000\n",
       "AC090498.1  0.000000e+00 0.000000e+00  0.000000 0.000000e+00  0.000000\n",
       "ACADVL      0.000000e+00 0.000000e+00  0.000000 0.000000e+00  0.000000\n",
       "ACAT2       2.220446e-16 9.477859e-01  2.451075 4.040302e+00  6.955149\n",
       "ACBD3       0.000000e+00 0.000000e+00  1.727946 3.301831e+00  1.225655\n",
       "ACIN1       3.764986e+00 2.220446e-16  1.691977 4.068413e+00  1.149689\n",
       "ACLY        0.000000e+00 0.000000e+00  0.000000 0.000000e+00  0.000000\n",
       "ACOT13      0.000000e+00 0.000000e+00  0.000000 0.000000e+00  0.000000\n",
       "ACP1        2.220446e-16 1.960483e+00  3.716292 2.560002e+00  7.246371\n",
       "ACSL1       0.000000e+00 0.000000e+00  0.000000 0.000000e+00  0.000000\n",
       "ACTA2       0.000000e+00 0.000000e+00  0.000000 0.000000e+00  0.000000\n",
       "ACTB        8.320433e+00 1.065809e+01 14.728720 1.461129e+01 28.760414\n",
       "ACTG1       2.220446e-16 6.277701e+00 17.645116 1.563436e+01 26.457416\n",
       "ACTN1       2.785839e+00 2.220446e-16  0.000000 0.000000e+00  0.000000\n",
       "ACTN4       5.668798e+00 1.913199e+00  2.235751 7.399596e+00  3.195633\n",
       "ACTR10      2.362091e+00 2.220446e-16  1.798488 1.852290e+00  5.156380\n",
       "⋮           ⋮            ⋮            ⋮         ⋮            ⋮        \n",
       "SEL1L       0            0            0         0            0        \n",
       "SERPINI1    0            0            0         0            0        \n",
       "SERTAD3     0            0            0         0            0        \n",
       "SHISA2      0            0            0         0            0        \n",
       "SHISA8      0            0            0         0            0        \n",
       "SLC25A13    0            0            0         0            0        \n",
       "SLC29A1     0            0            0         0            0        \n",
       "SLC29A4     0            0            0         0            0        \n",
       "SNX14       0            0            0         0            0        \n",
       "ST8SIA6-AS1 0            0            0         0            0        \n",
       "SYNJ2       0            0            0         0            0        \n",
       "TAB2        0            0            0         0            0        \n",
       "TBC1D7      0            0            0         0            0        \n",
       "TMEM171     0            0            0         0            0        \n",
       "TNS3        0            0            0         0            0        \n",
       "TPRN        0            0            0         0            0        \n",
       "TRIP13      0            0            0         0            0        \n",
       "TTC33       0            0            0         0            0        \n",
       "TTC39A      0            0            0         0            0        \n",
       "UCHL5       0            0            0         0            0        \n",
       "UCKL1       0            0            0         0            0        \n",
       "UGT8        0            0            0         0            0        \n",
       "UMPS        0            0            0         0            0        \n",
       "VTA1        0            0            0         0            0        \n",
       "VWA5B2      0            0            0         0            0        \n",
       "WDR72       0            0            0         0            0        \n",
       "ZMIZ2       0            0            0         0            0        \n",
       "ZNF680      0            0            0         0            0        \n",
       "TLNRD1      0            0            0         0            0        \n",
       "LZTS3       0            0            0         0            0        \n",
       "            S6_4      S7_1         S7_2         S7_3         S7_4        \n",
       "AAED1        0.000000 0.000000e+00 0.000000e+00 0.000000     0.000000e+00\n",
       "AAMDC        2.388196 0.000000e+00 0.000000e+00 0.000000     0.000000e+00\n",
       "AAMP         1.337657 1.510157e+00 1.202885e+00 1.534895     4.967792e+00\n",
       "ABCC3        0.000000 0.000000e+00 0.000000e+00 0.000000     0.000000e+00\n",
       "ABCE1        0.000000 1.387698e+00 2.825842e+00 2.428195     2.978213e+00\n",
       "ABCF1        2.478640 2.498994e+00 1.729724e+00 3.140832     3.612779e+00\n",
       "ABHD11       0.000000 2.220446e-16 2.185722e+00 2.303143     2.378721e+00\n",
       "ABHD11-AS1   0.000000 0.000000e+00 0.000000e+00 0.000000     0.000000e+00\n",
       "ABHD14B      0.000000 0.000000e+00 0.000000e+00 0.000000     0.000000e+00\n",
       "ABI2         4.337325 1.221410e+00 3.076318e+00 5.815275     3.247591e-01\n",
       "ABL2         0.000000 0.000000e+00 0.000000e+00 0.000000     0.000000e+00\n",
       "ABRACL       3.349042 3.726625e+00 1.521608e+00 6.189068     3.640358e+00\n",
       "ABT1         0.000000 1.498624e+00 1.210001e+00 2.883081     2.539586e+00\n",
       "AC007405.6   0.000000 0.000000e+00 0.000000e+00 0.000000     0.000000e+00\n",
       "AC013264.2   0.000000 0.000000e+00 0.000000e+00 0.000000     0.000000e+00\n",
       "AC090498.1   0.000000 0.000000e+00 0.000000e+00 0.000000     0.000000e+00\n",
       "ACADVL       0.000000 2.121191e+00 1.406588e+00 3.209950     1.995655e+00\n",
       "ACAT2        1.483150 3.286869e+00 2.220446e-16 6.113704     3.034889e+00\n",
       "ACBD3        1.685934 0.000000e+00 0.000000e+00 0.000000     0.000000e+00\n",
       "ACIN1        2.494058 0.000000e+00 0.000000e+00 0.000000     0.000000e+00\n",
       "ACLY         0.000000 1.616163e+00 7.164991e-01 5.614683     3.427392e+00\n",
       "ACOT13       0.000000 0.000000e+00 0.000000e+00 0.000000     0.000000e+00\n",
       "ACP1         1.886780 3.852294e+00 2.449647e+00 1.739516     9.636075e+00\n",
       "ACSL1        0.000000 0.000000e+00 0.000000e+00 0.000000     0.000000e+00\n",
       "ACTA2        0.000000 0.000000e+00 0.000000e+00 0.000000     0.000000e+00\n",
       "ACTB        10.280888 1.818325e+01 1.759873e+01 7.053053     3.410409e+01\n",
       "ACTG1        9.643851 1.506511e+01 2.008454e+01 8.583645     2.633345e+01\n",
       "ACTN1        0.000000 2.112973e+00 2.472238e+00 6.215442     1.358761e+00\n",
       "ACTN4        3.365036 1.465073e+00 2.893969e+00 9.637986     2.220446e-16\n",
       "ACTR10       1.725514 1.945057e+00 1.076685e+00 1.054125     5.583255e+00\n",
       "⋮           ⋮         ⋮            ⋮            ⋮            ⋮           \n",
       "SEL1L       0         7.286641e-01 2.348589e+00 3.564673e+00 2.220446e-16\n",
       "SERPINI1    0         2.220446e-16 2.220446e-16 3.887271e+00 1.189896e+00\n",
       "SERTAD3     0         4.497751e-01 1.760130e+00 3.374233e+00 1.746197e+00\n",
       "SHISA2      0         1.918808e-01 5.120346e+00 2.220446e-16 3.137854e-01\n",
       "SHISA8      0         2.220446e-16 1.513085e+00 1.414020e+00 2.313509e+00\n",
       "SLC25A13    0         7.371242e-01 1.490659e+00 1.091123e+00 3.591056e+00\n",
       "SLC29A1     0         2.220446e-16 3.931357e+00 3.367544e+00 3.607028e+00\n",
       "SLC29A4     0         2.220446e-16 1.091930e+00 3.354347e+00 2.705444e+00\n",
       "SNX14       0         2.220446e-16 1.611898e+00 5.783637e+00 5.652319e-01\n",
       "ST8SIA6-AS1 0         1.197837e+00 1.238568e+00 4.198247e+00 1.545091e+00\n",
       "SYNJ2       0         1.596377e-01 3.925967e+00 4.138229e+00 1.910150e+00\n",
       "TAB2        0         6.453118e-01 1.855049e+00 4.536204e+00 2.220446e-16\n",
       "TBC1D7      0         8.382338e-01 1.659359e-01 9.678074e-01 5.268730e+00\n",
       "TMEM171     0         2.220446e-16 1.383421e+00 3.753945e-01 2.753461e+00\n",
       "TNS3        0         2.220446e-16 2.220446e-16 7.693826e+00 1.012639e+00\n",
       "TPRN        0         1.230537e+00 1.595091e+00 3.511171e+00 2.220446e-16\n",
       "TRIP13      0         9.733099e+00 2.220446e-16 1.058387e+00 2.220446e-16\n",
       "TTC33       0         1.558992e-01 7.697901e-01 1.646108e+00 2.519723e+00\n",
       "TTC39A      0         7.510127e-01 9.538415e-01 2.675905e-01 5.176620e+00\n",
       "UCHL5       0         2.464608e+00 5.327125e-01 3.147886e-01 3.651015e+00\n",
       "UCKL1       0         2.323086e+00 1.262456e+00 2.220446e-16 2.564322e+00\n",
       "UGT8        0         1.142930e+00 2.220446e-16 7.410753e+00 2.220446e-16\n",
       "UMPS        0         8.687523e-01 1.207247e-02 2.533437e+00 2.555465e+00\n",
       "VTA1        0         1.746794e+00 3.606841e+00 1.918425e+00 2.419738e+00\n",
       "VWA5B2      0         2.220446e-16 4.249017e-01 3.807502e+00 1.335049e+00\n",
       "WDR72       0         2.479810e+00 1.612008e+00 1.909604e+00 1.822443e+00\n",
       "ZMIZ2       0         9.808613e-01 2.461123e+00 3.378060e+00 2.398877e-02\n",
       "ZNF680      0         1.240223e+00 1.844686e+00 5.541916e+00 4.475087e-01\n",
       "TLNRD1      0         2.288392e+00 7.820251e-02 2.752407e+00 1.398009e+00\n",
       "LZTS3       0         6.419175e-02 2.220446e-16 4.824882e+00 1.681884e+00"
      ]
     },
     "metadata": {},
     "output_type": "display_data"
    }
   ],
   "source": [
    "M_tmp"
   ]
  },
  {
   "cell_type": "code",
   "execution_count": 14,
   "id": "062d7e9b-b3e0-4cde-bb86-0dd5c12fb882",
   "metadata": {},
   "outputs": [],
   "source": [
    "apply(M_tmp,1,sd)->M_sd\n",
    "names(sort(M_sd,decreasing=T))->sd_gene\n",
    "M_tmp[sd_gene,]-> M_tmp2\n",
    "clusterK = 5\n",
    "M <- cor(M_tmp2, method = \"pearson\")\n",
    "cor_method=\"ward.D2\""
   ]
  },
  {
   "cell_type": "code",
   "execution_count": 15,
   "id": "0a67597e-ba1b-4ab8-9eb1-6aff3f4fa890",
   "metadata": {},
   "outputs": [
    {
     "data": {
      "image/png": "[encoded data removed]",
      "text/plain": [
       "Plot with title “”"
      ]
     },
     "metadata": {
      "image/png": {
       "height": 420,
       "width": 420
      }
     },
     "output_type": "display_data"
    }
   ],
   "source": [
    "#用corrplot画图，便于标出各cluster的黑色方框\n",
    "#pdf(\"scNMF.pdf\")\n",
    "library(RColorBrewer)\n",
    "library(corrplot)\n",
    "\n",
    "corrplot(M, \n",
    "         method = \"color\", #用颜色展示相关系数，还可以改为\"circle\" (default), \"square\", \"ellipse\", \"number\", \"pie\", \"shade\"\n",
    "         order = \"hclust\", \n",
    "         hclust.method = cor_method, \n",
    "         addrect = clusterK, #画黑色方框\n",
    "         tl.pos = \"n\", #\"n\" means don't add textlabel\n",
    "         col = rev(brewer.pal(n = 8, name = \"RdBu\"))) # 运行?brewer.pal查看更多配色方案"
   ]
  },
  {
   "cell_type": "code",
   "execution_count": 16,
   "id": "a2e1ac6e-2cb2-470e-a60a-8f8bdbefadd7",
   "metadata": {},
   "outputs": [
    {
     "data": {
      "text/plain": [
       "clus\n",
       " 1  2  3  4  5 \n",
       " 3 19 15  8 11 "
      ]
     },
     "metadata": {},
     "output_type": "display_data"
    }
   ],
   "source": [
    "cororder <- corrMatOrder(M, order = \"hclust\", hclust.method = cor_method) #ward.D2\n",
    "M.hc <- M[cororder, cororder]\n",
    "tree <- hclust(as.dist(1 - M.hc), method = cor_method)\n",
    "clus <- cutree(tree, clusterK)\n",
    "table(clus)"
   ]
  },
  {
   "cell_type": "code",
   "execution_count": 17,
   "id": "51e3b947-6001-4a74-95b4-4062dd43f31b",
   "metadata": {},
   "outputs": [],
   "source": [
    "list_scores=list()\n",
    "for(k in 1: clusterK)\n",
    "{\n",
    "names(which(clus==k))->select_meta\n",
    "M_tmp[, select_meta]->M_select\n",
    "apply(M_select,2,function(x) rownames(M_tmp)[order(x,decreasing=T)[1:100]])->select_genes\n",
    "unique(as.vector(select_genes))-> select_genes2\n",
    "new_matrix=matrix(0,length(select_genes2),length(select_meta))\n",
    "colnames(new_matrix)<-select_meta\n",
    "rownames(new_matrix)<-select_genes2\n",
    "\n",
    " for(kk in 1:length(select_meta))\n",
    "{\n",
    "   new_matrix[select_genes[,kk],select_meta[kk]]<-M_select[select_genes[,kk],select_meta[kk]]\n",
    "}\n",
    "rowMeans(new_matrix)->average_scores\n",
    "list_scores[[k]]<-average_scores\n",
    "}"
   ]
  },
  {
   "cell_type": "code",
   "execution_count": 18,
   "id": "58d8c3d7-8e28-4535-9ebb-591b8ef2a35f",
   "metadata": {},
   "outputs": [],
   "source": [
    "library(org.Hs.eg.db)\n",
    "library(clusterProfiler)"
   ]
  },
  {
   "cell_type": "code",
   "execution_count": 19,
   "id": "d5e4f0e2-0fad-445a-ad13-2783df077b43",
   "metadata": {},
   "outputs": [
    {
     "data": {
      "text/html": [
       "<style>\n",
       ".list-inline {list-style: none; margin:0; padding: 0}\n",
       ".list-inline>li {display: inline-block}\n",
       ".list-inline>li:not(:last-child)::after {content: \"\\00b7\"; padding: 0 .5ex}\n",
       "</style>\n",
       "<ol class=list-inline><li>'EBUS_10_1'</li><li>'S1_2'</li><li>'EBUS_15_2'</li><li>'EBUS_12_3'</li><li>'BRONCHO_11_2'</li><li>'EBUS_12_2'</li><li>'EBUS_13_1'</li><li>'EBUS_13_3'</li><li>'EBUS_10_2'</li><li>'EBUS_15_3'</li><li>'EBUS_51_3'</li><li>'EBUS_19_1'</li><li>'EBUS_19_2'</li><li>'EBUS_12_4'</li><li>'EBUS_51_2'</li><li>'BRONCHO_11_1'</li><li>'BRONCHO_11_3'</li><li>'EBUS_10_3'</li><li>'EBUS_15_4'</li></ol>\n"
      ],
      "text/latex": [
       "\\begin{enumerate*}\n",
       "\\item 'EBUS\\_10\\_1'\n",
       "\\item 'S1\\_2'\n",
       "\\item 'EBUS\\_15\\_2'\n",
       "\\item 'EBUS\\_12\\_3'\n",
       "\\item 'BRONCHO\\_11\\_2'\n",
       "\\item 'EBUS\\_12\\_2'\n",
       "\\item 'EBUS\\_13\\_1'\n",
       "\\item 'EBUS\\_13\\_3'\n",
       "\\item 'EBUS\\_10\\_2'\n",
       "\\item 'EBUS\\_15\\_3'\n",
       "\\item 'EBUS\\_51\\_3'\n",
       "\\item 'EBUS\\_19\\_1'\n",
       "\\item 'EBUS\\_19\\_2'\n",
       "\\item 'EBUS\\_12\\_4'\n",
       "\\item 'EBUS\\_51\\_2'\n",
       "\\item 'BRONCHO\\_11\\_1'\n",
       "\\item 'BRONCHO\\_11\\_3'\n",
       "\\item 'EBUS\\_10\\_3'\n",
       "\\item 'EBUS\\_15\\_4'\n",
       "\\end{enumerate*}\n"
      ],
      "text/markdown": [
       "1. 'EBUS_10_1'\n",
       "2. 'S1_2'\n",
       "3. 'EBUS_15_2'\n",
       "4. 'EBUS_12_3'\n",
       "5. 'BRONCHO_11_2'\n",
       "6. 'EBUS_12_2'\n",
       "7. 'EBUS_13_1'\n",
       "8. 'EBUS_13_3'\n",
       "9. 'EBUS_10_2'\n",
       "10. 'EBUS_15_3'\n",
       "11. 'EBUS_51_3'\n",
       "12. 'EBUS_19_1'\n",
       "13. 'EBUS_19_2'\n",
       "14. 'EBUS_12_4'\n",
       "15. 'EBUS_51_2'\n",
       "16. 'BRONCHO_11_1'\n",
       "17. 'BRONCHO_11_3'\n",
       "18. 'EBUS_10_3'\n",
       "19. 'EBUS_15_4'\n",
       "\n",
       "\n"
      ],
      "text/plain": [
       " [1] \"EBUS_10_1\"    \"S1_2\"         \"EBUS_15_2\"    \"EBUS_12_3\"    \"BRONCHO_11_2\"\n",
       " [6] \"EBUS_12_2\"    \"EBUS_13_1\"    \"EBUS_13_3\"    \"EBUS_10_2\"    \"EBUS_15_3\"   \n",
       "[11] \"EBUS_51_3\"    \"EBUS_19_1\"    \"EBUS_19_2\"    \"EBUS_12_4\"    \"EBUS_51_2\"   \n",
       "[16] \"BRONCHO_11_1\" \"BRONCHO_11_3\" \"EBUS_10_3\"    \"EBUS_15_4\"   "
      ]
     },
     "metadata": {},
     "output_type": "display_data"
    }
   ],
   "source": [
    "k=2\n",
    "names(which(clus==k))\n",
    "cand_gene<-names(sort(list_scores[[k]],decreasing=T))[1:150]\n",
    "\n",
    "go <- enrichGO(cand_gene ,OrgDb = org.Hs.eg.db, ont='BP',pAdjustMethod = 'fdr',pvalueCutoff = 0.05,       qvalueCutoff = 0.2 , keyType = 'SYMBOL')"
   ]
  },
  {
   "cell_type": "code",
   "execution_count": 20,
   "id": "3e95f538-c80c-49ce-aa49-04f002055764",
   "metadata": {},
   "outputs": [
    {
     "data": {
      "text/html": [
       "<table class=\"dataframe\">\n",
       "<caption>A data.frame: 6 × 9</caption>\n",
       "<thead>\n",
       "\t<tr><th></th><th scope=col>ID</th><th scope=col>Description</th><th scope=col>GeneRatio</th><th scope=col>BgRatio</th><th scope=col>pvalue</th><th scope=col>p.adjust</th><th scope=col>qvalue</th><th scope=col>geneID</th><th scope=col>Count</th></tr>\n",
       "\t<tr><th></th><th scope=col>&lt;chr&gt;</th><th scope=col>&lt;chr&gt;</th><th scope=col>&lt;chr&gt;</th><th scope=col>&lt;chr&gt;</th><th scope=col>&lt;dbl&gt;</th><th scope=col>&lt;dbl&gt;</th><th scope=col>&lt;dbl&gt;</th><th scope=col>&lt;chr&gt;</th><th scope=col>&lt;int&gt;</th></tr>\n",
       "</thead>\n",
       "<tbody>\n",
       "\t<tr><th scope=row>GO:0002181</th><td>GO:0002181</td><td>cytoplasmic translation             </td><td>77/137</td><td>148/18722</td><td>1.243089e-133</td><td>2.213942e-130</td><td>1.926134e-130</td><td>RPL10/RPS18/RPL41/RPLP1/RPL13A/RPS27/RPS19/RPL13/RPS12/RPL19/RPL11/RPS23/RPL27A/RPL23A/RPS3A/RPL28/RPL34/RPS14/RPL32/RPL21/RPS15A/RPL18A/RPS8/RPL30/RPS3/RPL12/RPL39/RPS16/RPS27A/RPL37/RPLP2/RPS4X/RPS25/RPL35A/RPL7/RPL26/RPS2/RPL8/RPS24/RPL29/RPS7/RPL36/RPS5/RPS13/RPS15/RPS6/RPL31/RPS20/RPL9/RPL3/RPL37A/RPL15/RPS9/RPL35/RPS17/RPL18/RPL27/RPS29/RPL14/RPS11/RPL10A/RPL24/RPL22/RPL7A/RPL6/RPS28/RPLP0/RPL23/RPL38/RPS21/RPS10/RPL5/UBA52/RPS26/RPL36A/RPSA/RPL4</td><td>77</td></tr>\n",
       "\t<tr><th scope=row>GO:0042254</th><td>GO:0042254</td><td>ribosome biogenesis                 </td><td>33/137</td><td>299/18722</td><td> 1.107855e-29</td><td> 9.865447e-27</td><td> 8.582959e-27</td><td>RPL10/RPS27/RPS19/RPL11/RPL23A/RPS14/RPS8/RPS16/RPS25/RPL35A/RPL7/RPL26/RPS24/RPS7/RPS5/RPS15/RPS6/RPL3/RPL35/RPS17/RPL27/RPL14/RPL10A/RPL24/RPL7A/RPL6/RPS28/RPLP0/RPL38/RPS21/RPL5/RPSA/NPM1                                                                                                                                                                                                                                                                          </td><td>33</td></tr>\n",
       "\t<tr><th scope=row>GO:0022613</th><td>GO:0022613</td><td>ribonucleoprotein complex biogenesis</td><td>34/137</td><td>463/18722</td><td> 1.166953e-24</td><td> 6.927811e-22</td><td> 6.027210e-22</td><td>RPL10/RPL13A/RPS27/RPS19/RPL11/RPL23A/RPS14/RPS8/RPS16/RPS25/RPL35A/RPL7/RPL26/RPS24/RPS7/RPS5/RPS15/RPS6/RPL3/RPL35/RPS17/RPL27/RPL14/RPL10A/RPL24/RPL7A/RPL6/RPS28/RPLP0/RPL38/RPS21/RPL5/RPSA/NPM1                                                                                                                                                                                                                                                                   </td><td>34</td></tr>\n",
       "\t<tr><th scope=row>GO:0042255</th><td>GO:0042255</td><td>ribosome assembly                   </td><td>17/137</td><td>61/18722 </td><td> 7.269197e-23</td><td> 3.236610e-20</td><td> 2.815857e-20</td><td>RPL10/RPS27/RPS19/RPL11/RPL23A/RPS14/RPS5/RPS15/RPL3/RPL24/RPL6/RPS28/RPLP0/RPL38/RPL5/RPSA/NPM1                                                                                                                                                                                                                                                                                                                                                                        </td><td>17</td></tr>\n",
       "\t<tr><th scope=row>GO:0042273</th><td>GO:0042273</td><td>ribosomal large subunit biogenesis  </td><td>17/137</td><td>72/18722 </td><td> 1.717189e-21</td><td> 6.116627e-19</td><td> 5.321478e-19</td><td>RPL10/RPL11/RPL23A/RPL35A/RPL7/RPL26/RPL3/RPL35/RPL14/RPL10A/RPL24/RPL7A/RPL6/RPLP0/RPL38/RPL5/NPM1                                                                                                                                                                                                                                                                                                                                                                     </td><td>17</td></tr>\n",
       "\t<tr><th scope=row>GO:0042274</th><td>GO:0042274</td><td>ribosomal small subunit biogenesis  </td><td>17/137</td><td>73/18722 </td><td> 2.224892e-21</td><td> 6.604221e-19</td><td> 5.745686e-19</td><td>RPS27/RPS19/RPS14/RPS8/RPS16/RPS25/RPS24/RPS7/RPS5/RPS15/RPS6/RPS17/RPS28/RPL38/RPS21/RPSA/NPM1                                                                                                                                                                                                                                                                                                                                                                         </td><td>17</td></tr>\n",
       "</tbody>\n",
       "</table>\n"
      ],
      "text/latex": [
       "A data.frame: 6 × 9\n",
       "\\begin{tabular}{r|lllllllll}\n",
       "  & ID & Description & GeneRatio & BgRatio & pvalue & p.adjust & qvalue & geneID & Count\\\\\n",
       "  & <chr> & <chr> & <chr> & <chr> & <dbl> & <dbl> & <dbl> & <chr> & <int>\\\\\n",
       "\\hline\n",
       "\tGO:0002181 & GO:0002181 & cytoplasmic translation              & 77/137 & 148/18722 & 1.243089e-133 & 2.213942e-130 & 1.926134e-130 & RPL10/RPS18/RPL41/RPLP1/RPL13A/RPS27/RPS19/RPL13/RPS12/RPL19/RPL11/RPS23/RPL27A/RPL23A/RPS3A/RPL28/RPL34/RPS14/RPL32/RPL21/RPS15A/RPL18A/RPS8/RPL30/RPS3/RPL12/RPL39/RPS16/RPS27A/RPL37/RPLP2/RPS4X/RPS25/RPL35A/RPL7/RPL26/RPS2/RPL8/RPS24/RPL29/RPS7/RPL36/RPS5/RPS13/RPS15/RPS6/RPL31/RPS20/RPL9/RPL3/RPL37A/RPL15/RPS9/RPL35/RPS17/RPL18/RPL27/RPS29/RPL14/RPS11/RPL10A/RPL24/RPL22/RPL7A/RPL6/RPS28/RPLP0/RPL23/RPL38/RPS21/RPS10/RPL5/UBA52/RPS26/RPL36A/RPSA/RPL4 & 77\\\\\n",
       "\tGO:0042254 & GO:0042254 & ribosome biogenesis                  & 33/137 & 299/18722 &  1.107855e-29 &  9.865447e-27 &  8.582959e-27 & RPL10/RPS27/RPS19/RPL11/RPL23A/RPS14/RPS8/RPS16/RPS25/RPL35A/RPL7/RPL26/RPS24/RPS7/RPS5/RPS15/RPS6/RPL3/RPL35/RPS17/RPL27/RPL14/RPL10A/RPL24/RPL7A/RPL6/RPS28/RPLP0/RPL38/RPS21/RPL5/RPSA/NPM1                                                                                                                                                                                                                                                                           & 33\\\\\n",
       "\tGO:0022613 & GO:0022613 & ribonucleoprotein complex biogenesis & 34/137 & 463/18722 &  1.166953e-24 &  6.927811e-22 &  6.027210e-22 & RPL10/RPL13A/RPS27/RPS19/RPL11/RPL23A/RPS14/RPS8/RPS16/RPS25/RPL35A/RPL7/RPL26/RPS24/RPS7/RPS5/RPS15/RPS6/RPL3/RPL35/RPS17/RPL27/RPL14/RPL10A/RPL24/RPL7A/RPL6/RPS28/RPLP0/RPL38/RPS21/RPL5/RPSA/NPM1                                                                                                                                                                                                                                                                    & 34\\\\\n",
       "\tGO:0042255 & GO:0042255 & ribosome assembly                    & 17/137 & 61/18722  &  7.269197e-23 &  3.236610e-20 &  2.815857e-20 & RPL10/RPS27/RPS19/RPL11/RPL23A/RPS14/RPS5/RPS15/RPL3/RPL24/RPL6/RPS28/RPLP0/RPL38/RPL5/RPSA/NPM1                                                                                                                                                                                                                                                                                                                                                                         & 17\\\\\n",
       "\tGO:0042273 & GO:0042273 & ribosomal large subunit biogenesis   & 17/137 & 72/18722  &  1.717189e-21 &  6.116627e-19 &  5.321478e-19 & RPL10/RPL11/RPL23A/RPL35A/RPL7/RPL26/RPL3/RPL35/RPL14/RPL10A/RPL24/RPL7A/RPL6/RPLP0/RPL38/RPL5/NPM1                                                                                                                                                                                                                                                                                                                                                                      & 17\\\\\n",
       "\tGO:0042274 & GO:0042274 & ribosomal small subunit biogenesis   & 17/137 & 73/18722  &  2.224892e-21 &  6.604221e-19 &  5.745686e-19 & RPS27/RPS19/RPS14/RPS8/RPS16/RPS25/RPS24/RPS7/RPS5/RPS15/RPS6/RPS17/RPS28/RPL38/RPS21/RPSA/NPM1                                                                                                                                                                                                                                                                                                                                                                          & 17\\\\\n",
       "\\end{tabular}\n"
      ],
      "text/markdown": [
       "\n",
       "A data.frame: 6 × 9\n",
       "\n",
       "| <!--/--> | ID &lt;chr&gt; | Description &lt;chr&gt; | GeneRatio &lt;chr&gt; | BgRatio &lt;chr&gt; | pvalue &lt;dbl&gt; | p.adjust &lt;dbl&gt; | qvalue &lt;dbl&gt; | geneID &lt;chr&gt; | Count &lt;int&gt; |\n",
       "|---|---|---|---|---|---|---|---|---|---|\n",
       "| GO:0002181 | GO:0002181 | cytoplasmic translation              | 77/137 | 148/18722 | 1.243089e-133 | 2.213942e-130 | 1.926134e-130 | RPL10/RPS18/RPL41/RPLP1/RPL13A/RPS27/RPS19/RPL13/RPS12/RPL19/RPL11/RPS23/RPL27A/RPL23A/RPS3A/RPL28/RPL34/RPS14/RPL32/RPL21/RPS15A/RPL18A/RPS8/RPL30/RPS3/RPL12/RPL39/RPS16/RPS27A/RPL37/RPLP2/RPS4X/RPS25/RPL35A/RPL7/RPL26/RPS2/RPL8/RPS24/RPL29/RPS7/RPL36/RPS5/RPS13/RPS15/RPS6/RPL31/RPS20/RPL9/RPL3/RPL37A/RPL15/RPS9/RPL35/RPS17/RPL18/RPL27/RPS29/RPL14/RPS11/RPL10A/RPL24/RPL22/RPL7A/RPL6/RPS28/RPLP0/RPL23/RPL38/RPS21/RPS10/RPL5/UBA52/RPS26/RPL36A/RPSA/RPL4 | 77 |\n",
       "| GO:0042254 | GO:0042254 | ribosome biogenesis                  | 33/137 | 299/18722 |  1.107855e-29 |  9.865447e-27 |  8.582959e-27 | RPL10/RPS27/RPS19/RPL11/RPL23A/RPS14/RPS8/RPS16/RPS25/RPL35A/RPL7/RPL26/RPS24/RPS7/RPS5/RPS15/RPS6/RPL3/RPL35/RPS17/RPL27/RPL14/RPL10A/RPL24/RPL7A/RPL6/RPS28/RPLP0/RPL38/RPS21/RPL5/RPSA/NPM1                                                                                                                                                                                                                                                                           | 33 |\n",
       "| GO:0022613 | GO:0022613 | ribonucleoprotein complex biogenesis | 34/137 | 463/18722 |  1.166953e-24 |  6.927811e-22 |  6.027210e-22 | RPL10/RPL13A/RPS27/RPS19/RPL11/RPL23A/RPS14/RPS8/RPS16/RPS25/RPL35A/RPL7/RPL26/RPS24/RPS7/RPS5/RPS15/RPS6/RPL3/RPL35/RPS17/RPL27/RPL14/RPL10A/RPL24/RPL7A/RPL6/RPS28/RPLP0/RPL38/RPS21/RPL5/RPSA/NPM1                                                                                                                                                                                                                                                                    | 34 |\n",
       "| GO:0042255 | GO:0042255 | ribosome assembly                    | 17/137 | 61/18722  |  7.269197e-23 |  3.236610e-20 |  2.815857e-20 | RPL10/RPS27/RPS19/RPL11/RPL23A/RPS14/RPS5/RPS15/RPL3/RPL24/RPL6/RPS28/RPLP0/RPL38/RPL5/RPSA/NPM1                                                                                                                                                                                                                                                                                                                                                                         | 17 |\n",
       "| GO:0042273 | GO:0042273 | ribosomal large subunit biogenesis   | 17/137 | 72/18722  |  1.717189e-21 |  6.116627e-19 |  5.321478e-19 | RPL10/RPL11/RPL23A/RPL35A/RPL7/RPL26/RPL3/RPL35/RPL14/RPL10A/RPL24/RPL7A/RPL6/RPLP0/RPL38/RPL5/NPM1                                                                                                                                                                                                                                                                                                                                                                      | 17 |\n",
       "| GO:0042274 | GO:0042274 | ribosomal small subunit biogenesis   | 17/137 | 73/18722  |  2.224892e-21 |  6.604221e-19 |  5.745686e-19 | RPS27/RPS19/RPS14/RPS8/RPS16/RPS25/RPS24/RPS7/RPS5/RPS15/RPS6/RPS17/RPS28/RPL38/RPS21/RPSA/NPM1                                                                                                                                                                                                                                                                                                                                                                          | 17 |\n",
       "\n"
      ],
      "text/plain": [
       "           ID         Description                          GeneRatio BgRatio  \n",
       "GO:0002181 GO:0002181 cytoplasmic translation              77/137    148/18722\n",
       "GO:0042254 GO:0042254 ribosome biogenesis                  33/137    299/18722\n",
       "GO:0022613 GO:0022613 ribonucleoprotein complex biogenesis 34/137    463/18722\n",
       "GO:0042255 GO:0042255 ribosome assembly                    17/137    61/18722 \n",
       "GO:0042273 GO:0042273 ribosomal large subunit biogenesis   17/137    72/18722 \n",
       "GO:0042274 GO:0042274 ribosomal small subunit biogenesis   17/137    73/18722 \n",
       "           pvalue        p.adjust      qvalue       \n",
       "GO:0002181 1.243089e-133 2.213942e-130 1.926134e-130\n",
       "GO:0042254  1.107855e-29  9.865447e-27  8.582959e-27\n",
       "GO:0022613  1.166953e-24  6.927811e-22  6.027210e-22\n",
       "GO:0042255  7.269197e-23  3.236610e-20  2.815857e-20\n",
       "GO:0042273  1.717189e-21  6.116627e-19  5.321478e-19\n",
       "GO:0042274  2.224892e-21  6.604221e-19  5.745686e-19\n",
       "           geneID                                                                                                                                                                                                                                                                                                                                                                                                                                                                  \n",
       "GO:0002181 RPL10/RPS18/RPL41/RPLP1/RPL13A/RPS27/RPS19/RPL13/RPS12/RPL19/RPL11/RPS23/RPL27A/RPL23A/RPS3A/RPL28/RPL34/RPS14/RPL32/RPL21/RPS15A/RPL18A/RPS8/RPL30/RPS3/RPL12/RPL39/RPS16/RPS27A/RPL37/RPLP2/RPS4X/RPS25/RPL35A/RPL7/RPL26/RPS2/RPL8/RPS24/RPL29/RPS7/RPL36/RPS5/RPS13/RPS15/RPS6/RPL31/RPS20/RPL9/RPL3/RPL37A/RPL15/RPS9/RPL35/RPS17/RPL18/RPL27/RPS29/RPL14/RPS11/RPL10A/RPL24/RPL22/RPL7A/RPL6/RPS28/RPLP0/RPL23/RPL38/RPS21/RPS10/RPL5/UBA52/RPS26/RPL36A/RPSA/RPL4\n",
       "GO:0042254 RPL10/RPS27/RPS19/RPL11/RPL23A/RPS14/RPS8/RPS16/RPS25/RPL35A/RPL7/RPL26/RPS24/RPS7/RPS5/RPS15/RPS6/RPL3/RPL35/RPS17/RPL27/RPL14/RPL10A/RPL24/RPL7A/RPL6/RPS28/RPLP0/RPL38/RPS21/RPL5/RPSA/NPM1                                                                                                                                                                                                                                                                          \n",
       "GO:0022613 RPL10/RPL13A/RPS27/RPS19/RPL11/RPL23A/RPS14/RPS8/RPS16/RPS25/RPL35A/RPL7/RPL26/RPS24/RPS7/RPS5/RPS15/RPS6/RPL3/RPL35/RPS17/RPL27/RPL14/RPL10A/RPL24/RPL7A/RPL6/RPS28/RPLP0/RPL38/RPS21/RPL5/RPSA/NPM1                                                                                                                                                                                                                                                                   \n",
       "GO:0042255 RPL10/RPS27/RPS19/RPL11/RPL23A/RPS14/RPS5/RPS15/RPL3/RPL24/RPL6/RPS28/RPLP0/RPL38/RPL5/RPSA/NPM1                                                                                                                                                                                                                                                                                                                                                                        \n",
       "GO:0042273 RPL10/RPL11/RPL23A/RPL35A/RPL7/RPL26/RPL3/RPL35/RPL14/RPL10A/RPL24/RPL7A/RPL6/RPLP0/RPL38/RPL5/NPM1                                                                                                                                                                                                                                                                                                                                                                     \n",
       "GO:0042274 RPS27/RPS19/RPS14/RPS8/RPS16/RPS25/RPS24/RPS7/RPS5/RPS15/RPS6/RPS17/RPS28/RPL38/RPS21/RPSA/NPM1                                                                                                                                                                                                                                                                                                                                                                         \n",
       "           Count\n",
       "GO:0002181 77   \n",
       "GO:0042254 33   \n",
       "GO:0022613 34   \n",
       "GO:0042255 17   \n",
       "GO:0042273 17   \n",
       "GO:0042274 17   "
      ]
     },
     "metadata": {},
     "output_type": "display_data"
    }
   ],
   "source": [
    "head(go)"
   ]
  },
  {
   "cell_type": "markdown",
   "id": "220d850d-679f-4e60-b3aa-d72a1ab22fe2",
   "metadata": {},
   "source": [
    "## try2"
   ]
  },
  {
   "cell_type": "code",
   "execution_count": 21,
   "id": "c3d17dc4-8a37-4e0c-9732-739db49d684e",
   "metadata": {},
   "outputs": [],
   "source": [
    "####### try2\n",
    "patients=c(\"EBUS_10\",\"BRONCHO_11\",\"EBUS_12\",\"EBUS_13\",\"EBUS_15\",\"EBUS_19\",\"EBUS_51\",\"S1\",\"S2\",\"S3\",\"S4\",\"S5\",\"S6\",\"S7\")\n",
    "patients2<-paste0(\"P\", patients)"
   ]
  },
  {
   "cell_type": "code",
   "execution_count": 22,
   "id": "ef754cb2-0f3d-458e-904a-399399aecfd4",
   "metadata": {},
   "outputs": [],
   "source": [
    "library(tidyverse)\n",
    "topn=3000\n",
    "topRank <- 100\n",
    "programG <- list()"
   ]
  },
  {
   "cell_type": "code",
   "execution_count": 23,
   "id": "9313173e-b53b-4a97-9c76-a224f952eb5e",
   "metadata": {},
   "outputs": [],
   "source": [
    "for (i in 1:length(patients)){\n",
    "  filedir <- paste0(\"./nmfSingle/\", patients[i], \"/singature\", topn, \".txt\")\n",
    "  geneloading <- read.table(filedir, header = T, sep = \"\\t\")\n",
    "colnames(geneloading)<-paste0(\"P\", colnames(geneloading))\n",
    "  geneloading$maxC <- apply(geneloading, 1, which.max) %>% \n",
    "    paste0(patients2[i], \"_\", .)\n",
    "  \n",
    "  topgenelist <- rownames_to_column(geneloading, var = \"gene\") %>%\n",
    "      pivot_longer(., cols = starts_with(\"P\"), \n",
    "                  names_to = \"program\", values_to = \"loading\")\n",
    "  \n",
    "  topgenelist <- dplyr::filter(topgenelist, maxC == program) %>% \n",
    "      group_by(maxC) %>% top_n(n = topRank, wt = loading)\n",
    "  topgenelist <- split(topgenelist$gene, topgenelist$maxC)\n",
    "  programG <- c(programG, topgenelist)\n",
    "}"
   ]
  },
  {
   "cell_type": "code",
   "execution_count": 24,
   "id": "b484e089-71ea-45ad-9c1a-7c8a2bb50252",
   "metadata": {},
   "outputs": [],
   "source": [
    "unique(unlist(programG))-> programG_gene"
   ]
  },
  {
   "cell_type": "code",
   "execution_count": 25,
   "id": "e2555cb0-6994-4628-aad1-a8c6761e63e6",
   "metadata": {},
   "outputs": [],
   "source": [
    "library(tidyverse)\n",
    "\n",
    "gene_list=c()\n",
    "merge_list=list()\n",
    "meta_list=c()"
   ]
  },
  {
   "cell_type": "code",
   "execution_count": 26,
   "id": "d00d5e71-7de1-4e65-9743-ce2717c9de0d",
   "metadata": {},
   "outputs": [],
   "source": [
    "for (i in 1:length(patients)){\n",
    "  filedir <- paste0(\"./nmfSingle/\", patients[i], \"/singature\", topn, \".txt\")\n",
    "  geneloading <- read.table(filedir, header = T, sep = \"\\t\")\n",
    "  merge_list[[i]]<-geneloading\n",
    "  gene_list=c(gene_list,rownames(geneloading))\n",
    "  meta_list=c(meta_list,colnames(geneloading))\n",
    "  }"
   ]
  },
  {
   "cell_type": "code",
   "execution_count": 27,
   "id": "d9ed6eaf-16ed-4d16-af52-ef12bde3cde8",
   "metadata": {},
   "outputs": [],
   "source": [
    "unique(gene_list)->gene_list2"
   ]
  },
  {
   "cell_type": "code",
   "execution_count": 28,
   "id": "65f2086a-41c3-4608-a85f-0634b6e6985a",
   "metadata": {},
   "outputs": [],
   "source": [
    "matrix(0,length(gene_list2),length(meta_list))-> M_tmp\n",
    "colnames(M_tmp)<-meta_list\n",
    "rownames(M_tmp)<-gene_list2"
   ]
  },
  {
   "cell_type": "code",
   "execution_count": 29,
   "id": "a5d6bed8-2eed-4a7b-b5c0-d64875436807",
   "metadata": {},
   "outputs": [],
   "source": [
    "for (i in 1:length(merge_list)){\n",
    "geneloading<-as.matrix(merge_list[[i]])\n",
    "M_tmp[ rownames(geneloading),colnames(geneloading)]<-geneloading\n",
    "\n",
    "  }"
   ]
  },
  {
   "cell_type": "code",
   "execution_count": 30,
   "id": "94007cd7-46b4-4955-afcb-b1f6075e53d4",
   "metadata": {},
   "outputs": [],
   "source": [
    "matrix(0,length(programG_gene),length(meta_list))-> M_prog\n",
    "colnames(M_prog)<-meta_list\n",
    "rownames(M_prog)<-programG_gene"
   ]
  },
  {
   "cell_type": "code",
   "execution_count": 31,
   "id": "f7dbbdbc-3da6-4331-9547-3ad10f64c495",
   "metadata": {},
   "outputs": [],
   "source": [
    "for (i in 1:length(meta_list)){\n",
    "M_prog[ programG[[i]], i]<-M_tmp[ programG[[i]], i]\n",
    "\n",
    "  }"
   ]
  },
  {
   "cell_type": "code",
   "execution_count": 32,
   "id": "14658b60-3ceb-4e6a-98b1-02544713ad0f",
   "metadata": {},
   "outputs": [],
   "source": [
    "clusterK = 6\n",
    "M <- cor(M_prog, method = \"pearson\")\n",
    "\n",
    "cor_method=\"average\"\n",
    "library(corrplot)\n",
    "library(RColorBrewer)"
   ]
  },
  {
   "cell_type": "code",
   "execution_count": 33,
   "id": "5b96c4c3-d120-4d68-b4b6-bb1e6788c70c",
   "metadata": {},
   "outputs": [
    {
     "name": "stderr",
     "output_type": "stream",
     "text": [
      "Warning message in ind1:ind2:\n",
      "“numerical expression has 100 elements: only the first used”\n",
      "Warning message in title(title, ...):\n",
      "“\"cl.lim\" is not a graphical parameter”\n"
     ]
    },
    {
     "data": {
      "image/png": "[encoded data removed]",
      "text/plain": [
       "Plot with title “”"
      ]
     },
     "metadata": {
      "image/png": {
       "height": 420,
       "width": 420
      }
     },
     "output_type": "display_data"
    }
   ],
   "source": [
    "#用corrplot画图，便于标出各cluster的黑色方框\n",
    "#pdf(\"scNMF.pdf\")\n",
    "corrplot(M, \n",
    "         method = \"color\", #用颜色展示相关系数，还可以改为\"circle\" (default), \"square\", \"ellipse\", \"number\", \"pie\", \"shade\"\n",
    "         order = \"hclust\", \n",
    "         hclust.method = cor_method, \n",
    "         addrect = clusterK, #画黑色方框\n",
    "         cl.lim=c(-1, 1),\n",
    "         tl.pos = \"n\", #\"n\" means don't add textlabel\n",
    "         col = colorRampPalette(c(\"white\",\"white\",\"white\",\"white\",\"white\",\"#FFFFCC30\",\"#FFFFCC99\",\"yellow\",\"brown\"))(200)) # 运行?brewer.pal查看更多配色方案"
   ]
  },
  {
   "cell_type": "code",
   "execution_count": 37,
   "id": "72b90ad1-cf70-4f66-b02d-b49e05f67610",
   "metadata": {},
   "outputs": [
    {
     "data": {
      "text/plain": [
       "clus\n",
       " 1  2  3  4  5  6 \n",
       " 6  1  4 21  2 22 "
      ]
     },
     "metadata": {},
     "output_type": "display_data"
    }
   ],
   "source": [
    "cororder <- corrMatOrder(M, order = \"hclust\", hclust.method = cor_method)\n",
    "M.hc <- M[cororder, cororder]\n",
    "tree <- hclust(as.dist(1 - M.hc), method = cor_method)\n",
    "clus <- cutree(tree, clusterK)\n",
    "table(clus)"
   ]
  },
  {
   "cell_type": "code",
   "execution_count": 38,
   "id": "31759afb-6602-4285-89b0-380b2727fd75",
   "metadata": {},
   "outputs": [
    {
     "name": "stderr",
     "output_type": "stream",
     "text": [
      "\n",
      "Attaching package: ‘rlist’\n",
      "\n",
      "\n",
      "The following object is masked from ‘package:S4Vectors’:\n",
      "\n",
      "    List\n",
      "\n",
      "\n"
     ]
    }
   ],
   "source": [
    "library(rlist)\n",
    "\n",
    "M_prog-> M_tmp2\n",
    "#M_tmp-> M_tmp2\n",
    "list_scores=list()"
   ]
  },
  {
   "cell_type": "code",
   "execution_count": 39,
   "id": "d048b495-a7ae-4cb1-8f06-7cda5a1eeab1",
   "metadata": {
    "scrolled": true,
    "tags": []
   },
   "outputs": [
    {
     "data": {
      "text/html": [
       "<style>\n",
       ".list-inline {list-style: none; margin:0; padding: 0}\n",
       ".list-inline>li {display: inline-block}\n",
       ".list-inline>li:not(:last-child)::after {content: \"\\00b7\"; padding: 0 .5ex}\n",
       "</style>\n",
       "<ol class=list-inline><li>2022</li><li>56</li></ol>\n"
      ],
      "text/latex": [
       "\\begin{enumerate*}\n",
       "\\item 2022\n",
       "\\item 56\n",
       "\\end{enumerate*}\n"
      ],
      "text/markdown": [
       "1. 2022\n",
       "2. 56\n",
       "\n",
       "\n"
      ],
      "text/plain": [
       "[1] 2022   56"
      ]
     },
     "metadata": {},
     "output_type": "display_data"
    },
    {
     "data": {
      "text/html": [
       "<table class=\"dataframe\">\n",
       "<caption>A matrix: 6 × 56 of type dbl</caption>\n",
       "<thead>\n",
       "\t<tr><th></th><th scope=col>EBUS_10_1</th><th scope=col>EBUS_10_2</th><th scope=col>EBUS_10_3</th><th scope=col>EBUS_10_4</th><th scope=col>BRONCHO_11_1</th><th scope=col>BRONCHO_11_2</th><th scope=col>BRONCHO_11_3</th><th scope=col>BRONCHO_11_4</th><th scope=col>EBUS_12_1</th><th scope=col>EBUS_12_2</th><th scope=col>⋯</th><th scope=col>S5_3</th><th scope=col>S5_4</th><th scope=col>S6_1</th><th scope=col>S6_2</th><th scope=col>S6_3</th><th scope=col>S6_4</th><th scope=col>S7_1</th><th scope=col>S7_2</th><th scope=col>S7_3</th><th scope=col>S7_4</th></tr>\n",
       "</thead>\n",
       "<tbody>\n",
       "\t<tr><th scope=row>AGR3</th><td>5.574382</td><td>0</td><td>0</td><td>0</td><td>0</td><td>0</td><td>0</td><td>0</td><td>0</td><td>0</td><td>⋯</td><td>0</td><td>0</td><td>0</td><td>0</td><td>0</td><td>0</td><td>0</td><td>0</td><td>0</td><td>0</td></tr>\n",
       "\t<tr><th scope=row>ALDH1A1</th><td>6.307470</td><td>0</td><td>0</td><td>0</td><td>0</td><td>0</td><td>0</td><td>0</td><td>0</td><td>0</td><td>⋯</td><td>0</td><td>0</td><td>0</td><td>0</td><td>0</td><td>0</td><td>0</td><td>0</td><td>0</td><td>0</td></tr>\n",
       "\t<tr><th scope=row>ARHGAP18</th><td>4.052426</td><td>0</td><td>0</td><td>0</td><td>0</td><td>0</td><td>0</td><td>0</td><td>0</td><td>0</td><td>⋯</td><td>0</td><td>0</td><td>0</td><td>0</td><td>0</td><td>0</td><td>0</td><td>0</td><td>0</td><td>0</td></tr>\n",
       "\t<tr><th scope=row>ARL3</th><td>4.222625</td><td>0</td><td>0</td><td>0</td><td>0</td><td>0</td><td>0</td><td>0</td><td>0</td><td>0</td><td>⋯</td><td>0</td><td>0</td><td>0</td><td>0</td><td>0</td><td>0</td><td>0</td><td>0</td><td>0</td><td>0</td></tr>\n",
       "\t<tr><th scope=row>BASP1</th><td>4.728308</td><td>0</td><td>0</td><td>0</td><td>0</td><td>0</td><td>0</td><td>0</td><td>0</td><td>0</td><td>⋯</td><td>0</td><td>0</td><td>0</td><td>0</td><td>0</td><td>0</td><td>0</td><td>0</td><td>0</td><td>0</td></tr>\n",
       "\t<tr><th scope=row>C11orf88</th><td>4.990843</td><td>0</td><td>0</td><td>0</td><td>0</td><td>0</td><td>0</td><td>0</td><td>0</td><td>0</td><td>⋯</td><td>0</td><td>0</td><td>0</td><td>0</td><td>0</td><td>0</td><td>0</td><td>0</td><td>0</td><td>0</td></tr>\n",
       "</tbody>\n",
       "</table>\n"
      ],
      "text/latex": [
       "A matrix: 6 × 56 of type dbl\n",
       "\\begin{tabular}{r|lllllllllllllllllllll}\n",
       "  & EBUS\\_10\\_1 & EBUS\\_10\\_2 & EBUS\\_10\\_3 & EBUS\\_10\\_4 & BRONCHO\\_11\\_1 & BRONCHO\\_11\\_2 & BRONCHO\\_11\\_3 & BRONCHO\\_11\\_4 & EBUS\\_12\\_1 & EBUS\\_12\\_2 & ⋯ & S5\\_3 & S5\\_4 & S6\\_1 & S6\\_2 & S6\\_3 & S6\\_4 & S7\\_1 & S7\\_2 & S7\\_3 & S7\\_4\\\\\n",
       "\\hline\n",
       "\tAGR3 & 5.574382 & 0 & 0 & 0 & 0 & 0 & 0 & 0 & 0 & 0 & ⋯ & 0 & 0 & 0 & 0 & 0 & 0 & 0 & 0 & 0 & 0\\\\\n",
       "\tALDH1A1 & 6.307470 & 0 & 0 & 0 & 0 & 0 & 0 & 0 & 0 & 0 & ⋯ & 0 & 0 & 0 & 0 & 0 & 0 & 0 & 0 & 0 & 0\\\\\n",
       "\tARHGAP18 & 4.052426 & 0 & 0 & 0 & 0 & 0 & 0 & 0 & 0 & 0 & ⋯ & 0 & 0 & 0 & 0 & 0 & 0 & 0 & 0 & 0 & 0\\\\\n",
       "\tARL3 & 4.222625 & 0 & 0 & 0 & 0 & 0 & 0 & 0 & 0 & 0 & ⋯ & 0 & 0 & 0 & 0 & 0 & 0 & 0 & 0 & 0 & 0\\\\\n",
       "\tBASP1 & 4.728308 & 0 & 0 & 0 & 0 & 0 & 0 & 0 & 0 & 0 & ⋯ & 0 & 0 & 0 & 0 & 0 & 0 & 0 & 0 & 0 & 0\\\\\n",
       "\tC11orf88 & 4.990843 & 0 & 0 & 0 & 0 & 0 & 0 & 0 & 0 & 0 & ⋯ & 0 & 0 & 0 & 0 & 0 & 0 & 0 & 0 & 0 & 0\\\\\n",
       "\\end{tabular}\n"
      ],
      "text/markdown": [
       "\n",
       "A matrix: 6 × 56 of type dbl\n",
       "\n",
       "| <!--/--> | EBUS_10_1 | EBUS_10_2 | EBUS_10_3 | EBUS_10_4 | BRONCHO_11_1 | BRONCHO_11_2 | BRONCHO_11_3 | BRONCHO_11_4 | EBUS_12_1 | EBUS_12_2 | ⋯ | S5_3 | S5_4 | S6_1 | S6_2 | S6_3 | S6_4 | S7_1 | S7_2 | S7_3 | S7_4 |\n",
       "|---|---|---|---|---|---|---|---|---|---|---|---|---|---|---|---|---|---|---|---|---|---|\n",
       "| AGR3 | 5.574382 | 0 | 0 | 0 | 0 | 0 | 0 | 0 | 0 | 0 | ⋯ | 0 | 0 | 0 | 0 | 0 | 0 | 0 | 0 | 0 | 0 |\n",
       "| ALDH1A1 | 6.307470 | 0 | 0 | 0 | 0 | 0 | 0 | 0 | 0 | 0 | ⋯ | 0 | 0 | 0 | 0 | 0 | 0 | 0 | 0 | 0 | 0 |\n",
       "| ARHGAP18 | 4.052426 | 0 | 0 | 0 | 0 | 0 | 0 | 0 | 0 | 0 | ⋯ | 0 | 0 | 0 | 0 | 0 | 0 | 0 | 0 | 0 | 0 |\n",
       "| ARL3 | 4.222625 | 0 | 0 | 0 | 0 | 0 | 0 | 0 | 0 | 0 | ⋯ | 0 | 0 | 0 | 0 | 0 | 0 | 0 | 0 | 0 | 0 |\n",
       "| BASP1 | 4.728308 | 0 | 0 | 0 | 0 | 0 | 0 | 0 | 0 | 0 | ⋯ | 0 | 0 | 0 | 0 | 0 | 0 | 0 | 0 | 0 | 0 |\n",
       "| C11orf88 | 4.990843 | 0 | 0 | 0 | 0 | 0 | 0 | 0 | 0 | 0 | ⋯ | 0 | 0 | 0 | 0 | 0 | 0 | 0 | 0 | 0 | 0 |\n",
       "\n"
      ],
      "text/plain": [
       "         EBUS_10_1 EBUS_10_2 EBUS_10_3 EBUS_10_4 BRONCHO_11_1 BRONCHO_11_2\n",
       "AGR3     5.574382  0         0         0         0            0           \n",
       "ALDH1A1  6.307470  0         0         0         0            0           \n",
       "ARHGAP18 4.052426  0         0         0         0            0           \n",
       "ARL3     4.222625  0         0         0         0            0           \n",
       "BASP1    4.728308  0         0         0         0            0           \n",
       "C11orf88 4.990843  0         0         0         0            0           \n",
       "         BRONCHO_11_3 BRONCHO_11_4 EBUS_12_1 EBUS_12_2 ⋯ S5_3 S5_4 S6_1 S6_2\n",
       "AGR3     0            0            0         0         ⋯ 0    0    0    0   \n",
       "ALDH1A1  0            0            0         0         ⋯ 0    0    0    0   \n",
       "ARHGAP18 0            0            0         0         ⋯ 0    0    0    0   \n",
       "ARL3     0            0            0         0         ⋯ 0    0    0    0   \n",
       "BASP1    0            0            0         0         ⋯ 0    0    0    0   \n",
       "C11orf88 0            0            0         0         ⋯ 0    0    0    0   \n",
       "         S6_3 S6_4 S7_1 S7_2 S7_3 S7_4\n",
       "AGR3     0    0    0    0    0    0   \n",
       "ALDH1A1  0    0    0    0    0    0   \n",
       "ARHGAP18 0    0    0    0    0    0   \n",
       "ARL3     0    0    0    0    0    0   \n",
       "BASP1    0    0    0    0    0    0   \n",
       "C11orf88 0    0    0    0    0    0   "
      ]
     },
     "metadata": {},
     "output_type": "display_data"
    }
   ],
   "source": [
    "dim(M_tmp2)\n",
    "head(M_tmp2)\n",
    "# str(programG)"
   ]
  },
  {
   "cell_type": "code",
   "execution_count": 40,
   "id": "b0a3a989-662e-462a-8bc5-7f2033626389",
   "metadata": {},
   "outputs": [],
   "source": [
    "for(k in 1: clusterK)\n",
    "{\n",
    " names(which(clus==k))->select_meta\n",
    "  M_tmp2[, select_meta]->M_select\n",
    "  as.matrix(M_select)-> M_select\n",
    "  \n",
    "  select_meta <- paste0(\"P\", select_meta)\n",
    "  \n",
    "  colnames(M_select)<-select_meta\n",
    "  unique(unlist(programG[select_meta]))-> select_genes\n",
    "  new_matrix=matrix(0,length(select_genes),length(select_meta))\n",
    "  colnames(new_matrix)<-select_meta\n",
    "  rownames(new_matrix)<-select_genes\n",
    "  for(kk in 1:length(select_meta))\n",
    "  {\n",
    "    new_matrix[programG[select_meta[kk]][[1]],select_meta[kk]]<-M_select[programG[select_meta[kk]][[1]],select_meta[kk]]\n",
    "  }\n",
    "  \n",
    "  rowMeans(new_matrix)->average_scores\n",
    "  list_scores[[k]]<-average_scores\n",
    "}"
   ]
  },
  {
   "cell_type": "code",
   "execution_count": 41,
   "id": "7c6b09b0-5dad-429b-b3c6-07790778e805",
   "metadata": {},
   "outputs": [
    {
     "name": "stdout",
     "output_type": "stream",
     "text": [
      "List of 6\n",
      " $ : Named num [1:274] 3.15 12.71 6.81 9.61 6.34 ...\n",
      "  ..- attr(*, \"names\")= chr [1:274] \"ACYP1\" \"ARL6IP1\" \"ASF1B\" \"ASPM\" ...\n",
      " $ : Named num [1:100] 15.46 12.07 9.09 15.55 9.06 ...\n",
      "  ..- attr(*, \"names\")= chr [1:100] \"ABCA13\" \"ACTN4\" \"ADD3\" \"AIF1\" ...\n",
      " $ : Named num [1:292] 1.39 2.09 1.01 1.06 1.18 ...\n",
      "  ..- attr(*, \"names\")= chr [1:292] \"AGR3\" \"ALDH1A1\" \"ARHGAP18\" \"ARL3\" ...\n",
      " $ : Named num [1:530] 2.19 0.795 0.682 1.645 2.653 ...\n",
      "  ..- attr(*, \"names\")= chr [1:530] \"ANAPC11\" \"APRT\" \"ARPC1A\" \"ARPC1B\" ...\n",
      " $ : Named num [1:194] 3.35 5.31 4.09 5.98 4.23 ...\n",
      "  ..- attr(*, \"names\")= chr [1:194] \"ACOX1\" \"ACTN1\" \"ADK\" \"AKAP9\" ...\n",
      " $ : Named num [1:1117] 0.279 0.459 1.489 0.439 2.511 ...\n",
      "  ..- attr(*, \"names\")= chr [1:1117] \"AGT\" \"ANAPC11\" \"ARPC1B\" \"ATP6V1F\" ...\n"
     ]
    }
   ],
   "source": [
    "str(list_scores)"
   ]
  },
  {
   "cell_type": "code",
   "execution_count": 42,
   "id": "e35ab306-9c0c-45d7-971f-b517ae4348fd",
   "metadata": {},
   "outputs": [],
   "source": [
    "library(org.Hs.eg.db)\n",
    "library(clusterProfiler)"
   ]
  },
  {
   "cell_type": "code",
   "execution_count": 73,
   "id": "63289057-72ab-4aff-ae86-113ac6147c54",
   "metadata": {},
   "outputs": [
    {
     "data": {
      "text/html": [
       "<style>\n",
       ".list-inline {list-style: none; margin:0; padding: 0}\n",
       ".list-inline>li {display: inline-block}\n",
       ".list-inline>li:not(:last-child)::after {content: \"\\00b7\"; padding: 0 .5ex}\n",
       "</style>\n",
       "<ol class=list-inline><li>'EBUS_12_3'</li><li>'EBUS_13_3'</li><li>'S2_2'</li><li>'S7_2'</li><li>'EBUS_13_4'</li><li>'EBUS_15_2'</li><li>'EBUS_10_4'</li><li>'EBUS_19_4'</li><li>'EBUS_51_4'</li><li>'EBUS_12_1'</li><li>'BRONCHO_11_4'</li><li>'S7_3'</li><li>'S6_2'</li><li>'EBUS_13_2'</li><li>'S4_2'</li><li>'S2_3'</li><li>'EBUS_15_1'</li><li>'EBUS_51_1'</li><li>'S3_1'</li><li>'BRONCHO_11_3'</li><li>'EBUS_19_3'</li><li>'S1_2'</li></ol>\n"
      ],
      "text/latex": [
       "\\begin{enumerate*}\n",
       "\\item 'EBUS\\_12\\_3'\n",
       "\\item 'EBUS\\_13\\_3'\n",
       "\\item 'S2\\_2'\n",
       "\\item 'S7\\_2'\n",
       "\\item 'EBUS\\_13\\_4'\n",
       "\\item 'EBUS\\_15\\_2'\n",
       "\\item 'EBUS\\_10\\_4'\n",
       "\\item 'EBUS\\_19\\_4'\n",
       "\\item 'EBUS\\_51\\_4'\n",
       "\\item 'EBUS\\_12\\_1'\n",
       "\\item 'BRONCHO\\_11\\_4'\n",
       "\\item 'S7\\_3'\n",
       "\\item 'S6\\_2'\n",
       "\\item 'EBUS\\_13\\_2'\n",
       "\\item 'S4\\_2'\n",
       "\\item 'S2\\_3'\n",
       "\\item 'EBUS\\_15\\_1'\n",
       "\\item 'EBUS\\_51\\_1'\n",
       "\\item 'S3\\_1'\n",
       "\\item 'BRONCHO\\_11\\_3'\n",
       "\\item 'EBUS\\_19\\_3'\n",
       "\\item 'S1\\_2'\n",
       "\\end{enumerate*}\n"
      ],
      "text/markdown": [
       "1. 'EBUS_12_3'\n",
       "2. 'EBUS_13_3'\n",
       "3. 'S2_2'\n",
       "4. 'S7_2'\n",
       "5. 'EBUS_13_4'\n",
       "6. 'EBUS_15_2'\n",
       "7. 'EBUS_10_4'\n",
       "8. 'EBUS_19_4'\n",
       "9. 'EBUS_51_4'\n",
       "10. 'EBUS_12_1'\n",
       "11. 'BRONCHO_11_4'\n",
       "12. 'S7_3'\n",
       "13. 'S6_2'\n",
       "14. 'EBUS_13_2'\n",
       "15. 'S4_2'\n",
       "16. 'S2_3'\n",
       "17. 'EBUS_15_1'\n",
       "18. 'EBUS_51_1'\n",
       "19. 'S3_1'\n",
       "20. 'BRONCHO_11_3'\n",
       "21. 'EBUS_19_3'\n",
       "22. 'S1_2'\n",
       "\n",
       "\n"
      ],
      "text/plain": [
       " [1] \"EBUS_12_3\"    \"EBUS_13_3\"    \"S2_2\"         \"S7_2\"         \"EBUS_13_4\"   \n",
       " [6] \"EBUS_15_2\"    \"EBUS_10_4\"    \"EBUS_19_4\"    \"EBUS_51_4\"    \"EBUS_12_1\"   \n",
       "[11] \"BRONCHO_11_4\" \"S7_3\"         \"S6_2\"         \"EBUS_13_2\"    \"S4_2\"        \n",
       "[16] \"S2_3\"         \"EBUS_15_1\"    \"EBUS_51_1\"    \"S3_1\"         \"BRONCHO_11_3\"\n",
       "[21] \"EBUS_19_3\"    \"S1_2\"        "
      ]
     },
     "metadata": {},
     "output_type": "display_data"
    }
   ],
   "source": [
    "k=6 # 1-signature1, 3-signature2, 4-signature3, 6-signature4\n",
    "\n",
    "names(which(clus==k))\n",
    "list_scores[[k]]->tmp_kk\n",
    " tmp_kk2<-tmp_kk[which(!grepl(\"^MT-\",names(tmp_kk)))]\n",
    "cand_gene<-names(sort(tmp_kk2,decreasing=T))[1:200]\n",
    "go <- enrichGO(cand_gene ,OrgDb = org.Hs.eg.db, ont='BP',pAdjustMethod = 'fdr',pvalueCutoff = 0.05,       qvalueCutoff = 0.2 , keyType = 'SYMBOL')\n",
    "write.csv(go,file = \"table_out/3.2_NMF_signature4_GO_enrich_term.csv\", quote = F)"
   ]
  },
  {
   "cell_type": "code",
   "execution_count": 74,
   "id": "79d16370-02b7-454c-b90a-fd9bcbbd9d1f",
   "metadata": {},
   "outputs": [
    {
     "name": "stderr",
     "output_type": "stream",
     "text": [
      "Centering and scaling data matrix\n",
      "\n"
     ]
    }
   ],
   "source": [
    "# readRDS(\"data_out/3.2.tumorcell.rds\")->tumorcell\n",
    "# subset(tumorcell , orig.ident %in% patients )-> tumorcell\n",
    "ScaleData(tumorcell,feature=cand_gene)-> tumorcell2\n",
    "colMeans(tumorcell2$RNA@scale.data)->cand_value\n",
    "tumorcell2[[\"cand__value\"]]<-cand_value\n",
    "tumorcell2@meta.data[,c(\"orig.ident\",\"cand__value\")]->select_data"
   ]
  },
  {
   "cell_type": "code",
   "execution_count": 75,
   "id": "7fffa4fa-da69-458e-aa03-f15049cb5ae7",
   "metadata": {},
   "outputs": [
    {
     "data": {
      "image/png": "[encoded data removed]",
      "text/plain": [
       "plot without title"
      ]
     },
     "metadata": {
      "image/png": {
       "height": 420,
       "width": 420
      }
     },
     "output_type": "display_data"
    }
   ],
   "source": [
    "p <- ggplot(select_data, aes(x=factor(orig.ident), y= cand__value, fill=factor(orig.ident)))\n",
    "p + geom_violin(colour=NA) +\n",
    "theme_bw() +theme(axis.text.x = element_text(angle = 45, hjust = 1)) + NoLegend()\n"
   ]
  },
  {
   "cell_type": "code",
   "execution_count": 77,
   "id": "98d18ccb-8e94-4800-8845-0664cab0d168",
   "metadata": {},
   "outputs": [
    {
     "data": {
      "text/plain": [
       "R version 4.1.2 (2021-11-01)\n",
       "Platform: x86_64-conda-linux-gnu (64-bit)\n",
       "Running under: Ubuntu 16.04.7 LTS\n",
       "\n",
       "Matrix products: default\n",
       "BLAS/LAPACK: /home/inspur/miniconda3/envs/sclc_ldk/lib/libopenblasp-r0.3.18.so\n",
       "\n",
       "locale:\n",
       " [1] LC_CTYPE=zh_CN.UTF-8       LC_NUMERIC=C              \n",
       " [3] LC_TIME=zh_CN.UTF-8        LC_COLLATE=en_US.UTF-8    \n",
       " [5] LC_MONETARY=zh_CN.UTF-8    LC_MESSAGES=en_US.UTF-8   \n",
       " [7] LC_PAPER=zh_CN.UTF-8       LC_NAME=C                 \n",
       " [9] LC_ADDRESS=C               LC_TELEPHONE=C            \n",
       "[11] LC_MEASUREMENT=zh_CN.UTF-8 LC_IDENTIFICATION=C       \n",
       "\n",
       "attached base packages:\n",
       "[1] stats4    stats     graphics  grDevices utils     datasets  methods  \n",
       "[8] base     \n",
       "\n",
       "other attached packages:\n",
       " [1] rlist_0.4.6.2         AUCell_1.16.0         clusterProfiler_4.2.1\n",
       " [4] org.Hs.eg.db_3.14.0   AnnotationDbi_1.56.2  IRanges_2.28.0       \n",
       " [7] S4Vectors_0.32.3      corrplot_0.92         RColorBrewer_1.1-2   \n",
       "[10] SeuratObject_4.0.4    Seurat_4.0.6          NMF_0.21.0           \n",
       "[13] Biobase_2.54.0        BiocGenerics_0.40.0   cluster_2.1.2        \n",
       "[16] rngtools_1.5.2        pkgmaker_0.32.2       registry_0.5-1       \n",
       "[19] forcats_0.5.1         stringr_1.4.0         dplyr_1.0.7          \n",
       "[22] purrr_0.3.4           readr_2.1.1           tidyr_1.1.4          \n",
       "[25] tibble_3.1.6          ggplot2_3.3.5         tidyverse_1.3.1      \n",
       "\n",
       "loaded via a namespace (and not attached):\n",
       "  [1] pbdZMQ_0.3-6                scattermore_0.7            \n",
       "  [3] R.methodsS3_1.8.1           bit64_4.0.5                \n",
       "  [5] irlba_2.3.5                 DelayedArray_0.20.0        \n",
       "  [7] R.utils_2.11.0              data.table_1.14.2          \n",
       "  [9] rpart_4.1-15                KEGGREST_1.34.0            \n",
       " [11] RCurl_1.98-1.5              doParallel_1.0.16          \n",
       " [13] generics_0.1.1              cowplot_1.1.1              \n",
       " [15] RSQLite_2.2.9               shadowtext_0.1.0           \n",
       " [17] RANN_2.6.1                  future_1.23.0              \n",
       " [19] bit_4.0.4                   tzdb_0.2.0                 \n",
       " [21] enrichplot_1.14.1           spatstat.data_2.1-2        \n",
       " [23] xml2_1.3.3                  lubridate_1.8.0            \n",
       " [25] httpuv_1.6.4                SummarizedExperiment_1.24.0\n",
       " [27] assertthat_0.2.1            viridis_0.6.2              \n",
       " [29] hms_1.1.1                   evaluate_0.14              \n",
       " [31] promises_1.2.0.1            fansi_0.4.2                \n",
       " [33] dbplyr_2.1.1                readxl_1.3.1               \n",
       " [35] igraph_1.2.10               DBI_1.1.2                  \n",
       " [37] htmlwidgets_1.5.4           spatstat.geom_2.3-1        \n",
       " [39] ellipsis_0.3.2              backports_1.4.1            \n",
       " [41] annotate_1.72.0             gridBase_0.4-7             \n",
       " [43] deldir_1.0-6                MatrixGenerics_1.6.0       \n",
       " [45] vctrs_0.3.8                 ROCR_1.0-11                \n",
       " [47] abind_1.4-5                 cachem_1.0.6               \n",
       " [49] withr_2.4.3                 ggforce_0.3.3              \n",
       " [51] sctransform_0.3.2           treeio_1.18.1              \n",
       " [53] goftest_1.2-3               DOSE_3.20.1                \n",
       " [55] ape_5.6                     IRdisplay_1.0              \n",
       " [57] lazyeval_0.2.2              crayon_1.4.2               \n",
       " [59] labeling_0.4.2              pkgconfig_2.0.3            \n",
       " [61] tweenr_1.0.2                GenomeInfoDb_1.30.0        \n",
       " [63] nlme_3.1-153                rlang_0.4.12               \n",
       " [65] globals_0.14.0              lifecycle_1.0.1            \n",
       " [67] miniUI_0.1.1.1              downloader_0.4             \n",
       " [69] modelr_0.1.8                cellranger_1.1.0           \n",
       " [71] polyclip_1.10-0             matrixStats_0.61.0         \n",
       " [73] lmtest_0.9-39               graph_1.72.0               \n",
       " [75] Matrix_1.4-0                aplot_0.1.1                \n",
       " [77] IRkernel_1.2                zoo_1.8-9                  \n",
       " [79] reprex_2.0.1                base64enc_0.1-3            \n",
       " [81] ggridges_0.5.3              png_0.1-7                  \n",
       " [83] viridisLite_0.4.0           bitops_1.0-7               \n",
       " [85] R.oo_1.24.0                 KernSmooth_2.23-20         \n",
       " [87] Biostrings_2.62.0           blob_1.2.2                 \n",
       " [89] qvalue_2.26.0               parallelly_1.30.0          \n",
       " [91] gridGraphics_0.5-1          scales_1.1.1               \n",
       " [93] memoise_2.0.1               GSEABase_1.56.0            \n",
       " [95] magrittr_2.0.1              plyr_1.8.6                 \n",
       " [97] ica_1.0-2                   zlibbioc_1.40.0            \n",
       " [99] compiler_4.1.2              scatterpie_0.1.7           \n",
       "[101] fitdistrplus_1.1-6          cli_3.1.0                  \n",
       "[103] XVector_0.34.0              listenv_0.8.0              \n",
       "[105] patchwork_1.1.1             pbapply_1.5-0              \n",
       "[107] MASS_7.3-54                 mgcv_1.8-38                \n",
       "[109] tidyselect_1.1.1            stringi_1.7.6              \n",
       "[111] GOSemSim_2.20.0             ggrepel_0.9.1              \n",
       "[113] grid_4.1.2                  fastmatch_1.1-3            \n",
       "[115] tools_4.1.2                 future.apply_1.8.1         \n",
       "[117] parallel_4.1.2              rstudioapi_0.13            \n",
       "[119] uuid_1.0-3                  foreach_1.5.1              \n",
       "[121] gridExtra_2.3               farver_2.1.0               \n",
       "[123] Rtsne_0.15                  ggraph_2.0.5               \n",
       "[125] digest_0.6.29               shiny_1.7.1                \n",
       "[127] Rcpp_1.0.7                  GenomicRanges_1.46.1       \n",
       "[129] broom_0.7.10                later_1.2.0                \n",
       "[131] RcppAnnoy_0.0.19            httr_1.4.2                 \n",
       "[133] colorspace_2.0-2            rvest_1.0.2                \n",
       "[135] XML_3.99-0.8                fs_1.5.2                   \n",
       "[137] tensor_1.5                  reticulate_1.22            \n",
       "[139] splines_4.1.2               uwot_0.1.11                \n",
       "[141] yulab.utils_0.0.4           tidytree_0.3.6             \n",
       "[143] spatstat.utils_2.3-0        graphlayouts_0.7.2         \n",
       "[145] ggplotify_0.1.0             plotly_4.10.0              \n",
       "[147] xtable_1.8-4                jsonlite_1.7.2             \n",
       "[149] ggtree_3.2.1                tidygraph_1.2.0            \n",
       "[151] ggfun_0.0.4                 R6_2.5.1                   \n",
       "[153] pillar_1.6.4                htmltools_0.5.2            \n",
       "[155] mime_0.12                   glue_1.6.0                 \n",
       "[157] fastmap_1.1.0               BiocParallel_1.28.3        \n",
       "[159] codetools_0.2-18            fgsea_1.20.0               \n",
       "[161] utf8_1.2.2                  lattice_0.20-45            \n",
       "[163] spatstat.sparse_2.1-0       leiden_0.3.9               \n",
       "[165] GO.db_3.14.0                survival_3.2-13            \n",
       "[167] repr_1.1.3                  munsell_0.5.0              \n",
       "[169] DO.db_2.9                   GenomeInfoDbData_1.2.7     \n",
       "[171] iterators_1.0.13            haven_2.4.3                \n",
       "[173] reshape2_1.4.4              gtable_0.3.0               \n",
       "[175] spatstat.core_2.3-2        "
      ]
     },
     "metadata": {},
     "output_type": "display_data"
    }
   ],
   "source": [
    "sessionInfo()"
   ]
  },
  {
   "cell_type": "code",
   "execution_count": 1,
   "id": "1f47b8ce-333b-40f8-9cd6-0894fdf13610",
   "metadata": {},
   "outputs": [
    {
     "data": {
      "text/html": [],
      "text/latex": [],
      "text/markdown": [],
      "text/plain": [
       "character(0)"
      ]
     },
     "metadata": {},
     "output_type": "display_data"
    }
   ],
   "source": []
  }
 ],
 "metadata": {
  "kernelspec": {
   "display_name": "ldk",
   "language": "R",
   "name": "ldk"
  },
  "language_info": {
   "codemirror_mode": "r",
   "file_extension": ".r",
   "mimetype": "text/x-r-source",
   "name": "R",
   "pygments_lexer": "r",
   "version": "4.1.2"
  }
 },
 "nbformat": 4,
 "nbformat_minor": 5
}
